{
 "cells": [
  {
   "cell_type": "code",
   "execution_count": 1,
   "id": "d6899627",
   "metadata": {},
   "outputs": [
    {
     "name": "stderr",
     "output_type": "stream",
     "text": [
      "/work/FAC/FGSE/IDYST/tbeucler/default/saranya/miniconda3/envs/unil_tigramite/lib/python3.8/site-packages/tigramite/models.py:29: UserWarning: [Errno 2] No such file or directory: '/work/FAC/FGSE/IDYST/tbeucler/default/saranya/miniconda3/envs/unil_tigramite/lib/python3.8/site-packages/tigramite/../versions.py'\n",
      "  warnings.warn(str(e))\n",
      "/work/FAC/FGSE/IDYST/tbeucler/default/saranya/miniconda3/envs/unil_tigramite/lib/python3.8/site-packages/tigramite/plotting.py:26: UserWarning: [Errno 2] No such file or directory: '/work/FAC/FGSE/IDYST/tbeucler/default/saranya/miniconda3/envs/unil_tigramite/lib/python3.8/site-packages/tigramite/../versions.py'\n",
      "  warnings.warn(str(e))\n",
      "/work/FAC/FGSE/IDYST/tbeucler/default/saranya/miniconda3/envs/unil_tigramite/lib/python3.8/site-packages/tigramite/independence_tests/gpdc.py:27: UserWarning: [Errno 2] No such file or directory: '/work/FAC/FGSE/IDYST/tbeucler/default/saranya/miniconda3/envs/unil_tigramite/lib/python3.8/site-packages/tigramite/independence_tests/../../versions.py'\n",
      "  warnings.warn(str(e))\n",
      "/work/FAC/FGSE/IDYST/tbeucler/default/saranya/miniconda3/envs/unil_tigramite/lib/python3.8/site-packages/tigramite/independence_tests/gpdc_torch.py:33: UserWarning: [Errno 2] No such file or directory: '/work/FAC/FGSE/IDYST/tbeucler/default/saranya/miniconda3/envs/unil_tigramite/lib/python3.8/site-packages/tigramite/independence_tests/../../versions.py'\n",
      "  warnings.warn(str(e))\n"
     ]
    }
   ],
   "source": [
    "# Imports\n",
    "import numpy as np\n",
    "import matplotlib\n",
    "from matplotlib import pyplot as plt\n",
    "%matplotlib inline     \n",
    "import pandas as pd\n",
    "import numpy as np\n",
    "import glob,os\n",
    "from tqdm.auto import tqdm\n",
    "import math\n",
    "import sklearn\n",
    "from sklearn.linear_model import LinearRegression\n",
    "\n",
    "import tigramite\n",
    "from tigramite import data_processing as pp\n",
    "from tigramite.toymodels import structural_causal_processes as toys\n",
    "from tigramite.models import Models, Prediction\n",
    "from tigramite import plotting as tp\n",
    "from tigramite.pcmci import PCMCI\n",
    "from tigramite.independence_tests import ParCorr, GPDC, CMIknn, CMIsymb"
   ]
  },
  {
   "cell_type": "code",
   "execution_count": 2,
   "id": "eef97686",
   "metadata": {},
   "outputs": [],
   "source": [
    "def select_links(tau_min, tau_max, parents, children):\n",
    "    \"\"\"\n",
    "    This function selects the causal links that will be tested by\n",
    "    PCMCI. The links are selected such that per each variable in\n",
    "    `children` all `parents` are stablished as causes, and no other\n",
    "    causal relationships exist.\n",
    "    \n",
    "    Assumes `parents` and `children` are disjoint sets, and that all\n",
    "    variables are included in the union of both sets.\n",
    "    \n",
    "    Parameters\n",
    "    ----------\n",
    "    tau_min : int\n",
    "        Minimum time lag to test. Note that zero-lags are undirected.\n",
    "    tau_max : int\n",
    "        Maximum time lag. Must be larger or equal to tau_min.\n",
    "    parents : set of int\n",
    "        List of variables that will be assigned as a parent link.\n",
    "        Assumed to be disjoint with children\n",
    "    children : set of int\n",
    "        List of variables that will be assigned a link from a parent.\n",
    "        Assumed to be disjoint with parents\n",
    "    Returns\n",
    "    -------\n",
    "    selected_links: dict\n",
    "        Dictionary of selected links for Tigramite\n",
    "        \n",
    "    \"\"\"\n",
    "\n",
    "    parents = set(parents)\n",
    "    children = set(children)\n",
    "\n",
    "    selected_links = dict()\n",
    "    # Set the default as all combinations of the selected variables\n",
    "    for var in [*children, *parents]:\n",
    "        if var in children:\n",
    "            # Children can be caused only by parents and by themselves\n",
    "            selected_links[var] = [\n",
    "                (parent, -lag)\n",
    "                for parent in parents\n",
    "                for lag in range(tau_min, tau_max + 1)\n",
    "            ]\n",
    "        else:\n",
    "            selected_links[var] = []\n",
    "\n",
    "    return selected_links\n",
    "\n",
    "def _process_dataset(path=None):\n",
    "    df1 = pd.read_csv(path,sep=',')\n",
    "    df1.rename({\"Unnamed: 0\":\"a\"}, axis=\"columns\", inplace=True)\n",
    "    df1=df1.drop('a', axis=1)\n",
    "    df1=df1.drop('conv_rrate', axis=1)\n",
    "    df1=df1.drop('ls_rrate', axis=1)\n",
    "    df1=df1.drop('mn_conv_prate', axis=1)\n",
    "    df1=df1.drop('mn_ls_prate', axis=1)\n",
    "    df1=df1.drop('mn_tot_prate', axis=1)\n",
    "    df1=df1.drop('outconv_rrate', axis=1)\n",
    "    df1=df1.drop('outls_rrate', axis=1)\n",
    "    df1=df1.drop('outmn_conv_prate', axis=1)\n",
    "    df1=df1.drop('outmn_ls_prate', axis=1)\n",
    "    df1=df1.drop('outmn_tot_prate', axis=1)\n",
    "    df1=df1.drop('conv_ppt', axis=1)\n",
    "    df1=df1.drop('outconv_ppt', axis=1)\n",
    "    \n",
    "    TCname = path.split('/')[-1].split('.')[0].split('_')[-1]\n",
    "    #print(TCname)\n",
    "    for item in glob.glob('/work/FAC/FGSE/IDYST/tbeucler/default/saranya/causal/targets/*tot_ppt_int*'):\n",
    "        if str(TCname) in item:\n",
    "            d1=pd.read_csv(item)\n",
    "            d1.rename({\"Unnamed: 0\":\"a\"}, axis=\"columns\", inplace=True)\n",
    "            d1=d1.drop('a', axis=1)\n",
    "            dt1=pd.concat([d1,df1],axis=1, join='inner')\n",
    "        else:\n",
    "            continue\n",
    "    return dt1"
   ]
  },
  {
   "cell_type": "code",
   "execution_count": 3,
   "id": "255b15ba",
   "metadata": {},
   "outputs": [],
   "source": [
    "p1=\"../../timeseries_csv/ts_wp/\"\n",
    "p2=\"../../../targets/\""
   ]
  },
  {
   "cell_type": "code",
   "execution_count": 4,
   "id": "ffb0c6e8-c9b2-41e4-a417-fa279a68257c",
   "metadata": {},
   "outputs": [
    {
     "name": "stdout",
     "output_type": "stream",
     "text": [
      "allwp_causal-tau-aligned_newtestset.ipynb  best_model6.pmin.pt\n",
      "allwp_lagged-newtestset.ipynb\t\t   best_model6.precip.pt\n",
      "allwp_newtestset-rnn-2.ipynb\t\t   best_model6.pt\n",
      "allwp_newtestset-rnn.ipynb\t\t   best_model6.v10.pt\n",
      "allwp_noncausalmlr-newtest.ipynb\t   best_model7.pmin.pt\n",
      "allwp_random_newtestset.ipynb\t\t   best_model7.precip.pt\n",
      "allwp-rnn-predict_anom.ipynb\t\t   best_model7.pt\n",
      "best_model0.pmin.pt\t\t\t   best_model7.v10.pt\n",
      "best_model0.precip.pt\t\t\t   best_model8.pmin.pt\n",
      "best_model0.pt\t\t\t\t   best_model8.precip.pt\n",
      "best_model0.v10.pt\t\t\t   best_model8.pt\n",
      "best_model1.pmin.pt\t\t\t   best_model8.v10.pt\n",
      "best_model1.precip.pt\t\t\t   best_model9.pmin.pt\n",
      "best_model1.pt\t\t\t\t   best_model9.precip.pt\n",
      "best_model1.v10.pt\t\t\t   best_model9.pt\n",
      "best_model2.pmin.pt\t\t\t   best_model9.v10.pt\n",
      "best_model2.precip.pt\t\t\t   causal_graph_WPAC-newtestset.ipynb\n",
      "best_model2.pt\t\t\t\t   Climate_info_fig2_newtestset.ipynb\n",
      "best_model2.v10.pt\t\t\t   Climate_info_fig3_newtestset.ipynb\n",
      "best_model3.pmin.pt\t\t\t   plots_mlr_paper_newtestset.ipynb\n",
      "best_model3.precip.pt\t\t\t   plots_output\n",
      "best_model3.pt\t\t\t\t   __pycache__\n",
      "best_model3.v10.pt\t\t\t   rfreg_funcs.py\n",
      "best_model4.pmin.pt\t\t\t   rnn_analysis.ipynb\n",
      "best_model4.precip.pt\t\t\t   store\n",
      "best_model4.pt\t\t\t\t   tmp_rnn\n",
      "best_model4.v10.pt\t\t\t   train_rnn.py\n",
      "best_model5.pmin.pt\t\t\t   Untitled.ipynb\n",
      "best_model5.precip.pt\t\t\t   wpac_RF_first-newtestset.ipynb\n",
      "best_model5.pt\t\t\t\t   wpac_RF_second-newtestset.ipynb\n",
      "best_model5.v10.pt\t\t\t   wpac_RF_third-newtestset.ipynb\n"
     ]
    }
   ],
   "source": [
    "!ls "
   ]
  },
  {
   "cell_type": "code",
   "execution_count": 5,
   "id": "2a8fec9b",
   "metadata": {
    "tags": []
   },
   "outputs": [],
   "source": [
    "ds1=_process_dataset(glob.glob(p1+'*2020vongfong*')[0])\n",
    "ds2=_process_dataset(glob.glob(p1+'*2020chanhom*')[0])\n",
    "ds3=_process_dataset(glob.glob(p1+'*2020saudel*')[0])\n",
    "ds4=_process_dataset(glob.glob(p1+'*2020molave*')[0])\n",
    "ds5=_process_dataset(glob.glob(p1+'*2020goni*')[0])\n",
    "ds6=_process_dataset(glob.glob(p1+'*2020atsani*')[0])\n",
    "ds7=_process_dataset(glob.glob(p1+'*2020vamco*')[0])\n",
    "ds8=_process_dataset(glob.glob(p1+'*2019neoguri*')[0])\n",
    "ds9=_process_dataset(glob.glob(p1+'*2019bualoi*')[0])\n",
    "ds10=_process_dataset(glob.glob(p1+'*2019halong*')[0])\n",
    "ds11=_process_dataset(glob.glob(p1+'*2019nakri*')[0])\n",
    "ds12=_process_dataset(glob.glob(p1+'*2019fengshen*')[0])\n",
    "ds13=_process_dataset(glob.glob(p1+'*2019kalmaegi*')[0])\n",
    "ds14=_process_dataset(glob.glob(p1+'*2019fungwong*')[0])\n",
    "ds15=_process_dataset(glob.glob(p1+'*2019kammuri*')[0])\n",
    "ds16=_process_dataset(glob.glob(p1+'*2018jelawat*')[0])\n",
    "ds17=_process_dataset(glob.glob(p1+'*2018maliksi*')[0])\n",
    "ds18=_process_dataset(glob.glob(p1+'*2018kongrey*')[0])\n",
    "ds19=_process_dataset(glob.glob(p1+'*2018yutu*')[0])\n",
    "ds20=_process_dataset(glob.glob(p1+'*2017muifa*')[0])\n",
    "ds21=_process_dataset(glob.glob(p1+'*2017lan*')[0])\n",
    "ds22=_process_dataset(glob.glob(p1+'*2017haikul*')[0])\n",
    "ds23=_process_dataset(glob.glob(p1+'*2016megi*')[0])\n",
    "ds24=_process_dataset(glob.glob(p1+'*2016sarika*')[0])\n",
    "ds25=_process_dataset(glob.glob(p1+'*2016haima*')[0])\n",
    "ds26=_process_dataset(glob.glob(p1+'*2015maysak*')[0])\n",
    "ds27=_process_dataset(glob.glob(p1+'*2015koppu*')[0])\n",
    "ds28=_process_dataset(glob.glob(p1+'*2015infa*')[0])\n",
    "ds29=_process_dataset(glob.glob(p1+'*2014tapah*')[0])\n",
    "ds30=_process_dataset(glob.glob(p1+'*2014nuri*')[0])\n",
    "ds31=_process_dataset(glob.glob(p1+'*2014hagupit*')[0])\n",
    "ds32=_process_dataset(glob.glob(p1+'*2013yagi*')[0])\n",
    "ds33=_process_dataset(glob.glob(p1+'*2013fitow*')[0])\n",
    "ds34=_process_dataset(glob.glob(p1+'*2013danas*')[0])\n",
    "ds35=_process_dataset(glob.glob(p1+'*2013francisco*')[0])\n",
    "ds36=_process_dataset(glob.glob(p1+'*2013krosa*')[0])\n",
    "ds37=_process_dataset(glob.glob(p1+'*2013haiyan*')[0])\n",
    "ds38=_process_dataset(glob.glob(p1+'*2012guchol*')[0])\n",
    "ds39=_process_dataset(glob.glob(p1+'*2012gaemi*')[0])\n",
    "ds40=_process_dataset(glob.glob(p1+'*2012maria*')[0])\n",
    "ds41=_process_dataset(glob.glob(p1+'*2012sontinh*')[0])\n",
    "ds42=_process_dataset(glob.glob(p1+'*2012bopha*')[0])\n",
    "ds43=_process_dataset(glob.glob(p1+'*2011songda*')[0])\n",
    "ds44=_process_dataset(glob.glob(p1+'*2011haima*')[0])\n",
    "ds45=_process_dataset(glob.glob(p1+'*2011nalgae*')[0])\n",
    "ds46=_process_dataset(glob.glob(p1+'*2011washi*')[0])\n"
   ]
  },
  {
   "cell_type": "code",
   "execution_count": 6,
   "id": "9b543900",
   "metadata": {
    "tags": []
   },
   "outputs": [],
   "source": [
    "ds47=_process_dataset(glob.glob(p1+'*2010OMAIS*')[0])\n",
    "ds48=_process_dataset(glob.glob(p1+'*2010CONSON*')[0])\n",
    "ds49=_process_dataset(glob.glob(p1+'*2010CHANTHU*')[0])\n",
    "ds50=_process_dataset(glob.glob(p1+'*2010DIANMU*')[0])\n",
    "ds51=_process_dataset(glob.glob(p1+'*2010LIONROCK*')[0])\n",
    "ds52=_process_dataset(glob.glob(p1+'*2010MALOU*')[0])\n",
    "ds53=_process_dataset(glob.glob(p1+'*2010FANAPI*')[0])\n",
    "ds54=_process_dataset(glob.glob(p1+'*2010MALAKAS*')[0])\n",
    "ds55=_process_dataset(glob.glob(p1+'*2010MEGI*')[0])\n",
    "ds56=_process_dataset(glob.glob(p1+'*2010CHABA*')[0])\n",
    "ds57=_process_dataset(glob.glob(p1+'*2010OMEKA*')[0])\n",
    "ds58=_process_dataset(glob.glob(p1+'*2009KUJIRA*')[0])\n",
    "ds59=_process_dataset(glob.glob(p1+'*2009CHAN-HOM*')[0])\n",
    "ds60=_process_dataset(glob.glob(p1+'*2009LINFA*')[0])\n",
    "ds61=_process_dataset(glob.glob(p1+'*2009MORAKOT*')[0])\n",
    "ds62=_process_dataset(glob.glob(p1+'*2009ETAU*')[0])\n",
    "ds63=_process_dataset(glob.glob(p1+'*2009VAMCO*')[0])\n",
    "ds64=_process_dataset(glob.glob(p1+'*2009KROVANH*')[0])\n",
    "ds65=_process_dataset(glob.glob(p1+'*2009DUJUAN*')[0])\n",
    "ds66=_process_dataset(glob.glob(p1+'*2009CHOI-WAN*')[0])\n",
    "ds67=_process_dataset(glob.glob(p1+'*2009PARMA*')[0])\n",
    "ds68=_process_dataset(glob.glob(p1+'*2009MELOR*')[0])\n",
    "ds69=_process_dataset(glob.glob(p1+'*2009LUPIT*')[0])\n",
    "ds70=_process_dataset(glob.glob(p1+'*2009MIRINAE*')[0])\n",
    "ds71=_process_dataset(glob.glob(p1+'*2009NIDA*')[0])\n",
    "ds72=_process_dataset(glob.glob(p1+'*2008NEOGURI*')[0])\n",
    "ds73=_process_dataset(glob.glob(p1+'*2008RAMMASUN*')[0])\n",
    "ds74=_process_dataset(glob.glob(p1+'*2008NAKRI*')[0])\n",
    "ds75=_process_dataset(glob.glob(p1+'*2008FENGSHEN*')[0])\n",
    "ds76=_process_dataset(glob.glob(p1+'*2008KALMAEGI*')[0])\n",
    "ds77=_process_dataset(glob.glob(p1+'*2008FUNG-WONG*')[0])\n",
    "ds78=_process_dataset(glob.glob(p1+'*2008VONGFONG*')[0])\n",
    "ds79=_process_dataset(glob.glob(p1+'*2008NURI*')[0])\n",
    "ds80=_process_dataset(glob.glob(p1+'*2008SINLAKU*')[0])\n",
    "ds81=_process_dataset(glob.glob(p1+'*2008HAGUPIT*')[0])\n",
    "ds82=_process_dataset(glob.glob(p1+'*2008JANGMI*')[0])\n",
    "ds83=_process_dataset(glob.glob(p1+'*2008HIGOS*')[0])\n",
    "ds84=_process_dataset(glob.glob(p1+'*2008MAYSAK*')[0])\n",
    "ds85=_process_dataset(glob.glob(p1+'*2008DOLPHIN*')[0])\n",
    "ds86=_process_dataset(glob.glob(p1+'*2007KONG-REY*')[0])\n",
    "ds87=_process_dataset(glob.glob(p1+'*2007MAN-YI*')[0])\n",
    "ds88=_process_dataset(glob.glob(p1+'*2007USAGI*')[0])\n",
    "ds89=_process_dataset(glob.glob(p1+'*2007PABUK*')[0])\n",
    "ds90=_process_dataset(glob.glob(p1+'*2007SEPAT*')[0])\n",
    "ds91=_process_dataset(glob.glob(p1+'*2007FITOW*')[0])\n",
    "ds92=_process_dataset(glob.glob(p1+'*2007DANAS*')[0])\n",
    "ds93=_process_dataset(glob.glob(p1+'*2007NARI*')[0])\n",
    "ds94=_process_dataset(glob.glob(p1+'*2007WIPHA*')[0])\n",
    "ds95=_process_dataset(glob.glob(p1+'*2007LEKIMA*')[0])\n",
    "ds96=_process_dataset(glob.glob(p1+'*2007KROSA*')[0])\n",
    "ds97=_process_dataset(glob.glob(p1+'*2007LINGLING*')[0])\n",
    "ds98=_process_dataset(glob.glob(p1+'*2007PEIPAH*')[0])\n",
    "ds99=_process_dataset(glob.glob(p1+'*2007HAGIBIS*')[0])\n",
    "ds100=_process_dataset(glob.glob(p1+'*2007MITAG*')[0])\n",
    "ds101=_process_dataset(glob.glob(p1+'*2006CHANCHU*')[0])\n",
    "ds102=_process_dataset(glob.glob(p1+'*2006EWINIAR*')[0])\n",
    "ds103=_process_dataset(glob.glob(p1+'*2006BILIS*')[0])\n",
    "ds104=_process_dataset(glob.glob(p1+'*2006KAEMI*')[0])\n",
    "ds105=_process_dataset(glob.glob(p1+'*2006PRAPIROON*')[0])\n",
    "ds106=_process_dataset(glob.glob(p1+'*2006SAOMAI*')[0])\n",
    "ds107=_process_dataset(glob.glob(p1+'*2006WUKONG*')[0])\n",
    "ds108=_process_dataset(glob.glob(p1+'*2006IOKE*')[0])\n",
    "ds109=_process_dataset(glob.glob(p1+'*2006SHANSHAN*')[0])\n",
    "ds110=_process_dataset(glob.glob(p1+'*2006MUKDA*')[0])\n",
    "ds111=_process_dataset(glob.glob(p1+'*2006XANGSANE*')[0])\n",
    "ds112=_process_dataset(glob.glob(p1+'*2006BEBINCA*')[0])\n",
    "ds113=_process_dataset(glob.glob(p1+'*2006SOULIK*')[0])\n",
    "ds114=_process_dataset(glob.glob(p1+'*2006CIMARON*')[0])\n",
    "ds115=_process_dataset(glob.glob(p1+'*2006CHEBI*')[0])\n",
    "ds116=_process_dataset(glob.glob(p1+'*2006DURIAN*')[0])\n",
    "ds117=_process_dataset(glob.glob(p1+'*2006UTOR*')[0])\n",
    "ds118=_process_dataset(glob.glob(p1+'*2005KULAP*')[0])\n",
    "ds119=_process_dataset(glob.glob(p1+'*2005ROKE*')[0])\n",
    "ds120=_process_dataset(glob.glob(p1+'*2005SONCA*')[0])\n",
    "ds121=_process_dataset(glob.glob(p1+'*2005HAITANG*')[0])\n",
    "ds122=_process_dataset(glob.glob(p1+'*2005NALGAE*')[0])\n",
    "ds123=_process_dataset(glob.glob(p1+'*2005BANYAN*')[0])\n",
    "ds124=_process_dataset(glob.glob(p1+'*2005MATSA*')[0])\n",
    "ds125=_process_dataset(glob.glob(p1+'*2005GUCHOL*')[0])\n",
    "ds126=_process_dataset(glob.glob(p1+'*2005MAWAR*')[0])\n",
    "ds127=_process_dataset(glob.glob(p1+'*2005TALIM*')[0])\n",
    "ds128=_process_dataset(glob.glob(p1+'*2005NABI*')[0])\n",
    "ds129=_process_dataset(glob.glob(p1+'*2005KHANUN*')[0])\n",
    "ds130=_process_dataset(glob.glob(p1+'*2005DAMREY*')[0])\n",
    "ds131=_process_dataset(glob.glob(p1+'*2005SAOLA*')[0])\n",
    "ds132=_process_dataset(glob.glob(p1+'*2005LONGWANG*')[0])\n",
    "ds133=_process_dataset(glob.glob(p1+'*2005KIROGI*')[0])\n",
    "ds134=_process_dataset(glob.glob(p1+'*2005TEMBIN*')[0])\n",
    "ds135=_process_dataset(glob.glob(p1+'*2005BOLAVEN*')[0])\n",
    "ds136=_process_dataset(glob.glob(p1+'*2004SUDAL*')[0])\n",
    "ds137=_process_dataset(glob.glob(p1+'*2004NIDA*')[0])\n",
    "ds138=_process_dataset(glob.glob(p1+'*2004CHANTHU*')[0])\n",
    "ds139=_process_dataset(glob.glob(p1+'*2004DIANMU*')[0])\n",
    "ds140=_process_dataset(glob.glob(p1+'*2004MINDULLE*')[0])\n",
    "\n",
    "\n"
   ]
  },
  {
   "cell_type": "code",
   "execution_count": 7,
   "id": "e9175e36",
   "metadata": {
    "tags": []
   },
   "outputs": [],
   "source": [
    "ds141=_process_dataset(glob.glob(p1+'*2004TINGTING*')[0])\n",
    "ds142=_process_dataset(glob.glob(p1+'*2004NAMTHEUN*')[0])\n",
    "ds143=_process_dataset(glob.glob(p1+'*2004MERANTI*')[0])\n",
    "ds144=_process_dataset(glob.glob(p1+'*2004RANANIM*')[0])\n",
    "ds145=_process_dataset(glob.glob(p1+'*2004MEGI*')[0])\n",
    "ds146=_process_dataset(glob.glob(p1+'*2004CHABA*')[0])\n",
    "ds147=_process_dataset(glob.glob(p1+'*2004AERE*')[0])\n",
    "ds148=_process_dataset(glob.glob(p1+'*2004SONGDA*')[0])\n",
    "ds149=_process_dataset(glob.glob(p1+'*2004MEARI*')[0])\n",
    "ds150=_process_dataset(glob.glob(p1+'*2004MA-ON*')[0])\n",
    "ds151=_process_dataset(glob.glob(p1+'*2004TOKAGE*')[0])\n",
    "ds152=_process_dataset(glob.glob(p1+'*2004NOCK-TEN*')[0])\n",
    "ds153=_process_dataset(glob.glob(p1+'*2004MUIFA*')[0])\n",
    "ds154=_process_dataset(glob.glob(p1+'*2004NANMADOL*')[0])\n",
    "ds155=_process_dataset(glob.glob(p1+'*2004NORU*')[0])\n",
    "ds156=_process_dataset(glob.glob(p1+'*2003SOUDELOR*')[0])\n",
    "ds157=_process_dataset(glob.glob(p1+'*2003KUJIRA*')[0])\n",
    "ds158=_process_dataset(glob.glob(p1+'*2003CHAN-HOM*')[0])\n",
    "ds159=_process_dataset(glob.glob(p1+'*2003IMBUDO*')[0])\n",
    "ds160=_process_dataset(glob.glob(p1+'*2003NANGKA*')[0])\n",
    "ds161=_process_dataset(glob.glob(p1+'*2003KONI*')[0])\n",
    "ds162=_process_dataset(glob.glob(p1+'*2003ETAU*')[0])\n",
    "ds163=_process_dataset(glob.glob(p1+'*2003KROVANH*')[0])\n",
    "ds164=_process_dataset(glob.glob(p1+'*2003DUJUAN*')[0])\n",
    "ds165=_process_dataset(glob.glob(p1+'*2003MAEMI*')[0])\n",
    "ds166=_process_dataset(glob.glob(p1+'*2003CHOI-WAN*')[0])\n",
    "ds167=_process_dataset(glob.glob(p1+'*2003KOPPU*')[0])\n",
    "ds168=_process_dataset(glob.glob(p1+'*2003KETSANA*')[0])\n",
    "ds169=_process_dataset(glob.glob(p1+'*2003MELOR*')[0])\n",
    "ds170=_process_dataset(glob.glob(p1+'*2003NEPARTAK*')[0])\n",
    "ds171=_process_dataset(glob.glob(p1+'*2003LUPIT*')[0])\n",
    "ds172=_process_dataset(glob.glob(p1+'*2002MITAG*')[0])\n",
    "ds173=_process_dataset(glob.glob(p1+'*2002HAGIBIS*')[0])\n",
    "ds174=_process_dataset(glob.glob(p1+'*2002CHATAAN*')[0])\n",
    "ds175=_process_dataset(glob.glob(p1+'*2002RAMMASUN*')[0])\n",
    "ds176=_process_dataset(glob.glob(p1+'*2002HALONG*')[0])\n",
    "ds177=_process_dataset(glob.glob(p1+'*2002FENGSHEN*')[0])\n",
    "ds178=_process_dataset(glob.glob(p1+'*2002FUNG-WONG*')[0])\n",
    "ds179=_process_dataset(glob.glob(p1+'*2002PHANFONE*')[0])\n",
    "ds180=_process_dataset(glob.glob(p1+'*2002RUSA*')[0])\n",
    "ds181=_process_dataset(glob.glob(p1+'*2002ELE*')[0])\n",
    "ds182=_process_dataset(glob.glob(p1+'*2002SINLAKU*')[0])\n",
    "ds183=_process_dataset(glob.glob(p1+'*2002HAGUPIT*')[0])\n",
    "ds184=_process_dataset(glob.glob(p1+'*2002MEKKHALA*')[0])\n",
    "ds185=_process_dataset(glob.glob(p1+'*2002HIGOS*')[0])\n",
    "ds186=_process_dataset(glob.glob(p1+'*2002BAVI*')[0])\n",
    "ds187=_process_dataset(glob.glob(p1+'*2002HUKO*')[0])\n",
    "ds188=_process_dataset(glob.glob(p1+'*2002HAISHEN*')[0])\n",
    "ds189=_process_dataset(glob.glob(p1+'*2002PONGSONA*')[0])\n",
    "ds190=_process_dataset(glob.glob(p1+'*2001CIMARON*')[0])\n",
    "ds191=_process_dataset(glob.glob(p1+'*2001CHEBI*')[0])\n",
    "ds192=_process_dataset(glob.glob(p1+'*2001UTOR*')[0])\n",
    "ds193=_process_dataset(glob.glob(p1+'*2001KONG-REY*')[0])\n",
    "ds194=_process_dataset(glob.glob(p1+'*2001FRANCISCO*')[0])\n",
    "ds195=_process_dataset(glob.glob(p1+'*2001MAN-YI*')[0])\n",
    "ds196=_process_dataset(glob.glob(p1+'*2001PABUK*')[0])\n",
    "ds197=_process_dataset(glob.glob(p1+'*2001WUTIP*')[0])\n",
    "ds198=_process_dataset(glob.glob(p1+'*2001FITOW*')[0])\n",
    "ds199=_process_dataset(glob.glob(p1+'*2001NARI*')[0])\n",
    "ds200=_process_dataset(glob.glob(p1+'*2001VIPA*')[0])\n",
    "ds201=_process_dataset(glob.glob(p1+'*2001FRANCISCO*')[0])\n",
    "ds202=_process_dataset(glob.glob(p1+'*2001LEKIMA*')[0])\n",
    "ds203=_process_dataset(glob.glob(p1+'*2001KROSA*')[0])\n",
    "ds204=_process_dataset(glob.glob(p1+'*2001HAIYAN*')[0])\n",
    "ds205=_process_dataset(glob.glob(p1+'*2001PODUL*')[0])\n",
    "ds206=_process_dataset(glob.glob(p1+'*2001LINGLING*')[0])\n",
    "ds207=_process_dataset(glob.glob(p1+'*2001FAXAI*')[0])"
   ]
  },
  {
   "cell_type": "code",
   "execution_count": 8,
   "id": "fefe9e3c-5669-4fa1-845b-8d8ba0e09f4d",
   "metadata": {},
   "outputs": [
    {
     "data": {
      "application/vnd.jupyter.widget-view+json": {
       "model_id": "bd9c26959f754ec5b6256fa7a779a5b6",
       "version_major": 2,
       "version_minor": 0
      },
      "text/plain": [
       "0it [00:00, ?it/s]"
      ]
     },
     "metadata": {},
     "output_type": "display_data"
    }
   ],
   "source": [
    "from natsort import natsorted\n",
    "testcyclone_dict = {}\n",
    "newtestfilelist_f = natsorted(glob.glob('/work/FAC/FGSE/IDYST/tbeucler/default/saranya/causal/timeseries_csv/new_storms_wpac/*'))[-62:-7]\n",
    "for ind,obj in tqdm(enumerate(newtestfilelist_f)):\n",
    "    testcyclone_dict['testcyclone'+str(ind)] = _process_dataset(obj).values"
   ]
  },
  {
   "cell_type": "code",
   "execution_count": 10,
   "id": "65f86e9d-c099-4128-a12f-21cc2790fbd9",
   "metadata": {},
   "outputs": [],
   "source": [
    "var_names=ds207.columns.values.tolist()"
   ]
  },
  {
   "cell_type": "code",
   "execution_count": 11,
   "id": "ebd95232-e5de-484a-88fa-b8f3fb914463",
   "metadata": {},
   "outputs": [
    {
     "data": {
      "text/plain": [
       "['tot_Prec_Intg',\n",
       " 'pmin',\n",
       " 'wind10',\n",
       " 'div_50',\n",
       " 'div_100',\n",
       " 'div_200',\n",
       " 'div_250',\n",
       " 'div_300',\n",
       " 'div_400',\n",
       " 'div_500',\n",
       " 'div_600',\n",
       " 'div_700',\n",
       " 'div_800',\n",
       " 'div_850',\n",
       " 'div_925',\n",
       " 'div_1000',\n",
       " 'eqt1000',\n",
       " 'eqt200',\n",
       " 'eqt250',\n",
       " 'eqt300',\n",
       " 'eqt400',\n",
       " 'eqt500',\n",
       " 'eqt600',\n",
       " 'eqt700',\n",
       " 'eqt850',\n",
       " 'eqt925',\n",
       " '2mdewtmp',\n",
       " '2mtmp',\n",
       " 'tot_cld_ice',\n",
       " 'tot_cldwtr',\n",
       " 'tot_cld_rain',\n",
       " 'vi_div_cld_froz_wtr',\n",
       " 'vi_div_cld_liq_wtr',\n",
       " 'vi_div_mass_flux',\n",
       " 'vi_div_moisture_flux',\n",
       " 'vi_div_tot_enrgy_flux',\n",
       " 'vi_pe_inte',\n",
       " 'vi_pe_ie_latentenrgy',\n",
       " 'vi_olr',\n",
       " 'vi_tot_enrgy',\n",
       " 'vi_moisture_div',\n",
       " 'cape',\n",
       " 'inst_moisture_flux',\n",
       " 'inst_ssh_flux',\n",
       " 'surfmean_lhf',\n",
       " 'surfmean_shf',\n",
       " 'vimean_moisture_div',\n",
       " 'surf_lhf',\n",
       " 'surf_shf',\n",
       " 'tot_suprcool_liqwtr',\n",
       " 'tot_wtr_vpr',\n",
       " 'sst',\n",
       " 'vort_100',\n",
       " 'vort_150',\n",
       " 'vort_200',\n",
       " 'vort_250',\n",
       " 'vort_300',\n",
       " 'vort_400',\n",
       " 'vort_500',\n",
       " 'vort_600',\n",
       " 'vort_700',\n",
       " 'vort_800',\n",
       " 'vort_850',\n",
       " 'vort_900',\n",
       " 'vort_925',\n",
       " 'vort_950',\n",
       " 'vort_975',\n",
       " 'vort_1000',\n",
       " 'rhum_100',\n",
       " 'rhum_150',\n",
       " 'rhum_200',\n",
       " 'rhum_250',\n",
       " 'rhum_300',\n",
       " 'rhum_400',\n",
       " 'rhum_500',\n",
       " 'rhum_600',\n",
       " 'rhum_700',\n",
       " 'rhum_800',\n",
       " 'rhum_850',\n",
       " 'rhum_900',\n",
       " 'rhum_925',\n",
       " 'rhum_950',\n",
       " 'rhum_975',\n",
       " 'rhum_1000',\n",
       " 'gpot_100',\n",
       " 'gpot_150',\n",
       " 'gpot_200',\n",
       " 'gpot_250',\n",
       " 'gpot_300',\n",
       " 'gpot_400',\n",
       " 'gpot_500',\n",
       " 'gpot_600',\n",
       " 'gpot_700',\n",
       " 'gpot_800',\n",
       " 'gpot_850',\n",
       " 'gpot_900',\n",
       " 'gpot_925',\n",
       " 'gpot_950',\n",
       " 'gpot_975',\n",
       " 'gpot_1000',\n",
       " 'vvel_100',\n",
       " 'vvel_150',\n",
       " 'vvel_200',\n",
       " 'vvel_250',\n",
       " 'vvel_300',\n",
       " 'vvel_400',\n",
       " 'vvel_500',\n",
       " 'vvel_600',\n",
       " 'vvel_700',\n",
       " 'vvel_850',\n",
       " 'vvel_925',\n",
       " 'vvel_975',\n",
       " 'vvel_1000',\n",
       " 'outdiv_50',\n",
       " 'outdiv_100',\n",
       " 'outdiv_200',\n",
       " 'outdiv_250',\n",
       " 'outdiv_300',\n",
       " 'outdiv_400',\n",
       " 'outdiv_500',\n",
       " 'outdiv_600',\n",
       " 'outdiv_700',\n",
       " 'outdiv_800',\n",
       " 'outdiv_850',\n",
       " 'outdiv_925',\n",
       " 'outdiv_1000',\n",
       " 'outeqt1000',\n",
       " 'outeqt200',\n",
       " 'outeqt250',\n",
       " 'outeqt300',\n",
       " 'outeqt400',\n",
       " 'outeqt500',\n",
       " 'outeqt600',\n",
       " 'outeqt700',\n",
       " 'outeqt850',\n",
       " 'outeqt925',\n",
       " 'out2mdewtmp',\n",
       " 'out2mtmp',\n",
       " 'outtot_cld_ice',\n",
       " 'outtot_cldwtr',\n",
       " 'outtot_cld_rain',\n",
       " 'outvi_div_cld_froz_wtr',\n",
       " 'outvi_div_cld_liq_wtr',\n",
       " 'outvi_div_mass_flux',\n",
       " 'outvi_div_moisture_flux',\n",
       " 'outvi_div_tot_enrgy_flux',\n",
       " 'outvi_pe_inte',\n",
       " 'outvi_pe_ie_latentenrgy',\n",
       " 'outvi_olr',\n",
       " 'outvi_tot_enrgy',\n",
       " 'outvi_moisture_div',\n",
       " 'outcape',\n",
       " 'outinst_moisture_flux',\n",
       " 'outinst_ssh_flux',\n",
       " 'outsurfmean_lhf',\n",
       " 'outsurfmean_shf',\n",
       " 'outvimean_moisture_div',\n",
       " 'outsurf_lhf',\n",
       " 'outsurf_shf',\n",
       " 'outtot_suprcool_liqwtr',\n",
       " 'outtot_wtr_vpr',\n",
       " 'outsst',\n",
       " 'outvort_100',\n",
       " 'outvort_150',\n",
       " 'outvort_200',\n",
       " 'outvort_250',\n",
       " 'outvort_300',\n",
       " 'outvort_400',\n",
       " 'outvort_500',\n",
       " 'outvort_600',\n",
       " 'outvort_700',\n",
       " 'outvort_800',\n",
       " 'outvort_850',\n",
       " 'outvort_900',\n",
       " 'outvort_925',\n",
       " 'outvort_950',\n",
       " 'outvort_975',\n",
       " 'outvort_1000',\n",
       " 'outrhum_100',\n",
       " 'outrhum_150',\n",
       " 'outrhum_200',\n",
       " 'outrhum_250',\n",
       " 'outrhum_300',\n",
       " 'outrhum_400',\n",
       " 'outrhum_500',\n",
       " 'outrhum_600',\n",
       " 'outrhum_700',\n",
       " 'outrhum_800',\n",
       " 'outrhum_850',\n",
       " 'outrhum_900',\n",
       " 'outrhum_925',\n",
       " 'outrhum_950',\n",
       " 'outrhum_975',\n",
       " 'outrhum_1000',\n",
       " 'outgpot_100',\n",
       " 'outgpot_150',\n",
       " 'outgpot_200',\n",
       " 'outgpot_250',\n",
       " 'outgpot_300',\n",
       " 'outgpot_400',\n",
       " 'outgpot_500',\n",
       " 'outgpot_600',\n",
       " 'outgpot_700',\n",
       " 'outgpot_800',\n",
       " 'outgpot_850',\n",
       " 'outgpot_900',\n",
       " 'outgpot_925',\n",
       " 'outgpot_950',\n",
       " 'outgpot_975',\n",
       " 'outgpot_1000',\n",
       " 'outvvel_100',\n",
       " 'outvvel_150',\n",
       " 'outvvel_200',\n",
       " 'outvvel_250',\n",
       " 'outvvel_300',\n",
       " 'outvvel_400',\n",
       " 'outvvel_500',\n",
       " 'outvvel_600',\n",
       " 'outvvel_700',\n",
       " 'outvvel_850',\n",
       " 'outvvel_925',\n",
       " 'outvvel_975',\n",
       " 'outvvel_1000',\n",
       " 'shear_1000_200',\n",
       " 'shear_1000_300',\n",
       " 'shear_1000_500',\n",
       " 'shear_1000_700',\n",
       " 'shear_1000_850',\n",
       " 'shear_850_200',\n",
       " 'shear_850_250',\n",
       " 'shear_850_300',\n",
       " 'shear_850_500',\n",
       " 'shear_925_200',\n",
       " 'shear_925_250']"
      ]
     },
     "execution_count": 11,
     "metadata": {},
     "output_type": "execute_result"
    }
   ],
   "source": [
    "var_names"
   ]
  },
  {
   "cell_type": "code",
   "execution_count": 35,
   "id": "4efcf457-a510-4d8a-bb8e-8bc72b90bb4a",
   "metadata": {},
   "outputs": [
    {
     "data": {
      "text/plain": [
       "['/work/FAC/FGSE/IDYST/tbeucler/default/saranya/causal/timeseries_csv/new_storms_wpac/timeseries_nwp_newall_2017KAI-TAK.csv',\n",
       " '/work/FAC/FGSE/IDYST/tbeucler/default/saranya/causal/timeseries_csv/new_storms_wpac/timeseries_nwp_newall_2017KULAP.csv',\n",
       " '/work/FAC/FGSE/IDYST/tbeucler/default/saranya/causal/timeseries_csv/new_storms_wpac/timeseries_nwp_newall_2017NALGAE.csv',\n",
       " '/work/FAC/FGSE/IDYST/tbeucler/default/saranya/causal/timeseries_csv/new_storms_wpac/timeseries_nwp_newall_2017NANMADOL.csv',\n",
       " '/work/FAC/FGSE/IDYST/tbeucler/default/saranya/causal/timeseries_csv/new_storms_wpac/timeseries_nwp_newall_2017NESAT.csv',\n",
       " '/work/FAC/FGSE/IDYST/tbeucler/default/saranya/causal/timeseries_csv/new_storms_wpac/timeseries_nwp_newall_2017NORU.csv',\n",
       " '/work/FAC/FGSE/IDYST/tbeucler/default/saranya/causal/timeseries_csv/new_storms_wpac/timeseries_nwp_newall_2017SANVU.csv',\n",
       " '/work/FAC/FGSE/IDYST/tbeucler/default/saranya/causal/timeseries_csv/new_storms_wpac/timeseries_nwp_newall_2017SAOLA.csv',\n",
       " '/work/FAC/FGSE/IDYST/tbeucler/default/saranya/causal/timeseries_csv/new_storms_wpac/timeseries_nwp_newall_2017TALIM.csv',\n",
       " '/work/FAC/FGSE/IDYST/tbeucler/default/saranya/causal/timeseries_csv/new_storms_wpac/timeseries_nwp_newall_2017TEMBIN.csv',\n",
       " '/work/FAC/FGSE/IDYST/tbeucler/default/saranya/causal/timeseries_csv/new_storms_wpac/timeseries_nwp_newall_2018AMPIL.csv',\n",
       " '/work/FAC/FGSE/IDYST/tbeucler/default/saranya/causal/timeseries_csv/new_storms_wpac/timeseries_nwp_newall_2018BEBINCA.csv',\n",
       " '/work/FAC/FGSE/IDYST/tbeucler/default/saranya/causal/timeseries_csv/new_storms_wpac/timeseries_nwp_newall_2018CIMARON.csv',\n",
       " '/work/FAC/FGSE/IDYST/tbeucler/default/saranya/causal/timeseries_csv/new_storms_wpac/timeseries_nwp_newall_2018EWINIAR.csv',\n",
       " '/work/FAC/FGSE/IDYST/tbeucler/default/saranya/causal/timeseries_csv/new_storms_wpac/timeseries_nwp_newall_2018GAEMI.csv',\n",
       " '/work/FAC/FGSE/IDYST/tbeucler/default/saranya/causal/timeseries_csv/new_storms_wpac/timeseries_nwp_newall_2018HECTOR.csv',\n",
       " '/work/FAC/FGSE/IDYST/tbeucler/default/saranya/causal/timeseries_csv/new_storms_wpac/timeseries_nwp_newall_2018JEBI.csv',\n",
       " '/work/FAC/FGSE/IDYST/tbeucler/default/saranya/causal/timeseries_csv/new_storms_wpac/timeseries_nwp_newall_2018JONGDARI.csv',\n",
       " '/work/FAC/FGSE/IDYST/tbeucler/default/saranya/causal/timeseries_csv/new_storms_wpac/timeseries_nwp_newall_2018LEEPI.csv',\n",
       " '/work/FAC/FGSE/IDYST/tbeucler/default/saranya/causal/timeseries_csv/new_storms_wpac/timeseries_nwp_newall_2018MAN-YI.csv',\n",
       " '/work/FAC/FGSE/IDYST/tbeucler/default/saranya/causal/timeseries_csv/new_storms_wpac/timeseries_nwp_newall_2018MANGKHUT.csv',\n",
       " '/work/FAC/FGSE/IDYST/tbeucler/default/saranya/causal/timeseries_csv/new_storms_wpac/timeseries_nwp_newall_2018MARIA.csv',\n",
       " '/work/FAC/FGSE/IDYST/tbeucler/default/saranya/causal/timeseries_csv/new_storms_wpac/timeseries_nwp_newall_2018PRAPIROON.csv',\n",
       " '/work/FAC/FGSE/IDYST/tbeucler/default/saranya/causal/timeseries_csv/new_storms_wpac/timeseries_nwp_newall_2018SANBA.csv',\n",
       " '/work/FAC/FGSE/IDYST/tbeucler/default/saranya/causal/timeseries_csv/new_storms_wpac/timeseries_nwp_newall_2018SHANSHAN.csv',\n",
       " '/work/FAC/FGSE/IDYST/tbeucler/default/saranya/causal/timeseries_csv/new_storms_wpac/timeseries_nwp_newall_2018SON-TINH.csv',\n",
       " '/work/FAC/FGSE/IDYST/tbeucler/default/saranya/causal/timeseries_csv/new_storms_wpac/timeseries_nwp_newall_2018SOULIK.csv',\n",
       " '/work/FAC/FGSE/IDYST/tbeucler/default/saranya/causal/timeseries_csv/new_storms_wpac/timeseries_nwp_newall_2018TRAMI.csv',\n",
       " '/work/FAC/FGSE/IDYST/tbeucler/default/saranya/causal/timeseries_csv/new_storms_wpac/timeseries_nwp_newall_2018USAGI.csv',\n",
       " '/work/FAC/FGSE/IDYST/tbeucler/default/saranya/causal/timeseries_csv/new_storms_wpac/timeseries_nwp_newall_2018WUKONG.csv',\n",
       " '/work/FAC/FGSE/IDYST/tbeucler/default/saranya/causal/timeseries_csv/new_storms_wpac/timeseries_nwp_newall_2018YAGI.csv',\n",
       " '/work/FAC/FGSE/IDYST/tbeucler/default/saranya/causal/timeseries_csv/new_storms_wpac/timeseries_nwp_newall_2019BAILU.csv',\n",
       " '/work/FAC/FGSE/IDYST/tbeucler/default/saranya/causal/timeseries_csv/new_storms_wpac/timeseries_nwp_newall_2019DANAS.csv',\n",
       " '/work/FAC/FGSE/IDYST/tbeucler/default/saranya/causal/timeseries_csv/new_storms_wpac/timeseries_nwp_newall_2019FAXAI.csv',\n",
       " '/work/FAC/FGSE/IDYST/tbeucler/default/saranya/causal/timeseries_csv/new_storms_wpac/timeseries_nwp_newall_2019FRANCISCO.csv',\n",
       " '/work/FAC/FGSE/IDYST/tbeucler/default/saranya/causal/timeseries_csv/new_storms_wpac/timeseries_nwp_newall_2019HAGIBIS.csv',\n",
       " '/work/FAC/FGSE/IDYST/tbeucler/default/saranya/causal/timeseries_csv/new_storms_wpac/timeseries_nwp_newall_2019KAJIKI.csv',\n",
       " '/work/FAC/FGSE/IDYST/tbeucler/default/saranya/causal/timeseries_csv/new_storms_wpac/timeseries_nwp_newall_2019KROSA.csv',\n",
       " '/work/FAC/FGSE/IDYST/tbeucler/default/saranya/causal/timeseries_csv/new_storms_wpac/timeseries_nwp_newall_2019LEKIMA.csv',\n",
       " '/work/FAC/FGSE/IDYST/tbeucler/default/saranya/causal/timeseries_csv/new_storms_wpac/timeseries_nwp_newall_2019LINGLING.csv',\n",
       " '/work/FAC/FGSE/IDYST/tbeucler/default/saranya/causal/timeseries_csv/new_storms_wpac/timeseries_nwp_newall_2019MITAG.csv',\n",
       " '/work/FAC/FGSE/IDYST/tbeucler/default/saranya/causal/timeseries_csv/new_storms_wpac/timeseries_nwp_newall_2019PHANFONE.csv',\n",
       " '/work/FAC/FGSE/IDYST/tbeucler/default/saranya/causal/timeseries_csv/new_storms_wpac/timeseries_nwp_newall_2019PODUL.csv',\n",
       " '/work/FAC/FGSE/IDYST/tbeucler/default/saranya/causal/timeseries_csv/new_storms_wpac/timeseries_nwp_newall_2019SEPAT.csv',\n",
       " '/work/FAC/FGSE/IDYST/tbeucler/default/saranya/causal/timeseries_csv/new_storms_wpac/timeseries_nwp_newall_2019TAPAH.csv',\n",
       " '/work/FAC/FGSE/IDYST/tbeucler/default/saranya/causal/timeseries_csv/new_storms_wpac/timeseries_nwp_newall_2019WUTIP.csv',\n",
       " '/work/FAC/FGSE/IDYST/tbeucler/default/saranya/causal/timeseries_csv/new_storms_wpac/timeseries_nwp_newall_2020BAVI.csv',\n",
       " '/work/FAC/FGSE/IDYST/tbeucler/default/saranya/causal/timeseries_csv/new_storms_wpac/timeseries_nwp_newall_2020DOLPHIN.csv',\n",
       " '/work/FAC/FGSE/IDYST/tbeucler/default/saranya/causal/timeseries_csv/new_storms_wpac/timeseries_nwp_newall_2020HAGUPIT.csv',\n",
       " '/work/FAC/FGSE/IDYST/tbeucler/default/saranya/causal/timeseries_csv/new_storms_wpac/timeseries_nwp_newall_2020HAISHEN.csv',\n",
       " '/work/FAC/FGSE/IDYST/tbeucler/default/saranya/causal/timeseries_csv/new_storms_wpac/timeseries_nwp_newall_2020JANGMI.csv',\n",
       " '/work/FAC/FGSE/IDYST/tbeucler/default/saranya/causal/timeseries_csv/new_storms_wpac/timeseries_nwp_newall_2020KROVANH.csv',\n",
       " '/work/FAC/FGSE/IDYST/tbeucler/default/saranya/causal/timeseries_csv/new_storms_wpac/timeseries_nwp_newall_2020KUJIRA.csv',\n",
       " '/work/FAC/FGSE/IDYST/tbeucler/default/saranya/causal/timeseries_csv/new_storms_wpac/timeseries_nwp_newall_2020MAYSAK.csv',\n",
       " '/work/FAC/FGSE/IDYST/tbeucler/default/saranya/causal/timeseries_csv/new_storms_wpac/timeseries_nwp_newall_2020NURI.csv']"
      ]
     },
     "execution_count": 35,
     "metadata": {},
     "output_type": "execute_result"
    }
   ],
   "source": [
    "natsorted(glob.glob('/work/FAC/FGSE/IDYST/tbeucler/default/saranya/causal/timeseries_csv/new_storms_wpac/*'))[-62:-7]"
   ]
  },
  {
   "cell_type": "code",
   "execution_count": 20,
   "id": "a0e7d96f",
   "metadata": {
    "tags": []
   },
   "outputs": [],
   "source": [
    "tcwp1=ds1.values\n",
    "tcwp2=ds2.values\n",
    "tcwp3=ds3.values\n",
    "tcwp4=ds4.values\n",
    "tcwp5=ds5.values\n",
    "tcwp6=ds6.values\n",
    "tcwp7=ds7.values\n",
    "tcwp8=ds8.values\n",
    "tcwp9=ds9.values\n",
    "tcwp10=ds10.values\n",
    "tcwp11=ds11.values\n",
    "tcwp12=ds12.values\n",
    "tcwp13=ds13.values\n",
    "tcwp14=ds14.values\n",
    "tcwp15=ds15.values\n",
    "tcwp16=ds16.values\n",
    "tcwp17=ds17.values\n",
    "tcwp18=ds18.values\n",
    "tcwp19=ds19.values\n",
    "tcwp20=ds20.values\n",
    "tcwp21=ds21.values\n",
    "tcwp22=ds22.values\n",
    "tcwp23=ds23.values\n",
    "tcwp24=ds24.values\n",
    "tcwp25=ds25.values\n",
    "tcwp26=ds26.values\n",
    "tcwp27=ds27.values\n",
    "tcwp28=ds28.values\n",
    "tcwp29=ds29.values\n",
    "tcwp30=ds30.values\n",
    "tcwp31=ds31.values\n",
    "tcwp32=ds32.values\n",
    "tcwp33=ds33.values\n",
    "tcwp34=ds34.values\n",
    "tcwp35=ds35.values\n",
    "tcwp36=ds36.values\n",
    "tcwp37=ds37.values\n",
    "tcwp38=ds38.values\n",
    "tcwp39=ds39.values\n",
    "tcwp40=ds40.values\n",
    "tcwp41=ds41.values\n",
    "tcwp42=ds42.values\n",
    "tcwp43=ds43.values\n",
    "tcwp44=ds44.values\n",
    "tcwp45=ds45.values\n",
    "tcwp46=ds46.values\n",
    "tcwp47=ds47.values\n",
    "tcwp48=ds48.values\n",
    "tcwp49=ds49.values\n",
    "tcwp50=ds50.values"
   ]
  },
  {
   "cell_type": "code",
   "execution_count": 21,
   "id": "806cc1bd",
   "metadata": {},
   "outputs": [],
   "source": [
    "tcwp51=ds51.values\n",
    "tcwp52=ds52.values\n",
    "tcwp53=ds53.values\n",
    "tcwp54=ds54.values\n",
    "tcwp55=ds55.values\n",
    "tcwp56=ds56.values\n",
    "tcwp57=ds57.values\n",
    "tcwp58=ds58.values\n",
    "tcwp59=ds59.values\n",
    "tcwp60=ds60.values\n",
    "tcwp61=ds61.values\n",
    "tcwp62=ds62.values\n",
    "tcwp63=ds63.values\n",
    "tcwp64=ds64.values\n",
    "tcwp65=ds65.values\n",
    "tcwp66=ds66.values\n",
    "tcwp67=ds67.values\n",
    "tcwp68=ds68.values\n",
    "tcwp69=ds69.values\n",
    "tcwp70=ds70.values\n",
    "tcwp71=ds71.values\n",
    "tcwp72=ds72.values\n",
    "tcwp73=ds73.values\n",
    "tcwp74=ds74.values\n",
    "tcwp75=ds75.values\n",
    "tcwp76=ds76.values\n",
    "tcwp77=ds77.values\n",
    "tcwp78=ds78.values\n",
    "tcwp79=ds79.values\n",
    "tcwp80=ds80.values\n",
    "tcwp81=ds81.values\n",
    "tcwp82=ds82.values\n",
    "tcwp83=ds83.values\n",
    "tcwp84=ds84.values\n",
    "tcwp85=ds85.values\n",
    "tcwp86=ds86.values\n",
    "tcwp87=ds87.values\n",
    "tcwp88=ds88.values\n",
    "tcwp89=ds89.values\n",
    "tcwp90=ds90.values\n",
    "tcwp91=ds91.values\n",
    "tcwp92=ds92.values\n",
    "tcwp93=ds93.values\n",
    "tcwp94=ds94.values\n",
    "tcwp95=ds95.values\n",
    "tcwp96=ds96.values\n",
    "tcwp97=ds97.values\n",
    "tcwp98=ds98.values\n",
    "tcwp99=ds99.values\n",
    "tcwp100=ds100.values"
   ]
  },
  {
   "cell_type": "code",
   "execution_count": 22,
   "id": "b2a01f05",
   "metadata": {},
   "outputs": [],
   "source": [
    "tcwp101=ds101.values\n",
    "tcwp102=ds102.values\n",
    "tcwp103=ds103.values\n",
    "tcwp104=ds104.values\n",
    "tcwp105=ds105.values\n",
    "tcwp106=ds106.values\n",
    "tcwp107=ds107.values\n",
    "tcwp108=ds108.values\n",
    "tcwp109=ds109.values\n",
    "tcwp110=ds110.values\n",
    "tcwp111=ds111.values\n",
    "tcwp112=ds112.values\n",
    "tcwp113=ds113.values\n",
    "tcwp114=ds114.values\n",
    "tcwp115=ds115.values\n",
    "tcwp116=ds116.values\n",
    "tcwp117=ds117.values\n",
    "tcwp118=ds118.values\n",
    "tcwp119=ds119.values\n",
    "tcwp120=ds120.values\n",
    "tcwp121=ds121.values\n",
    "tcwp122=ds122.values\n",
    "tcwp123=ds123.values\n",
    "tcwp124=ds124.values\n",
    "tcwp125=ds125.values\n",
    "tcwp126=ds126.values\n",
    "tcwp127=ds127.values\n",
    "tcwp128=ds128.values\n",
    "tcwp129=ds129.values\n",
    "tcwp130=ds130.values\n",
    "tcwp131=ds131.values\n",
    "tcwp132=ds132.values\n",
    "tcwp133=ds133.values\n",
    "tcwp134=ds134.values\n",
    "tcwp135=ds135.values\n",
    "tcwp136=ds136.values\n",
    "tcwp137=ds137.values\n",
    "tcwp138=ds138.values\n",
    "tcwp139=ds139.values\n",
    "tcwp140=ds140.values\n",
    "tcwp141=ds141.values\n",
    "tcwp142=ds142.values\n",
    "tcwp143=ds143.values\n",
    "tcwp144=ds144.values\n",
    "tcwp145=ds145.values\n",
    "tcwp146=ds146.values\n",
    "tcwp147=ds147.values\n",
    "tcwp148=ds148.values\n",
    "tcwp149=ds149.values\n",
    "tcwp150=ds150.values"
   ]
  },
  {
   "cell_type": "code",
   "execution_count": 23,
   "id": "e3b44ab7",
   "metadata": {},
   "outputs": [],
   "source": [
    "tcwp151=ds151.values\n",
    "tcwp152=ds152.values\n",
    "tcwp153=ds153.values\n",
    "tcwp154=ds154.values\n",
    "tcwp155=ds155.values\n",
    "tcwp156=ds156.values\n",
    "tcwp157=ds157.values\n",
    "tcwp158=ds158.values\n",
    "tcwp159=ds159.values\n",
    "tcwp160=ds160.values\n",
    "tcwp161=ds161.values\n",
    "tcwp162=ds162.values\n",
    "tcwp163=ds163.values\n",
    "tcwp164=ds164.values\n",
    "tcwp165=ds165.values\n",
    "tcwp166=ds166.values\n",
    "tcwp167=ds167.values\n",
    "tcwp168=ds168.values\n",
    "tcwp169=ds169.values\n",
    "tcwp170=ds170.values\n",
    "tcwp171=ds171.values\n",
    "tcwp172=ds172.values\n",
    "tcwp173=ds173.values\n",
    "tcwp174=ds174.values\n",
    "tcwp175=ds175.values\n",
    "tcwp176=ds176.values\n",
    "tcwp177=ds177.values\n",
    "tcwp178=ds178.values\n",
    "tcwp179=ds179.values\n",
    "tcwp180=ds180.values\n",
    "tcwp181=ds181.values\n",
    "tcwp182=ds182.values\n",
    "tcwp183=ds183.values\n",
    "tcwp184=ds184.values\n",
    "tcwp185=ds185.values\n",
    "tcwp186=ds186.values\n",
    "tcwp187=ds187.values\n",
    "tcwp188=ds188.values\n",
    "tcwp189=ds189.values\n",
    "tcwp190=ds190.values\n",
    "tcwp191=ds191.values\n",
    "tcwp192=ds192.values\n",
    "tcwp193=ds193.values\n",
    "tcwp194=ds194.values\n",
    "tcwp195=ds195.values\n",
    "tcwp196=ds196.values\n",
    "tcwp197=ds197.values\n",
    "tcwp198=ds198.values\n",
    "tcwp199=ds199.values\n",
    "tcwp200=ds200.values\n",
    "tcwp201=ds201.values\n",
    "tcwp202=ds202.values\n",
    "tcwp203=ds203.values\n",
    "tcwp204=ds204.values\n",
    "tcwp205=ds205.values\n",
    "tcwp206=ds206.values\n",
    "tcwp207=ds207.values"
   ]
  },
  {
   "cell_type": "markdown",
   "id": "1a35a809",
   "metadata": {},
   "source": [
    "West Pacific Storms"
   ]
  },
  {
   "cell_type": "code",
   "execution_count": 24,
   "id": "64399211-2484-4390-b30e-7eca0cce7ea4",
   "metadata": {},
   "outputs": [],
   "source": [
    "#tcwp1 tcwp20"
   ]
  },
  {
   "cell_type": "code",
   "execution_count": 25,
   "id": "d8ac5f1c-05a0-47b0-b5c2-d7407b6b01b9",
   "metadata": {},
   "outputs": [],
   "source": [
    "from scipy.ndimage import gaussian_filter1d"
   ]
  },
  {
   "cell_type": "code",
   "execution_count": 26,
   "id": "788b83f7",
   "metadata": {
    "tags": []
   },
   "outputs": [],
   "source": [
    "ddwp={'cyclone2':tcwp2,'cyclone3':tcwp3,'cyclone4':tcwp4,'cyclone5':tcwp5,'cyclone6':tcwp6,\n",
    "      'cyclone7':tcwp7, 'cyclone8':tcwp8,'cyclone9':tcwp9,'cyclone10':tcwp10,'cyclone11':tcwp11,'cyclone12':tcwp12,\n",
    "      'cyclone13':tcwp13,'cyclone14':tcwp14,'cyclone15':tcwp15,'cyclone16':tcwp16,'cyclone17':tcwp17,\n",
    "      'cyclone18':tcwp18,'cyclone19':tcwp19,'cyclone21':tcwp21,'cyclone22':tcwp22,'cyclone23':tcwp23,'cyclone24':tcwp24,\n",
    "      'cyclone25':tcwp25,'cyclone26':tcwp26,'cyclone27':tcwp27,'cyclone28':tcwp28,'cyclone29':tcwp29,'cyclone30':tcwp30,\n",
    "      'cyclone31':tcwp31,'cyclone32':tcwp32,'cyclone33':tcwp33,'cyclone34':tcwp34,'cyclone35':tcwp35,'cyclone36':tcwp36,\n",
    "      'cyclone37':tcwp37,'cyclone38':tcwp38,'cyclone39':tcwp39,'cyclone40':tcwp40,'cyclone41':tcwp41,'cyclone42':tcwp42,\n",
    "      'cyclone43':tcwp43,'cyclone44':tcwp44,'cyclone45':tcwp45,'cyclone46':tcwp46,'cyclone47':tcwp47,'cyclone48':tcwp48,\n",
    "      'cyclone49':tcwp49,'cyclone50':tcwp50,'cyclone51':tcwp51,\n",
    "      'cyclone52':tcwp52, 'cyclone53':tcwp53,'cyclone54':tcwp54,'cyclone55':tcwp55,'cyclone56':tcwp56,'cyclone57':tcwp57,\n",
    "      'cyclone58':tcwp58,'cyclone59':tcwp59,'cyclone60':tcwp60,'cyclone61':tcwp61,'cyclone62':tcwp62,'cyclone63':tcwp63,\n",
    "      'cyclone64':tcwp64,'cyclone65':tcwp65,'cyclone66':tcwp66,'cyclone67':tcwp67,'cyclone68':tcwp68,'cyclone69':tcwp69,\n",
    "      'cyclone70':tcwp70,'cyclone71':tcwp71,'cyclone72':tcwp72,'cyclone73':tcwp73,'cyclone74':tcwp74,'cyclone75':tcwp75,\n",
    "      'cyclone76':tcwp76,'cyclone77':tcwp77,'cyclone78':tcwp78,'cyclone79':tcwp79,'cyclone80':tcwp80,'cyclone81':tcwp81,\n",
    "      'cyclone82':tcwp82,'cyclone83':tcwp83,'cyclone84':tcwp84,'cyclone85':tcwp85,'cyclone86':tcwp86,'cyclone87':tcwp87,\n",
    "      'cyclone88':tcwp88,'cyclone89':tcwp89,'cyclone90':tcwp90,'cyclone91':tcwp91,'cyclone92':tcwp92,'cyclone93':tcwp93,\n",
    "      'cyclone94':tcwp94,'cyclone95':tcwp95,'cyclone96':tcwp96,'cyclone97':tcwp97,'cyclone98':tcwp98,\n",
    "      'cyclone99':tcwp99,'cyclone100':tcwp100,'cyclone101':tcwp101,'cyclone102':tcwp102,'cyclone103':tcwp103,'cyclone104':tcwp104,\n",
    "      'cyclone105':tcwp105,'cyclone106':tcwp106,'cyclone107':tcwp107,'cyclone108':tcwp108,'cyclone109':tcwp109,\n",
    "      'cyclone110':tcwp110,'cyclone111':tcwp111,'cyclone112':tcwp112,'cyclone113':tcwp113,'cyclone114':tcwp114,\n",
    "      'cyclone115':tcwp115,'cyclone116':tcwp116,'cyclone117':tcwp117,'cyclone118':tcwp118,'cyclone119':tcwp119,\n",
    "      'cyclone120':tcwp120,'cyclone121':tcwp121,'cyclone122':tcwp122,'cyclone123':tcwp123,'cyclone124':tcwp124,\n",
    "      'cyclone125':tcwp125,'cyclone126':tcwp126,'cyclone127':tcwp127,'cyclone128':tcwp128,'cyclone129':tcwp129,\n",
    "      'cyclone130':tcwp130,'cyclone131':tcwp131,'cyclone132':tcwp132,'cyclone133':tcwp133,'cyclone134':tcwp134,\n",
    "      'cyclone135':tcwp135,'cyclone136':tcwp136,'cyclone137':tcwp137,'cyclone138':tcwp138,'cyclone139':tcwp139,\n",
    "      'cyclone140':tcwp140,'cyclone141':tcwp141,'cyclone142':tcwp142,'cyclone143':tcwp143,'cyclone144':tcwp144,\n",
    "      'cyclone145':tcwp145,'cyclone146':tcwp146,'cyclone147':tcwp147,'cyclone148':tcwp148,'cyclone149':tcwp149,'cyclone150':tcwp150,\n",
    "      'cyclone151':tcwp151,'cyclone152':tcwp152,'cyclone153':tcwp153,'cyclone154':tcwp154,'cyclone155':tcwp155,\n",
    "      'cyclone156':tcwp156,'cyclone157':tcwp157,'cyclone158':tcwp158,'cyclone159':tcwp159,'cyclone160':tcwp160,\n",
    "      'cyclone161':tcwp161,'cyclone162':tcwp162,'cyclone163':tcwp163,'cyclone164':tcwp164,'cyclone165':tcwp165,\n",
    "      'cyclone166':tcwp166,'cyclone167':tcwp167,'cyclone168':tcwp168,'cyclone169':tcwp169,'cyclone170':tcwp170,\n",
    "      'cyclone171':tcwp171,'cyclone172':tcwp172,'cyclone173':tcwp173,'cyclone174':tcwp174,'cyclone175':tcwp175,\n",
    "      'cyclone176':tcwp176,'cyclone177':tcwp177,'cyclone178':tcwp178,'cyclone179':tcwp179,'cyclone180':tcwp180,\n",
    "      'cyclone181':tcwp181,'cyclone182':tcwp182,'cyclone183':tcwp183,'cyclone184':tcwp184,'cyclone185':tcwp185,\n",
    "      'cyclone186':tcwp186,'cyclone187':tcwp187,'cyclone188':tcwp188,'cyclone189':tcwp189,'cyclone190':tcwp190,\n",
    "      'cyclone191':tcwp191,'cyclone192':tcwp192,'cyclone193':tcwp193,'cyclone194':tcwp194,'cyclone195':tcwp195,\n",
    "      'cyclone196':tcwp196,'cylone197':tcwp197,'cyclone198':tcwp198,'cyclone199':tcwp199,'cyclone200':tcwp200,\n",
    "      'cyclone201':tcwp201,'cyclone202':tcwp202,'cyclone203':tcwp203,'cyclone204':tcwp204,'cyclone205':tcwp205,\n",
    "      'cyclone206':tcwp206,'cyclone207':tcwp207}"
   ]
  },
  {
   "cell_type": "code",
   "execution_count": 27,
   "id": "cb8025a2-94f2-40d4-9bc5-b2e0e5a28551",
   "metadata": {},
   "outputs": [],
   "source": [
    "newddwp = {}\n",
    "for inte,item in enumerate(ddwp.keys()):\n",
    "    newddwp[inte] = ddwp[item]\n",
    "\n",
    "newddwp_test = {}\n",
    "for inte,item in enumerate(testcyclone_dict.keys()):\n",
    "    newddwp_test[inte] = testcyclone_dict[item]\n",
    "    \n",
    "indices = {}\n",
    "for ind,varnames in enumerate(newddwp.keys()):\n",
    "    indices[varnames] = np.argmin(gaussian_filter1d(newddwp[varnames][:,1],3))\n",
    "    \n",
    "indices_test = {}\n",
    "for ind,varnames in enumerate(newddwp_test.keys()):\n",
    "    indices_test[varnames] = np.argmin(gaussian_filter1d(newddwp_test[varnames][:,1],3))"
   ]
  },
  {
   "cell_type": "code",
   "execution_count": 28,
   "id": "2f9517ed-fa44-4683-b2a4-b460ed589640",
   "metadata": {},
   "outputs": [],
   "source": [
    "def nan_to_999(dictionary=None):\n",
    "    newdict = {}\n",
    "    for name in dictionary.keys():\n",
    "        newdict[name] = np.nan_to_num(dictionary[name].copy(),-999)\n",
    "    newdict2 = {}\n",
    "    for name in newdict.keys():\n",
    "        temp = newdict[name].copy()\n",
    "        temp[temp==0] = -999.\n",
    "        newdict2[name] = temp\n",
    "    return newdict2\n",
    "\n",
    "def align_data(refpoint=71,individualpoint=None,data=None):\n",
    "    newtraincyclone2 = np.zeros((data.shape[0]+(refpoint-individualpoint),data.shape[1]))\n",
    "    for i in range((data.shape[1])):\n",
    "        newtraincyclone2[:,i] = np.concatenate([np.ones((refpoint-individualpoint))*(-999.),data[:,i]])\n",
    "    return newtraincyclone2\n",
    "\n",
    "def do_alignnedd(newddwp=None,indices=indices,stopindex=None):\n",
    "    aligned_newddwp = {}\n",
    "    for intt,obj in enumerate(newddwp.keys()):\n",
    "        if stopindex:\n",
    "            aligned_newddwp[obj] = align_data(np.asarray(list(indices.values())).max(),indices[obj],newddwp[obj])[:,:stopindex]\n",
    "        else:\n",
    "            aligned_newddwp[obj] = align_data(np.asarray(list(indices.values())).max(),indices[obj],newddwp[obj])\n",
    "    return aligned_newddwp\n",
    "\n",
    "def do_num_to_nan(data=None):\n",
    "    newdata = {}\n",
    "    for intt,obj in enumerate(data.keys()):\n",
    "        temp = data[obj].copy()\n",
    "        temp[temp==-999.] = np.nan\n",
    "        newdata[obj] = temp\n",
    "    return newdata"
   ]
  },
  {
   "cell_type": "code",
   "execution_count": 29,
   "id": "67b16616",
   "metadata": {
    "tags": []
   },
   "outputs": [],
   "source": [
    "class Pipeline:\n",
    "    \"\"\"\n",
    "    Tigramite and Linear Regression Pipeline\n",
    "    \"\"\"\n",
    "    def __init__(self,data,pc_alpha,alpha_level,pc_type='run_pcstable' or 'pcmci',tau_min0=None,tau_max0=None,\n",
    "                 target='precip',var_name=None,seed=None,cond_ind_test=ParCorr()):#,parents=None):\n",
    "        self.pc_alpha = pc_alpha\n",
    "        self.alpha_level = alpha_level\n",
    "        self.data = data\n",
    "        self.pc_type = pc_type\n",
    "        self.target = target\n",
    "        self.tau_min0 = tau_min0\n",
    "        self.tau_max0 = tau_max0\n",
    "        self.var_name = var_name\n",
    "        self.seed = seed\n",
    "        self.cond_ind_test = cond_ind_test\n",
    "        #self.parent=parents\n",
    "        \n",
    "    #################################################################################\n",
    "    # Step 0: Split\n",
    "    #################################################################################\n",
    "    def splitdata(self,testindex=None):\n",
    "        datae = self.data.copy()\n",
    "        traindata = {}\n",
    "        testdata = {}\n",
    "        validdata = {}\n",
    "        validindex,newtestindex = testindex[:int(len(testindex)/2)],testindex[int(len(testindex)/2):]\n",
    "        for obj in datae.keys():\n",
    "            #number = int(obj[7:])\n",
    "            number = (obj)\n",
    "            if number in list(newtestindex):\n",
    "                #testdata['cyclone'+str(number)] = datae['cyclone'+str(number)]\n",
    "                testdata[str(number)] = datae[(number)]\n",
    "            elif number in list(validindex):\n",
    "                #validdata['cyclone'+str(number)] = datae['cyclone'+str(number)]\n",
    "                validdata[str(number)] = datae[(number)]\n",
    "            else:\n",
    "                #traindata['cyclone'+str(number)] = datae['cyclone'+str(number)]\n",
    "                traindata[str(number)] = datae[(number)]\n",
    "        return traindata,validdata,testdata\n",
    "    \n",
    "    #################################################################################\n",
    "    # Step 1: Tigramite\n",
    "    #################################################################################\n",
    "    def run_tigramite(self,lengthtrain=None):\n",
    "        #assert len(self.data)==lengthtrain,\"Wrong shape!\"\n",
    "        datae = self.data.copy()\n",
    "        dataframe =  pp.DataFrame(datae,analysis_mode ='multiple', var_names=var_names,missing_flag=-999.)\n",
    "        #################################################################################\n",
    "        # Sel links\n",
    "        #################################################################################\n",
    "        for member in dataframe.values.keys():\n",
    "            children = [0,1,2]\n",
    "            parents = np.arange(0,234)\n",
    "            #parents = np.arange(0,self.parent)\n",
    "            sel_links = select_links(self.tau_min0, self.tau_max0, parents, children)\n",
    "        #################################################################################\n",
    "        # Run Tigramite\n",
    "        #################################################################################        \n",
    "        pcmci = PCMCI(dataframe = dataframe, cond_ind_test = self.cond_ind_test)\n",
    "        if self.pc_type=='run_pcstable':\n",
    "            results = pcmci.run_pc_stable(selected_links=sel_links, tau_min=self.tau_min0, tau_max=self.tau_max0,\\\n",
    "                                          pc_alpha=self.pc_alpha)\n",
    "        elif self.pc_type=='pcmci':\n",
    "            results = pcmci.run_pcmci(selected_links=sel_links, tau_min=self.tau_min0, tau_max=self.tau_max0,\\\n",
    "                                      pc_alpha=self.pc_alpha)\n",
    "\n",
    "        pcmci.verbosity = 2\n",
    "        #################################################################################\n",
    "        # Test\n",
    "        #################################################################################   \n",
    "        #pcmci.print_results(results,self.alpha_level)\n",
    "        #pcmci.print_significant_links(p_matrix=results['p_matrix'],\n",
    "        #val_matrix = results['val_matrix'],\n",
    "        #alpha_level = self.alpha_level)\n",
    "        return results\n",
    "    \n",
    "    #################################################################################\n",
    "    # Step 2: Linear Regression\n",
    "    #################################################################################\n",
    "    # Helper functions\n",
    "    #################################################################################\n",
    "    def random_testindex(self,totalexp=None,testexp=None):\n",
    "        from numpy.random import default_rng\n",
    "        rng = default_rng(self.seed)\n",
    "        seed = rng.choice(totalexp, testexp, replace=False)\n",
    "        return seed\n",
    "    \n",
    "    def extract_lag_info(self,datar=None,varindex=None,lag=None):\n",
    "        temp = datar[:,varindex] # Full time series\n",
    "        store = []\n",
    "        for timeindex in range(len(temp)):\n",
    "            if timeindex < np.abs(lag):\n",
    "                store.append(np.nan)\n",
    "            elif timeindex > len(temp)-1-np.abs(lag):\n",
    "                store.append(np.nan)\n",
    "            else:\n",
    "                store.append(temp[timeindex-np.abs(lag)])\n",
    "        return store\n",
    "    \n",
    "    def extract_var_and_lag(self,pcmci_results=None,p_or_q='p' or 'q'):\n",
    "        datae = self.data.copy()\n",
    "        dataframe =  pp.DataFrame(datae,analysis_mode ='multiple', var_names=var_names,missing_flag=-999.)\n",
    "        pcmci = PCMCI(dataframe = dataframe, cond_ind_test = self.cond_ind_test)\n",
    "        #################################################################################\n",
    "        # Sel links\n",
    "        #################################################################################\n",
    "        for member in dataframe.values.keys():\n",
    "            children = [0,1,2]\n",
    "            parents = np.arange(0,234)\n",
    "            #parents = np.arange(0,self.parent)\n",
    "            sel_links = select_links(self.tau_min0, self.tau_max0, parents, children)\n",
    "        \n",
    "        q_matrix = pcmci.get_corrected_pvalues(p_matrix=pcmci_results['p_matrix'],\n",
    "                                               selected_links = sel_links, \n",
    "                                               tau_min=self.tau_min0,tau_max=self.tau_max0, fdr_method='fdr_bh')\n",
    "        #################################################################################\n",
    "        # Save vars and lags\n",
    "        #################################################################################\n",
    "        if p_or_q=='p':\n",
    "            sig_links = (pcmci_results['p_matrix'].copy() <= self.alpha_level)\n",
    "        elif p_or_q=='q':\n",
    "            sig_links = (q_matrix.copy() <= self.alpha_level)\n",
    "        arr = []\n",
    "        for j in range(3):\n",
    "            links = {(p[0], -p[1]): np.abs(pcmci_results['val_matrix'][p[0],j,abs(p[1])]) for p in zip(*np.where(sig_links[:,j,:]))}\n",
    "            # Sort by value\n",
    "            sorted_links = sorted(links, key=links.get, reverse=True)\n",
    "            arr.append(sorted_links)\n",
    "        return arr\n",
    "    \n",
    "    #################################################################################\n",
    "    # Process functions\n",
    "    #################################################################################\n",
    "    def preproc_ts_withnan(self,links=None,group=None,trainmean=None,trainstd=None):\n",
    "        if self.target=='precip':\n",
    "            arrtarget,ytarget = links[0],[self.data[obj][:,0] for obj in self.data.keys()]\n",
    "        elif self.target=='pmin':\n",
    "            arrtarget,ytarget = links[1],[self.data[obj][:,1] for obj in self.data.keys()]\n",
    "        elif self.target=='v10':\n",
    "            arrtarget,ytarget = links[2],[self.data[obj][:,2] for obj in self.data.keys()]\n",
    "        \n",
    "        # 1. Extract time series with nan\n",
    "        varindexstore,lagstore,TS_store,flatTS_store = [],[],[],[]\n",
    "        for varindex,lag in arrtarget:\n",
    "            varindexstore.append(varindex)\n",
    "            lagstore.append(lag)\n",
    "            tempp = [self.extract_lag_info(datar=self.data[obj],varindex=varindex,lag=lag) for obj in self.data.keys()]\n",
    "            TS_store.append(tempp)\n",
    "            flatTS_store.append(np.concatenate([obj for obj in tempp]))\n",
    "        \n",
    "        # 2. Normalize\n",
    "        if group=='train':\n",
    "            TSnorml_store,meanstore,stdstore = [],[],[]\n",
    "            for i in range(len(TS_store)): #combination\n",
    "                tempmean,tempstd = np.nanmean(flatTS_store[i]),np.nanstd(flatTS_store[i])\n",
    "                TSnorml_store.append([(obj-tempmean)/tempstd for obj in TS_store[i]])\n",
    "                meanstore.append(tempmean)\n",
    "                stdstore.append(tempstd)\n",
    "        elif (group=='test') or (group=='valid'):\n",
    "            TSnorml_store = []\n",
    "            for i in range(len(TS_store)):\n",
    "                tempmean,tempstd = (trainmean[i]),(trainstd[i])\n",
    "                TSnorml_store.append([(obj-tempmean)/tempstd for obj in TS_store[i]])\n",
    "            \n",
    "        # 3. Concatenate\n",
    "        #validindex,testindex = validtestindex[0:int(np.round(len(validtestindex)/2))],\\\n",
    "        #validtestindex[int(np.round(len(validtestindex)/2)):]\n",
    "        \n",
    "        Xtrain_withnan_store = []\n",
    "        for i in range(len(TS_store)):\n",
    "            storelist = [i for j, i in enumerate(TSnorml_store[i])]\n",
    "            Xtrain_withnan_store.append(np.concatenate([obj for obj in storelist]))\n",
    "            \n",
    "        Ytrain = np.concatenate([i for j, i in enumerate(ytarget)])\n",
    "        if group=='train':\n",
    "            return Xtrain_withnan_store,Ytrain,meanstore,stdstore\n",
    "        elif group=='valid':\n",
    "            return Xtrain_withnan_store,Ytrain\n",
    "        elif group=='test':\n",
    "            return Xtrain_withnan_store,Ytrain\n",
    "    \n",
    "    def remove_nan(self,Xdict=None,ydict=None):\n",
    "        def _remove_nan(X=None,y=None):\n",
    "            X_nonan,Y_nonan = [],[]\n",
    "            X_withnan_storer = np.asarray(X).transpose()\n",
    "            for i in (range(len(y))):\n",
    "                tempX = X_withnan_storer[i,:]\n",
    "                if np.isnan(tempX).any():\n",
    "                    continue\n",
    "                else:\n",
    "                    X_nonan.append(tempX)\n",
    "                    Y_nonan.append(y[i])\n",
    "            return X_nonan,Y_nonan\n",
    "        Xtrain,ytrain = _remove_nan(X=Xdict['train'],y=ydict['train'])\n",
    "        Xvalid,yvalid = _remove_nan(X=Xdict['valid'],y=ydict['valid'])\n",
    "        Xtest,ytest = _remove_nan(X=Xdict['test'],y=ydict['test'])\n",
    "        Xnewtest,ynewtest = _remove_nan(X=Xdict['newtest'],y=ydict['newtest'])\n",
    "        return {'train':Xtrain,'valid':Xvalid,'test':Xtest,'newtest':Xnewtest},{'train':ytrain,'valid':yvalid,'test':ytest,'newtest':ynewtest}\n",
    "\n",
    "    def remove_999(self,Xdict=None,ydict=None):\n",
    "        def _remove_999(X=None,y=None):\n",
    "            X_nonan,Y_nonan = [],[]\n",
    "            X_withnan_storer = np.asarray(X).transpose()\n",
    "            for i in (range(len(y))):\n",
    "                tempX = X_withnan_storer[i,:]\n",
    "                if y[i]==-999.:\n",
    "                    continue\n",
    "                else:\n",
    "                    X_nonan.append(tempX)\n",
    "                    Y_nonan.append(y[i])\n",
    "            return X_nonan,Y_nonan\n",
    "        Xtrain,ytrain = _remove_999(X=Xdict['train'],y=ydict['train'])\n",
    "        Xvalid,yvalid = _remove_999(X=Xdict['valid'],y=ydict['valid'])\n",
    "        Xtest,ytest = _remove_999(X=Xdict['test'],y=ydict['test'])\n",
    "        Xnewtest,ynewtest = _remove_999(X=Xdict['newtest'],y=ydict['newtest'])\n",
    "        return {'train':Xtrain,'valid':Xvalid,'test':Xtest,'newtest':Xnewtest},{'train':ytrain,'valid':yvalid,'test':ytest,'newtest':ynewtest}\n",
    "    #################################################################################\n",
    "    # Train model\n",
    "    #################################################################################\n",
    "    def train_mlr(self,X=None,y=None):\n",
    "        regr = LinearRegression()\n",
    "        regr.fit(X['train'],y['train'])\n",
    "        return regr"
   ]
  },
  {
   "cell_type": "code",
   "execution_count": 30,
   "id": "6e0a8252",
   "metadata": {},
   "outputs": [],
   "source": [
    "def trainMLR_target(traindata=None,validdata=None,testdata=None,newtestdata=None,target='precip' or 'pmin' or 'v10',seed=12345,tau_min=None,tau_max=None):\n",
    "    ################################################################################################################\n",
    "    # 1. X,y with nan\n",
    "    Xtrain_nan,ytrain_nan,trainmean,trainstd = Pipeline(traindata,pc_alpha,alpha_level,pc_type='pcmci',\\\n",
    "                                                        tau_min0=tau_min,tau_max0=tau_max,\\\n",
    "                                                        target=target,var_name=var_names,\\\n",
    "                                                        seed=seed).preproc_ts_withnan(links=var_and_lag,group='train',\\\n",
    "                                                                                       trainmean=None,trainstd=None)\n",
    "    Xvalid_nan,yvalid_nan = Pipeline(validdata,pc_alpha,alpha_level,pc_type='pcmci',\\\n",
    "                                   tau_min0=tau_min,tau_max0=tau_max,target=target,\\\n",
    "                                   var_name=var_names,seed=seed).preproc_ts_withnan(links=var_and_lag,\\\n",
    "                                                                                     group='valid',\\\n",
    "                                                                                     trainmean=trainmean,\\\n",
    "                                                                                     trainstd=trainstd)\n",
    "    \n",
    "    Xtest_nan,ytest_nan = Pipeline(testdata,pc_alpha,alpha_level,pc_type='pcmci',\\\n",
    "                                   tau_min0=tau_min,tau_max0=tau_max,target=target,\\\n",
    "                                   var_name=var_names,seed=seed).preproc_ts_withnan(links=var_and_lag,\\\n",
    "                                                                                     group='test',\\\n",
    "                                                                                     trainmean=trainmean,\\\n",
    "                                                                                     trainstd=trainstd)\n",
    "    \n",
    "    Xnewtest_nan,ynewtest_nan = Pipeline(newtestdata,pc_alpha,alpha_level,pc_type='pcmci',\\\n",
    "                                   tau_min0=tau_min,tau_max0=tau_max,target=target,\\\n",
    "                                   var_name=var_names,seed=seed).preproc_ts_withnan(links=var_and_lag,\\\n",
    "                                                                                     group='test',\\\n",
    "                                                                                     trainmean=trainmean,\\\n",
    "                                                                                     trainstd=trainstd)\n",
    "    X_nan = {'train':Xtrain_nan,'valid':Xvalid_nan,'test':Xtest_nan,'newtest':Xnewtest_nan}\n",
    "    y_nan = {'train':ytrain_nan,'valid':yvalid_nan,'test':ytest_nan,'newtest':ynewtest_nan}\n",
    "    ################################################################################################################\n",
    "    # 2. remove nan\n",
    "    X_nonan,y_nonan = Pipeline(traindata,pc_alpha,alpha_level,pc_type='pcmci',\\\n",
    "                               tau_min0=tau_min,tau_max0=tau_max,target=target,\\\n",
    "                               var_name=var_names,seed=seed).remove_nan(Xdict=X_nan,ydict=y_nan)\n",
    "    ################################################################################################################\n",
    "    # 3. Train MLR\n",
    "    wpac_mlr = Pipeline(traindata,pc_alpha,alpha_level,pc_type='pcmci',\\\n",
    "                        tau_min0=tau_min,tau_max0=tau_max,target=target,\\\n",
    "                        var_name=var_names,seed=seed).train_mlr(X=X_nonan,y=y_nonan)\n",
    "    ################################################################################################################\n",
    "    return wpac_mlr,X_nonan,y_nonan\n",
    "    #return X_nan, y_nan\n",
    "\n",
    "import pickle\n",
    "def save_to_pickle(loc=None,var=None):\n",
    "    with open(loc,\"wb\") as f:\n",
    "        pickle.dump(var,f)\n",
    "    return None"
   ]
  },
  {
   "cell_type": "code",
   "execution_count": null,
   "id": "c1f3a652-2817-478d-b384-c72b54d3fb81",
   "metadata": {},
   "outputs": [],
   "source": []
  },
  {
   "cell_type": "markdown",
   "id": "6f9a92d8",
   "metadata": {
    "tags": []
   },
   "source": [
    "#### PCSTABLE"
   ]
  },
  {
   "cell_type": "code",
   "execution_count": 31,
   "id": "c852596c",
   "metadata": {},
   "outputs": [],
   "source": [
    "def depickle(loc=None):\n",
    "    output = []\n",
    "    with open(loc,'rb') as f:\n",
    "        output.append(pickle.load(f))\n",
    "    return output[0]\n",
    "\n",
    "def align_data(refpoint=71,individualpoint=None,data=None):\n",
    "    newtraincyclone2 = np.zeros((data.shape[0]+(refpoint-individualpoint),data.shape[1]))\n",
    "    for i in range((data.shape[1])):\n",
    "        newtraincyclone2[:,i] = np.concatenate([np.ones((refpoint-individualpoint))*(-999.),data[:,i]])\n",
    "    return newtraincyclone2"
   ]
  },
  {
   "cell_type": "code",
   "execution_count": 32,
   "id": "510b00f9",
   "metadata": {},
   "outputs": [],
   "source": [
    "xtest=[np.round(obj,decimals=2) for obj in np.linspace(0.01,0.9,30)]"
   ]
  },
  {
   "cell_type": "code",
   "execution_count": 33,
   "id": "6d9d2671-9a7c-44a6-9677-124e5d4584a5",
   "metadata": {},
   "outputs": [],
   "source": [
    "aligned_newddwp = {}\n",
    "for intt,obj in enumerate(newddwp.keys()):\n",
    "    aligned_newddwp[obj] = align_data(np.asarray(list(indices.values())).max(),indices[obj],newddwp[obj])\n",
    "    \n",
    "aligned_newddwp_test = {}\n",
    "for intt,obj in enumerate(newddwp_test.keys()):\n",
    "    aligned_newddwp_test[obj] = align_data(np.asarray(list(indices_test.values())).max(),indices_test[obj],newddwp_test[obj])"
   ]
  },
  {
   "cell_type": "code",
   "execution_count": 100,
   "id": "057015d4",
   "metadata": {},
   "outputs": [
    {
     "data": {
      "application/vnd.jupyter.widget-view+json": {
       "model_id": "25597c0e93ac4a1599088ac174b029ea",
       "version_major": 2,
       "version_minor": 0
      },
      "text/plain": [
       "  0%|          | 0/1 [00:00<?, ?it/s]"
      ]
     },
     "metadata": {},
     "output_type": "display_data"
    }
   ],
   "source": [
    "from copy import deepcopy\n",
    "pc_alphaa,alpha_level,splitsize,seednum=0.1,0.01,55,12348\n",
    "pc_type = 'run_pcstable'\n",
    "var_names=ds1.columns.values.tolist()\n",
    "\n",
    "aligned_newddwp = {}\n",
    "for intt,obj in enumerate(newddwp.keys()):\n",
    "    aligned_newddwp[obj] = align_data(np.asarray(list(indices.values())).max(),indices[obj],newddwp[obj])\n",
    "    \n",
    "for pc_alpha in tqdm([1e-9]):#[0.09]):#,0.07,0.05,0.01,1e-3,1e-4,1e-5,1e-6,1e-7,1e-8]):#np.linspace(0.9,0.99,10)):#,0.1,0.05,0.01,1e-3,1e-4,1e-5,1e-6,1e-7,1e-8]):\n",
    "    testindex = (Pipeline(aligned_newddwp,pc_alpha,alpha_level,pc_type=pc_type,tau_min0=8,tau_max0=24,\\\n",
    "                          target=None,var_name=var_names,seed=seednum,cond_ind_test=ParCorr()).random_testindex(205,splitsize))\n",
    "    traindata,validdata,testdata = Pipeline(aligned_newddwp,pc_alpha,alpha_level,pc_type=pc_type,tau_min0=8,tau_max0=24,\\\n",
    "                                            target='precip',var_name=var_names,seed=seednum,cond_ind_test=ParCorr()).splitdata(testindex)\n",
    "    newtestdata = deepcopy(aligned_newddwp_test)\n",
    "    result,val_min,pval_max = Pipeline(traindata,pc_alpha,alpha_level,pc_type=pc_type,tau_min0=8,tau_max0=24,\\\n",
    "                      target='precip',var_name=var_names,seed=seednum,cond_ind_test=ParCorr()).run_tigramite(int(205-splitsize))\n",
    "    saveresults = {'result':result,'val_min':val_min,'pval_max':pval_max}\n",
    "    var_and_lag = [result[0],result[1],result[2]]\n",
    "    validdata=do_num_to_nan(validdata)\n",
    "    testdata=do_num_to_nan(testdata)#do_num_to_nan(testdata)\n",
    "    newtestdata=do_num_to_nan(newtestdata)\n",
    "    #traindatar = nan_to_999(traindata)\n",
    "    #traindata=np.nan_to_num(traindata,-999.)\n",
    "    #validdata=np.nan_to_num(validdata,-999.)\n",
    "    #testdata=np.nan_to_num(testdata,-999.)\n",
    "    #newtestdata=np.nan_to_num(newtestdata,-999.)\n",
    "    wpac_mlr_precip,X_precip,y_precip = trainMLR_target(traindata=traindata,validdata=validdata,testdata=testdata,newtestdata=newtestdata,target='precip',seed=seednum,\n",
    "                                                       tau_min=8,tau_max=24)\n",
    "    wpac_mlr_pmin,X_pmin,y_pmin = trainMLR_target(traindata=traindata,validdata=validdata,testdata=testdata,newtestdata=newtestdata,target='pmin',seed=seednum,\n",
    "                                                 tau_min=8,tau_max=24)\n",
    "    wpac_mlr_v10,X_v10,y_v10 = trainMLR_target(traindata=traindata,validdata=validdata,testdata=testdata,newtestdata=newtestdata,target='v10',seed=seednum,\n",
    "                                              tau_min=8,tau_max=24)\n",
    "    #save_to_pickle(loc='./pcstabledata/newcausalwpac_8-24_precip.obj.'+\\\n",
    "    #               str(np.round(pc_alpha,decimals=2))+'.'+str(seednum),\\\n",
    "    #               var={'mlr':wpac_mlr_precip,'X':X_precip,'y':y_precip})\n",
    "    #\n",
    "    #save_to_pickle(loc='./pcstabledata/newcausalwpac_8-24_pmin.obj.'+\\\n",
    "    #               str(np.round(pc_alpha,decimals=2))+'.'+str(seednum),\\\n",
    "    #               var={'mlr':wpac_mlr_pmin,'X':X_pmin,'y':y_pmin})\n",
    "    #save_to_pickle(loc='./pcstabledata/newcausalwpac_8-24_v10.obj.'+\\\n",
    "    #              str(np.round(pc_alpha,decimals=2))+'.'+str(seednum),\\\n",
    "    #               var={'mlr':wpac_mlr_v10,'X':X_v10,'y':y_v10})\n",
    "    #save_to_pickle(loc='./pcstabledata/newcausalwpac_8-24_lag_and_links.'+\\\n",
    "    #               str(np.round(pc_alpha,decimals=2))+'.'+str(seednum),var=var_and_lag)\n",
    "    \n",
    "    #save_to_pickle(loc='./newtestset/'+str(seednum)+'/causalpc1wpac_8-24_precip.obj.'+\\\n",
    "    #               str((pc_alpha))+'.'+str(seednum),\\\n",
    "    #               var={'mlr':wpac_mlr_precip,'X':X_precip,'y':y_precip})\n",
    "    #save_to_pickle(loc='./newtestset/'+str(seednum)+'/causalpc1wpac_8-24_pmin.obj.'+\\\n",
    "    #               str((pc_alpha))+'.'+str(seednum),\\\n",
    "    #               var={'mlr':wpac_mlr_pmin,'X':X_pmin,'y':y_pmin})\n",
    "    #save_to_pickle(loc='./newtestset/'+str(seednum)+'/causalpc1wpac_8-24_v10.obj.'+\\\n",
    "    #               str((pc_alpha))+'.'+str(seednum),\\\n",
    "    #               var={'mlr':wpac_mlr_v10,'X':X_v10,'y':y_v10})\n",
    "    #save_to_pickle(loc='./newtestset/'+str(seednum)+'/causalpc1wpac_8-24_lag_and_links.'+\\\n",
    "    #               str((pc_alpha))+'.'+str(seednum),var=var_and_lag)\n",
    "    #save_to_pickle(loc='./newtestset/'+str(seednum)+'/causalpc1wpac_8-24_results.'+\\\n",
    "    #               str((pc_alpha))+'.'+str(seednum),var=saveresults)"
   ]
  },
  {
   "cell_type": "code",
   "execution_count": 104,
   "id": "8970e137-4e5e-45f8-a5aa-b020f64f7905",
   "metadata": {},
   "outputs": [
    {
     "data": {
      "image/png": "[encoded data removed]",
      "text/plain": [
       "<Figure size 432x288 with 1 Axes>"
      ]
     },
     "metadata": {
      "needs_background": "light"
     },
     "output_type": "display_data"
    }
   ],
   "source": [
    "plt.plot(np.asarray(X_v10['newtest'])[:,6])\n",
    "plt.show()"
   ]
  },
  {
   "cell_type": "code",
   "execution_count": 59,
   "id": "ca84a262-842e-4b33-b987-fb513c4b778d",
   "metadata": {},
   "outputs": [
    {
     "data": {
      "image/png": "[encoded data removed]",
      "text/plain": [
       "<Figure size 432x288 with 1 Axes>"
      ]
     },
     "metadata": {
      "needs_background": "light"
     },
     "output_type": "display_data"
    }
   ],
   "source": [
    "plt.plot(newtestdata[48][:,11])\n",
    "plt.show()"
   ]
  },
  {
   "cell_type": "code",
   "execution_count": 12,
   "id": "9280c607-5268-4cf8-9557-121b4010b31a",
   "metadata": {},
   "outputs": [
    {
     "data": {
      "text/plain": [
       "['/work/FAC/FGSE/IDYST/tbeucler/default/saranya/causal/timeseries_csv/new_storms_wpac/timeseries_nwp_newall_2017TEMBIN.csv',\n",
       " '/work/FAC/FGSE/IDYST/tbeucler/default/saranya/causal/timeseries_csv/new_storms_wpac/timeseries_nwp_newall_2018AMPIL.csv',\n",
       " '/work/FAC/FGSE/IDYST/tbeucler/default/saranya/causal/timeseries_csv/new_storms_wpac/timeseries_nwp_newall_2018BEBINCA.csv',\n",
       " '/work/FAC/FGSE/IDYST/tbeucler/default/saranya/causal/timeseries_csv/new_storms_wpac/timeseries_nwp_newall_2018CIMARON.csv',\n",
       " '/work/FAC/FGSE/IDYST/tbeucler/default/saranya/causal/timeseries_csv/new_storms_wpac/timeseries_nwp_newall_2018EWINIAR.csv',\n",
       " '/work/FAC/FGSE/IDYST/tbeucler/default/saranya/causal/timeseries_csv/new_storms_wpac/timeseries_nwp_newall_2018GAEMI.csv',\n",
       " '/work/FAC/FGSE/IDYST/tbeucler/default/saranya/causal/timeseries_csv/new_storms_wpac/timeseries_nwp_newall_2018HECTOR.csv',\n",
       " '/work/FAC/FGSE/IDYST/tbeucler/default/saranya/causal/timeseries_csv/new_storms_wpac/timeseries_nwp_newall_2018JEBI.csv',\n",
       " '/work/FAC/FGSE/IDYST/tbeucler/default/saranya/causal/timeseries_csv/new_storms_wpac/timeseries_nwp_newall_2018JONGDARI.csv',\n",
       " '/work/FAC/FGSE/IDYST/tbeucler/default/saranya/causal/timeseries_csv/new_storms_wpac/timeseries_nwp_newall_2018LEEPI.csv',\n",
       " '/work/FAC/FGSE/IDYST/tbeucler/default/saranya/causal/timeseries_csv/new_storms_wpac/timeseries_nwp_newall_2018MAN-YI.csv',\n",
       " '/work/FAC/FGSE/IDYST/tbeucler/default/saranya/causal/timeseries_csv/new_storms_wpac/timeseries_nwp_newall_2018MANGKHUT.csv',\n",
       " '/work/FAC/FGSE/IDYST/tbeucler/default/saranya/causal/timeseries_csv/new_storms_wpac/timeseries_nwp_newall_2018MARIA.csv',\n",
       " '/work/FAC/FGSE/IDYST/tbeucler/default/saranya/causal/timeseries_csv/new_storms_wpac/timeseries_nwp_newall_2018PRAPIROON.csv',\n",
       " '/work/FAC/FGSE/IDYST/tbeucler/default/saranya/causal/timeseries_csv/new_storms_wpac/timeseries_nwp_newall_2018RUMBIA.csv',\n",
       " '/work/FAC/FGSE/IDYST/tbeucler/default/saranya/causal/timeseries_csv/new_storms_wpac/timeseries_nwp_newall_2018SANBA.csv',\n",
       " '/work/FAC/FGSE/IDYST/tbeucler/default/saranya/causal/timeseries_csv/new_storms_wpac/timeseries_nwp_newall_2018SHANSHAN.csv',\n",
       " '/work/FAC/FGSE/IDYST/tbeucler/default/saranya/causal/timeseries_csv/new_storms_wpac/timeseries_nwp_newall_2018SON-TINH.csv',\n",
       " '/work/FAC/FGSE/IDYST/tbeucler/default/saranya/causal/timeseries_csv/new_storms_wpac/timeseries_nwp_newall_2018SOULIK.csv',\n",
       " '/work/FAC/FGSE/IDYST/tbeucler/default/saranya/causal/timeseries_csv/new_storms_wpac/timeseries_nwp_newall_2018TRAMI.csv',\n",
       " '/work/FAC/FGSE/IDYST/tbeucler/default/saranya/causal/timeseries_csv/new_storms_wpac/timeseries_nwp_newall_2018USAGI.csv',\n",
       " '/work/FAC/FGSE/IDYST/tbeucler/default/saranya/causal/timeseries_csv/new_storms_wpac/timeseries_nwp_newall_2018WUKONG.csv',\n",
       " '/work/FAC/FGSE/IDYST/tbeucler/default/saranya/causal/timeseries_csv/new_storms_wpac/timeseries_nwp_newall_2018YAGI.csv',\n",
       " '/work/FAC/FGSE/IDYST/tbeucler/default/saranya/causal/timeseries_csv/new_storms_wpac/timeseries_nwp_newall_2019BAILU.csv',\n",
       " '/work/FAC/FGSE/IDYST/tbeucler/default/saranya/causal/timeseries_csv/new_storms_wpac/timeseries_nwp_newall_2019DANAS.csv',\n",
       " '/work/FAC/FGSE/IDYST/tbeucler/default/saranya/causal/timeseries_csv/new_storms_wpac/timeseries_nwp_newall_2019FAXAI.csv',\n",
       " '/work/FAC/FGSE/IDYST/tbeucler/default/saranya/causal/timeseries_csv/new_storms_wpac/timeseries_nwp_newall_2019FRANCISCO.csv',\n",
       " '/work/FAC/FGSE/IDYST/tbeucler/default/saranya/causal/timeseries_csv/new_storms_wpac/timeseries_nwp_newall_2019HAGIBIS.csv',\n",
       " '/work/FAC/FGSE/IDYST/tbeucler/default/saranya/causal/timeseries_csv/new_storms_wpac/timeseries_nwp_newall_2019KAJIKI.csv',\n",
       " '/work/FAC/FGSE/IDYST/tbeucler/default/saranya/causal/timeseries_csv/new_storms_wpac/timeseries_nwp_newall_2019KROSA.csv',\n",
       " '/work/FAC/FGSE/IDYST/tbeucler/default/saranya/causal/timeseries_csv/new_storms_wpac/timeseries_nwp_newall_2019LEKIMA.csv',\n",
       " '/work/FAC/FGSE/IDYST/tbeucler/default/saranya/causal/timeseries_csv/new_storms_wpac/timeseries_nwp_newall_2019LINGLING.csv',\n",
       " '/work/FAC/FGSE/IDYST/tbeucler/default/saranya/causal/timeseries_csv/new_storms_wpac/timeseries_nwp_newall_2019MITAG.csv',\n",
       " '/work/FAC/FGSE/IDYST/tbeucler/default/saranya/causal/timeseries_csv/new_storms_wpac/timeseries_nwp_newall_2019PHANFONE.csv',\n",
       " '/work/FAC/FGSE/IDYST/tbeucler/default/saranya/causal/timeseries_csv/new_storms_wpac/timeseries_nwp_newall_2019PODUL.csv',\n",
       " '/work/FAC/FGSE/IDYST/tbeucler/default/saranya/causal/timeseries_csv/new_storms_wpac/timeseries_nwp_newall_2019SEPAT.csv',\n",
       " '/work/FAC/FGSE/IDYST/tbeucler/default/saranya/causal/timeseries_csv/new_storms_wpac/timeseries_nwp_newall_2019TAPAH.csv',\n",
       " '/work/FAC/FGSE/IDYST/tbeucler/default/saranya/causal/timeseries_csv/new_storms_wpac/timeseries_nwp_newall_2019WIPHA.csv',\n",
       " '/work/FAC/FGSE/IDYST/tbeucler/default/saranya/causal/timeseries_csv/new_storms_wpac/timeseries_nwp_newall_2019WUTIP.csv',\n",
       " '/work/FAC/FGSE/IDYST/tbeucler/default/saranya/causal/timeseries_csv/new_storms_wpac/timeseries_nwp_newall_2020BAVI.csv',\n",
       " '/work/FAC/FGSE/IDYST/tbeucler/default/saranya/causal/timeseries_csv/new_storms_wpac/timeseries_nwp_newall_2020DOLPHIN.csv',\n",
       " '/work/FAC/FGSE/IDYST/tbeucler/default/saranya/causal/timeseries_csv/new_storms_wpac/timeseries_nwp_newall_2020HAGUPIT.csv',\n",
       " '/work/FAC/FGSE/IDYST/tbeucler/default/saranya/causal/timeseries_csv/new_storms_wpac/timeseries_nwp_newall_2020HAISHEN.csv',\n",
       " '/work/FAC/FGSE/IDYST/tbeucler/default/saranya/causal/timeseries_csv/new_storms_wpac/timeseries_nwp_newall_2020JANGMI.csv',\n",
       " '/work/FAC/FGSE/IDYST/tbeucler/default/saranya/causal/timeseries_csv/new_storms_wpac/timeseries_nwp_newall_2020KROVANH.csv',\n",
       " '/work/FAC/FGSE/IDYST/tbeucler/default/saranya/causal/timeseries_csv/new_storms_wpac/timeseries_nwp_newall_2020KUJIRA.csv',\n",
       " '/work/FAC/FGSE/IDYST/tbeucler/default/saranya/causal/timeseries_csv/new_storms_wpac/timeseries_nwp_newall_2020MAYSAK.csv',\n",
       " '/work/FAC/FGSE/IDYST/tbeucler/default/saranya/causal/timeseries_csv/new_storms_wpac/timeseries_nwp_newall_2020NURI.csv',\n",
       " '/work/FAC/FGSE/IDYST/tbeucler/default/saranya/causal/timeseries_csv/new_storms_wpac/timeseries_nwp_newall_2021CHAMPI.csv',\n",
       " '/work/FAC/FGSE/IDYST/tbeucler/default/saranya/causal/timeseries_csv/new_storms_wpac/timeseries_nwp_newall_2021CHANTHU.csv',\n",
       " '/work/FAC/FGSE/IDYST/tbeucler/default/saranya/causal/timeseries_csv/new_storms_wpac/timeseries_nwp_newall_2021CONSON.csv',\n",
       " '/work/FAC/FGSE/IDYST/tbeucler/default/saranya/causal/timeseries_csv/new_storms_wpac/timeseries_nwp_newall_2021IN-FA.csv',\n",
       " '/work/FAC/FGSE/IDYST/tbeucler/default/saranya/causal/timeseries_csv/new_storms_wpac/timeseries_nwp_newall_2021LUPIT.csv',\n",
       " '/work/FAC/FGSE/IDYST/tbeucler/default/saranya/causal/timeseries_csv/new_storms_wpac/timeseries_nwp_newall_2021OMAIS.csv',\n",
       " '/work/FAC/FGSE/IDYST/tbeucler/default/saranya/causal/timeseries_csv/new_storms_wpac/timeseries_nwp_newall_2021RAI.csv']"
      ]
     },
     "execution_count": 12,
     "metadata": {},
     "output_type": "execute_result"
    }
   ],
   "source": [
    "from natsort import natsorted\n",
    "natsorted(glob.glob('/work/FAC/FGSE/IDYST/tbeucler/default/saranya/causal/timeseries_csv/new_storms_wpac/*'))[-55:]"
   ]
  },
  {
   "cell_type": "code",
   "execution_count": 6,
   "id": "2be9c5c1-5362-4920-80e7-1f610102f282",
   "metadata": {},
   "outputs": [
    {
     "name": "stdout",
     "output_type": "stream",
     "text": [
      "/work/FAC/FGSE/IDYST/tbeucler/default/saranya/causal/timeseries_csv/new_storms_wpac/timeseries_nwp_newall_2012KIROGI.csv\n",
      "/work/FAC/FGSE/IDYST/tbeucler/default/saranya/causal/timeseries_csv/new_storms_wpac/timeseries_nwp_newall_2014KAMMURI.csv\n",
      "/work/FAC/FGSE/IDYST/tbeucler/default/saranya/causal/timeseries_csv/new_storms_wpac/timeseries_nwp_newall_2012MAWAR.csv\n",
      "/work/FAC/FGSE/IDYST/tbeucler/default/saranya/causal/timeseries_csv/new_storms_wpac/timeseries_nwp_newall_2014RAMMASUN.csv\n",
      "/work/FAC/FGSE/IDYST/tbeucler/default/saranya/causal/timeseries_csv/new_storms_wpac/timeseries_nwp_newall_2017DOKSURI.csv\n",
      "/work/FAC/FGSE/IDYST/tbeucler/default/saranya/causal/timeseries_csv/new_storms_wpac/timeseries_nwp_newall_2018SHANSHAN.csv\n",
      "/work/FAC/FGSE/IDYST/tbeucler/default/saranya/causal/timeseries_csv/new_storms_wpac/timeseries_nwp_newall_2018GAEMI.csv\n",
      "/work/FAC/FGSE/IDYST/tbeucler/default/saranya/causal/timeseries_csv/new_storms_wpac/timeseries_nwp_newall_2015HALOLA.csv\n",
      "/work/FAC/FGSE/IDYST/tbeucler/default/saranya/causal/timeseries_csv/new_storms_wpac/timeseries_nwp_newall_2015NOUL.csv\n",
      "/work/FAC/FGSE/IDYST/tbeucler/default/saranya/causal/timeseries_csv/new_storms_wpac/timeseries_nwp_newall_2018USAGI.csv\n",
      "/work/FAC/FGSE/IDYST/tbeucler/default/saranya/causal/timeseries_csv/new_storms_wpac/timeseries_nwp_newall_2019KROSA.csv\n",
      "/work/FAC/FGSE/IDYST/tbeucler/default/saranya/causal/timeseries_csv/new_storms_wpac/timeseries_nwp_newall_2018JEBI.csv\n",
      "/work/FAC/FGSE/IDYST/tbeucler/default/saranya/causal/timeseries_csv/new_storms_wpac/timeseries_nwp_newall_2013LEEPI.csv\n",
      "/work/FAC/FGSE/IDYST/tbeucler/default/saranya/causal/timeseries_csv/new_storms_wpac/timeseries_nwp_newall_2018MANGKHUT.csv\n",
      "/work/FAC/FGSE/IDYST/tbeucler/default/saranya/causal/timeseries_csv/new_storms_wpac/timeseries_nwp_newall_2014MATMO.csv\n",
      "/work/FAC/FGSE/IDYST/tbeucler/default/saranya/causal/timeseries_csv/new_storms_wpac/timeseries_nwp_newall_2013PABUK.csv\n",
      "/work/FAC/FGSE/IDYST/tbeucler/default/saranya/causal/timeseries_csv/new_storms_wpac/timeseries_nwp_newall_2015GONI.csv\n",
      "/work/FAC/FGSE/IDYST/tbeucler/default/saranya/causal/timeseries_csv/new_storms_wpac/timeseries_nwp_newall_2020JANGMI.csv\n",
      "/work/FAC/FGSE/IDYST/tbeucler/default/saranya/causal/timeseries_csv/new_storms_wpac/timeseries_nwp_newall_2011NORU.csv\n",
      "/work/FAC/FGSE/IDYST/tbeucler/default/saranya/causal/timeseries_csv/new_storms_wpac/timeseries_nwp_newall_2013PEWA.csv\n",
      "/work/FAC/FGSE/IDYST/tbeucler/default/saranya/causal/timeseries_csv/new_storms_wpac/timeseries_nwp_newall_2011NESAT.csv\n",
      "/work/FAC/FGSE/IDYST/tbeucler/default/saranya/causal/timeseries_csv/new_storms_wpac/timeseries_nwp_newall_2021CHANTHU.csv\n",
      "/work/FAC/FGSE/IDYST/tbeucler/default/saranya/causal/timeseries_csv/new_storms_wpac/timeseries_nwp_newall_2012SANVU.csv\n",
      "/work/FAC/FGSE/IDYST/tbeucler/default/saranya/causal/timeseries_csv/new_storms_wpac/timeseries_nwp_newall_2014NAKRI.csv\n",
      "/work/FAC/FGSE/IDYST/tbeucler/default/saranya/causal/timeseries_csv/new_storms_wpac/timeseries_nwp_newall_2019TAPAH.csv\n",
      "/work/FAC/FGSE/IDYST/tbeucler/default/saranya/causal/timeseries_csv/new_storms_wpac/timeseries_nwp_newall_2018JONGDARI.csv\n",
      "/work/FAC/FGSE/IDYST/tbeucler/default/saranya/causal/timeseries_csv/new_storms_wpac/timeseries_nwp_newall_2017NANMADOL.csv\n",
      "/work/FAC/FGSE/IDYST/tbeucler/default/saranya/causal/timeseries_csv/new_storms_wpac/timeseries_nwp_newall_2019WUTIP.csv\n",
      "/work/FAC/FGSE/IDYST/tbeucler/default/saranya/causal/timeseries_csv/new_storms_wpac/timeseries_nwp_newall_2018YAGI.csv\n",
      "/work/FAC/FGSE/IDYST/tbeucler/default/saranya/causal/timeseries_csv/new_storms_wpac/timeseries_nwp_newall_2016LIONROCK.csv\n",
      "/work/FAC/FGSE/IDYST/tbeucler/default/saranya/causal/timeseries_csv/new_storms_wpac/timeseries_nwp_newall_2019LINGLING.csv\n",
      "/work/FAC/FGSE/IDYST/tbeucler/default/saranya/causal/timeseries_csv/new_storms_wpac/timeseries_nwp_newall_2018BEBINCA.csv\n",
      "/work/FAC/FGSE/IDYST/tbeucler/default/saranya/causal/timeseries_csv/new_storms_wpac/timeseries_nwp_newall_2011NOCK-TEN.csv\n",
      "/work/FAC/FGSE/IDYST/tbeucler/default/saranya/causal/timeseries_csv/new_storms_wpac/timeseries_nwp_newall_2011MERBOK.csv\n",
      "/work/FAC/FGSE/IDYST/tbeucler/default/saranya/causal/timeseries_csv/new_storms_wpac/timeseries_nwp_newall_2020KUJIRA.csv\n",
      "/work/FAC/FGSE/IDYST/tbeucler/default/saranya/causal/timeseries_csv/new_storms_wpac/timeseries_nwp_newall_2013UNALA.csv\n",
      "/work/FAC/FGSE/IDYST/tbeucler/default/saranya/causal/timeseries_csv/new_storms_wpac/timeseries_nwp_newall_2019LEKIMA.csv\n",
      "/work/FAC/FGSE/IDYST/tbeucler/default/saranya/causal/timeseries_csv/new_storms_wpac/timeseries_nwp_newall_2017SAOLA.csv\n",
      "/work/FAC/FGSE/IDYST/tbeucler/default/saranya/causal/timeseries_csv/new_storms_wpac/timeseries_nwp_newall_2015CHAMPI.csv\n",
      "/work/FAC/FGSE/IDYST/tbeucler/default/saranya/causal/timeseries_csv/new_storms_wpac/timeseries_nwp_newall_2013UTOR.csv\n",
      "/work/FAC/FGSE/IDYST/tbeucler/default/saranya/causal/timeseries_csv/new_storms_wpac/timeseries_nwp_newall_2014FAXAI.csv\n",
      "/work/FAC/FGSE/IDYST/tbeucler/default/saranya/causal/timeseries_csv/new_storms_wpac/timeseries_nwp_newall_2021OMAIS.csv\n",
      "/work/FAC/FGSE/IDYST/tbeucler/default/saranya/causal/timeseries_csv/new_storms_wpac/timeseries_nwp_newall_2018SANBA.csv\n",
      "/work/FAC/FGSE/IDYST/tbeucler/default/saranya/causal/timeseries_csv/new_storms_wpac/timeseries_nwp_newall_2013LEKIMA.csv\n",
      "/work/FAC/FGSE/IDYST/tbeucler/default/saranya/causal/timeseries_csv/new_storms_wpac/timeseries_nwp_newall_2018PRAPIROON.csv\n",
      "/work/FAC/FGSE/IDYST/tbeucler/default/saranya/causal/timeseries_csv/new_storms_wpac/timeseries_nwp_newall_2019DANAS.csv\n",
      "/work/FAC/FGSE/IDYST/tbeucler/default/saranya/causal/timeseries_csv/new_storms_wpac/timeseries_nwp_newall_2020HAISHEN.csv\n",
      "/work/FAC/FGSE/IDYST/tbeucler/default/saranya/causal/timeseries_csv/new_storms_wpac/timeseries_nwp_newall_2020KROVANH.csv\n",
      "/work/FAC/FGSE/IDYST/tbeucler/default/saranya/causal/timeseries_csv/new_storms_wpac/timeseries_nwp_newall_2017BANYAN.csv\n",
      "/work/FAC/FGSE/IDYST/tbeucler/default/saranya/causal/timeseries_csv/new_storms_wpac/timeseries_nwp_newall_2018WUKONG.csv\n",
      "/work/FAC/FGSE/IDYST/tbeucler/default/saranya/causal/timeseries_csv/new_storms_wpac/timeseries_nwp_newall_2018RUMBIA.csv\n",
      "/work/FAC/FGSE/IDYST/tbeucler/default/saranya/causal/timeseries_csv/new_storms_wpac/timeseries_nwp_newall_2021LUPIT.csv\n",
      "/work/FAC/FGSE/IDYST/tbeucler/default/saranya/causal/timeseries_csv/new_storms_wpac/timeseries_nwp_newall_2018MAN-YI.csv\n",
      "/work/FAC/FGSE/IDYST/tbeucler/default/saranya/causal/timeseries_csv/new_storms_wpac/timeseries_nwp_newall_2018MARIA.csv\n",
      "/work/FAC/FGSE/IDYST/tbeucler/default/saranya/causal/timeseries_csv/new_storms_wpac/timeseries_nwp_newall_2012SANBA.csv\n"
     ]
    }
   ],
   "source": [
    "import glob\n",
    "testcyclone_dict = {}\n",
    "for ind,obj in (enumerate((glob.glob('/work/FAC/FGSE/IDYST/tbeucler/default/saranya/causal/timeseries_csv/new_storms_wpac/*')[-55:]))):\n",
    "    print(obj)\n",
    "    #testcyclone_dict['testcyclone'+str(ind)] = func._process_dataset(obj).values"
   ]
  },
  {
   "cell_type": "code",
   "execution_count": 42,
   "id": "9b25ce49-f82c-4bc9-8766-eb15ce5dc20e",
   "metadata": {
    "tags": []
   },
   "outputs": [
    {
     "data": {
      "image/png": "[encoded data removed]",
      "text/plain": [
       "<Figure size 432x288 with 1 Axes>"
      ]
     },
     "metadata": {
      "needs_background": "light"
     },
     "output_type": "display_data"
    }
   ],
   "source": [
    "plt.plot(np.asarray(y_precip['newtest']))\n",
    "plt.show()"
   ]
  },
  {
   "cell_type": "code",
   "execution_count": 214,
   "id": "24c33119-0591-4b0e-a308-24c0f3a0d36e",
   "metadata": {},
   "outputs": [
    {
     "data": {
      "text/plain": [
       "(528, 6)"
      ]
     },
     "execution_count": 214,
     "metadata": {},
     "output_type": "execute_result"
    }
   ],
   "source": [
    "np.asarray(X_pmin['test']).shape"
   ]
  },
  {
   "cell_type": "code",
   "execution_count": 16,
   "id": "1e320e0d-7611-4965-a505-5b57c87058ef",
   "metadata": {},
   "outputs": [],
   "source": [
    "save_to_pickle(loc='./testcausalwpac_precip.obj.'+\\\n",
    "                   str(np.round(0.95,decimals=2))+'.'+str(seednum),\\\n",
    "                   var={'X':xtest})\n",
    "    "
   ]
  },
  {
   "cell_type": "code",
   "execution_count": 22,
   "id": "094e7567-d5d2-41cd-87e4-a0e989657759",
   "metadata": {},
   "outputs": [
    {
     "name": "stdout",
     "output_type": "stream",
     "text": [
      "shell-init: error retrieving current directory: getcwd: cannot access parent directories: No such file or directory\n",
      "pwd: error retrieving current directory: getcwd: cannot access parent directories: No such file or directory\n"
     ]
    }
   ],
   "source": [
    "!pwd"
   ]
  },
  {
   "cell_type": "markdown",
   "id": "084ed7a4",
   "metadata": {},
   "source": [
    "#### PCMCI"
   ]
  },
  {
   "cell_type": "code",
   "execution_count": 20,
   "id": "e1d025bd-fd07-4c29-ab10-c5a01d2ca7b9",
   "metadata": {},
   "outputs": [],
   "source": [
    "from copy import deepcopy"
   ]
  },
  {
   "cell_type": "code",
   "execution_count": 307,
   "id": "0f266c50-783b-4a68-b3c9-fe19951b8fa5",
   "metadata": {},
   "outputs": [
    {
     "data": {
      "text/plain": [
       "'2mtmp'"
      ]
     },
     "execution_count": 307,
     "metadata": {},
     "output_type": "execute_result"
    }
   ],
   "source": [
    "var_names[27]"
   ]
  },
  {
   "cell_type": "code",
   "execution_count": 279,
   "id": "be065b29-7fa9-470e-a5dc-5a6047d72e14",
   "metadata": {
    "tags": []
   },
   "outputs": [],
   "source": [
    "def trainMLR_target(traindata=None,validdata=None,testdata=None,target='precip' or 'pmin' or 'v10',seed=12345):\n",
    "    ################################################################################################################\n",
    "    # 1. X,y with nan\n",
    "    Xtrain_nan,ytrain_nan,trainmean,trainstd = Pipeline(traindata,pc_alpha,alpha_level,pc_type='pcmci',\\\n",
    "                                                        tau_min0=8,tau_max0=24,\\\n",
    "                                                        target=target,var_name=var_names,\\\n",
    "                                                        seed=seed).preproc_ts_withnan(links=var_and_lag,group='train',\\\n",
    "                                                                                       trainmean=None,trainstd=None)\n",
    "    Xvalid_nan,yvalid_nan = Pipeline(validdata,pc_alpha,alpha_level,pc_type='pcmci',\\\n",
    "                                   tau_min0=8,tau_max0=24,target=target,\\\n",
    "                                   var_name=var_names,seed=seed).preproc_ts_withnan(links=var_and_lag,\\\n",
    "                                                                                     group='valid',\\\n",
    "                                                                                     trainmean=trainmean,\\\n",
    "                                                                                     trainstd=trainstd)\n",
    "    \n",
    "    Xtest_nan,ytest_nan = Pipeline(testdata,pc_alpha,alpha_level,pc_type='pcmci',\\\n",
    "                                   tau_min0=8,tau_max0=24,target=target,\\\n",
    "                                   var_name=var_names,seed=seed).preproc_ts_withnan(links=var_and_lag,\\\n",
    "                                                                                     group='test',\\\n",
    "                                                                                     trainmean=trainmean,\\\n",
    "                                                                                     trainstd=trainstd)\n",
    "    X_nan = {'train':Xtrain_nan,'valid':Xvalid_nan,'test':Xtest_nan}\n",
    "    y_nan = {'train':ytrain_nan,'valid':yvalid_nan,'test':ytest_nan}\n",
    "    ################################################################################################################\n",
    "    # 2. remove nan\n",
    "    X_nonan,y_nonan = Pipeline(traindata,pc_alpha,alpha_level,pc_type='pcmci',\\\n",
    "                               tau_min0=8,tau_max0=24,target=target,\\\n",
    "                               var_name=var_names,seed=seed).remove_nan(Xdict=X_nan,ydict=y_nan)\n",
    "    ################################################################################################################\n",
    "    # 3. Train MLR\n",
    "    wpac_mlr = Pipeline(traindata,pc_alpha,alpha_level,pc_type='pcmci',\\\n",
    "                        tau_min0=8,tau_max0=24,target=target,\\\n",
    "                        var_name=var_names,seed=seed).train_mlr(X=X_nonan,y=y_nonan)\n",
    "    ################################################################################################################\n",
    "    return wpac_mlr,X_nonan,y_nonan\n",
    "    #return X_nan, y_nan"
   ]
  },
  {
   "cell_type": "code",
   "execution_count": 321,
   "id": "d4e3ffe4",
   "metadata": {
    "tags": []
   },
   "outputs": [
    {
     "name": "stderr",
     "output_type": "stream",
     "text": [
      "100%|███████████████████████████████████████████████████████████████████████████████████| 1/1 [28:55<00:00, 1735.07s/it]\n"
     ]
    }
   ],
   "source": [
    "pc_alpha,alpha_levellist,splitsize,seednum=0.1,[0.75,0.65,0.55,0.45,0.35,0.25,0.09,0.08,0.07,0.06,0.05,0.04,0.03,0.02],55,12348 \n",
    "#0.2,0.15,0.1,0.01,1e-3,1e-4,1e-5,1e-6,1e-7,1e-8\n",
    "    \n",
    "var_names=ds1.columns.values.tolist()\n",
    "for pc_alphaa in [0.0000001]:\n",
    "    for alpha_level in tqdm([1e-9]):\n",
    "        testindex = (Pipeline(do_alignnedd(newddwp,indices),pc_alphaa,alpha_level,pc_type='pcmci',tau_min0=2,tau_max0=16,\\\n",
    "                              target=None,var_name=var_names,seed=seednum,cond_ind_test=ParCorr()).random_testindex(205,splitsize))\n",
    "        traindata,validdata,testdata = Pipeline(do_alignnedd(newddwp,indices),pc_alphaa,alpha_level,pc_type='pcmci',tau_min0=2,tau_max0=16,\\\n",
    "                                                target='precip',var_name=var_names,seed=seednum,cond_ind_test=ParCorr()).splitdata(testindex)\n",
    "        result = Pipeline(traindata,pc_alphaa,alpha_level,pc_type='pcmci',tau_min0=2,tau_max0=16,\\\n",
    "                          target='precip',var_name=var_names,seed=seednum,cond_ind_test=ParCorr()).run_tigramite(int(205-splitsize))\n",
    "        #_ = Pipeline(validdata,pc_alphaa,alpha_level,pc_type='pcmci',tau_min0=8,tau_max0=24,\\\n",
    "        #                  target='precip',var_name=var_names,seed=seednum,cond_ind_test=ParCorr(),parents=30).run_tigramite(int(205-splitsize))\n",
    "        #_ = Pipeline(testdata,pc_alphaa,alpha_level,pc_type='pcmci',tau_min0=8,tau_max0=24,\\\n",
    "        #                  target='precip',var_name=var_names,seed=seednum,cond_ind_test=ParCorr(),parents=30).run_tigramite(int(205-splitsize))\n",
    "        #traindata=np.nan_to_num(traindata,-999.)\n",
    "        #validdata=np.nan_to_num(validdata,-999.)\n",
    "        #testdata=np.nan_to_num(testdata,-999.)\n",
    "        validdata=do_num_to_nan(validdata)\n",
    "        testdata=do_num_to_nan(testdata)#do_num_to_nan(testdata) \n",
    "        traindatar = nan_to_999(traindata)\n",
    "        var_and_lag = Pipeline(traindatar,pc_alphaa,alpha_level,pc_type='pcmci',tau_min0=8,tau_max0=24,\\\n",
    "                               target='precip',var_name=var_names,seed=seednum,cond_ind_test=ParCorr()).extract_var_and_lag(result,p_or_q='p')\n",
    "        wpac_mlr_precip,X_precip,y_precip = trainMLR_target(traindata=traindata,validdata=validdata,testdata=testdata,\n",
    "                                                            target='precip',seed=seednum)\n",
    "        wpac_mlr_pmin,X_pmin,y_pmin = trainMLR_target(traindata=traindata,validdata=validdata,testdata=testdata,\n",
    "                                                      target='pmin',seed=seednum)\n",
    "        wpac_mlr_v10,X_v10,y_v10 = trainMLR_target(traindata=traindata,validdata=validdata,testdata=testdata,\n",
    "                                                   target='v10',seed=seednum)\n",
    "    #save_to_pickle(loc='./pickleddatawp/'+str(seednum)+'/causalwpac_precip_8tau24.obj.'+\\\n",
    "    #               str(pc_alpha)+'.'+str(alpha_level)+'.'+str(seednum),\\\n",
    "    #               var={'mlr':wpac_mlr_precip,'X':X_precip,'y':y_precip})\n",
    "    #save_to_pickle(loc='./pickleddatawp/'+str(seednum)+'/causalwpac_pmin_8tau24.obj.'+\\\n",
    "    #               str(pc_alpha)+'.'+str(alpha_level)+'.'+str(seednum),\\\n",
    "    #               var={'mlr':wpac_mlr_pmin,'X':X_pmin,'y':y_pmin})\n",
    "    #save_to_pickle(loc='./pickleddatawp/'+str(seednum)+'/causalwpac_v10_8tau24.obj.'+\\\n",
    "    #               str(pc_alpha)+'.'+str(alpha_level)+'.'+str(seednum),\\\n",
    "    #               var={'mlr':wpac_mlr_v10,'X':X_v10,'y':y_v10})\n",
    "    #save_to_pickle(loc='./pickleddatawp/'+str(seednum)+'/causalwpac_lag_and_links_8tau24.'+\\\n",
    "    #               str(pc_alpha)+'.'+str(alpha_level)+'.'+str(seednum),var=var_and_lag)\n",
    "    save_to_pickle(loc='./pickleddatawp/'+str(seednum)+'/causalwpac_result_8tau24.'+\\\n",
    "                   str(pc_alpha)+'.'+str(alpha_level)+'.'+str(seednum),var=results)"
   ]
  },
  {
   "cell_type": "code",
   "execution_count": 225,
   "id": "61cbd8fb-ff1f-4bdf-b47a-978bec4a6d91",
   "metadata": {},
   "outputs": [],
   "source": [
    "def remove_nan_in_aligned(Xs=None,Ys=None,TYPE='valid'):\n",
    "    newX,newY = [],[]\n",
    "    for ind,obj in enumerate(fileobjY[TYPE]):\n",
    "        if obj==-999.:\n",
    "            continue\n",
    "        else:\n",
    "            newX.append(fileobjX[TYPE][ind])\n",
    "            newY.append(obj)\n",
    "    return newX,newY\n",
    "def remove_999_in_aligned(fileobjX=None,fileobjY=None,TYPE='valid'):\n",
    "    newX,newY = [],[]\n",
    "    for ind,obj in enumerate(fileobjY[TYPE]):\n",
    "        if obj==-999.:\n",
    "            continue\n",
    "        else:\n",
    "            newX.append(fileobjX[TYPE][ind])\n",
    "            newY.append(obj)\n",
    "    return newX,newY\n",
    "\n",
    "def remove_999_in_aligned_orig(fileobjX=None,fileobjY=None):\n",
    "    newX,newY = [],[]\n",
    "    for ind,obj in enumerate(fileobjY):\n",
    "        if obj==-999.:\n",
    "            continue\n",
    "        else:\n",
    "            newX.append(fileobjX[ind])\n",
    "            newY.append(obj)\n",
    "    return newX,newY\n",
    "\n",
    "def _remove_nan(Xdict=None,ydict=None):\n",
    "    X_nonan,Y_nonan = [],[]\n",
    "    X_withnan_storer = np.asarray(Xdict).transpose()\n",
    "    print(X_withnan_storer.shape)\n",
    "    for i in (range(len(ydict))):\n",
    "        tempX = X_withnan_storer[i,:]\n",
    "        if np.isnan(tempX).any():\n",
    "            continue\n",
    "        else:\n",
    "            X_nonan.append(tempX)\n",
    "            Y_nonan.append(ydict[i])\n",
    "    return X_nonan,Y_nonan"
   ]
  },
  {
   "cell_type": "code",
   "execution_count": 272,
   "id": "e6c676b7-15a5-4d90-a4c0-e076d6f85ec7",
   "metadata": {
    "tags": []
   },
   "outputs": [],
   "source": [
    "from copy import deepcopy\n",
    "validdata2 =  nan_to_999(deepcopy(validdata))\n",
    "testdata2 =  nan_to_999(deepcopy(testdata))\n",
    "traindata2 =  nan_to_999(deepcopy(traindatar))\n"
   ]
  },
  {
   "cell_type": "code",
   "execution_count": 273,
   "id": "f97e4ea5-8ab3-4429-954b-672a4b7c5a85",
   "metadata": {
    "tags": []
   },
   "outputs": [],
   "source": [
    "aaaX_nonan,aaaY_nonan = trainMLR_target(traindata=traindata2,validdata=validdata2,testdata=testdata2,\n",
    "                                                            target='pmin',seed=seednum,var_and_lag=var_and_lag)"
   ]
  },
  {
   "cell_type": "code",
   "execution_count": 148,
   "id": "af1ae4fc-d39f-4dd0-9e15-9fbad8d06880",
   "metadata": {},
   "outputs": [],
   "source": [
    "testno999X,testno999Y = remove_999_in_aligned(aaaX_nonan,aaaY_nonan,'train')"
   ]
  },
  {
   "cell_type": "code",
   "execution_count": 208,
   "id": "16ff460e-1163-4974-897c-4a43214860da",
   "metadata": {
    "tags": []
   },
   "outputs": [
    {
     "data": {
      "text/plain": [
       "True"
      ]
     },
     "execution_count": 208,
     "metadata": {},
     "output_type": "execute_result"
    }
   ],
   "source": [
    "np.isnan(np.asarray(aaaX_nonan['train']).transpose()[0,:]).any()"
   ]
  },
  {
   "cell_type": "code",
   "execution_count": 324,
   "id": "bc9ac8cc-8375-44be-b886-e0758939aac9",
   "metadata": {},
   "outputs": [
    {
     "data": {
      "image/png": "[encoded data removed]",
      "text/plain": [
       "<Figure size 432x288 with 1 Axes>"
      ]
     },
     "metadata": {
      "needs_background": "light"
     },
     "output_type": "display_data"
    }
   ],
   "source": [
    "plt.plot(np.asarray(X_pmin['train'])[:])\n",
    "plt.show()"
   ]
  },
  {
   "cell_type": "code",
   "execution_count": null,
   "id": "32b3c069",
   "metadata": {},
   "outputs": [],
   "source": [
    "save_to_pickle(loc='./pickleddata3/causalwpac_precip.obj.'+str(alpha_level)+'.'+str(seednum),\\\n",
    "               var={'mlr':wpac_mlr_precip,'X':X_precip,'y':y_precip})\n",
    "save_to_pickle(loc='./pickleddata3/causalwpac_pmin.obj.'+str(alpha_level)+'.'+str(seednum),\\\n",
    "              var={'mlr':wpac_mlr_pmin,'X':X_pmin,'y':y_pmin})\n",
    "save_to_pickle(loc='./pickleddata3/causalwpac_v10.obj.'+str(alpha_level)+'.'+str(seednum),\\\n",
    "              var={'mlr':wpac_mlr_v10,'X':X_v10,'y':y_v10})\n",
    "save_to_pickle(loc='./pickleddata3/causalwpac_lag_and_links.'+str(alpha_level),var=var_and_lag)\n",
    "#save_to_pickle(loc='./pickleddata2/causalwpac_varname',var=var_names)"
   ]
  },
  {
   "cell_type": "code",
   "execution_count": 44,
   "id": "58b0fa84-4413-4909-80c0-0b621818ca2e",
   "metadata": {},
   "outputs": [],
   "source": [
    "def nan_to_999(dictionary=None):\n",
    "    newdict = {}\n",
    "    for name in dictionary.keys():\n",
    "        newdict[name] = np.nan_to_num(dictionary[name].copy(),-999)\n",
    "    newdict2 = {}\n",
    "    for name in newdict.keys():\n",
    "        temp = newdict[name].copy()\n",
    "        temp[temp==0] = -999.\n",
    "        newdict2[name] = temp\n",
    "    return newdict2"
   ]
  },
  {
   "cell_type": "code",
   "execution_count": 49,
   "id": "a9c2bf52",
   "metadata": {},
   "outputs": [],
   "source": [
    "def rescue_code(function):\n",
    "    import inspect\n",
    "    get_ipython().set_next_input(\"\".join(inspect.getsourcelines(function)[0]))"
   ]
  },
  {
   "cell_type": "code",
   "execution_count": 50,
   "id": "b8248c4c",
   "metadata": {},
   "outputs": [],
   "source": [
    "rescue_code(save_to_pickle)"
   ]
  },
  {
   "cell_type": "code",
   "execution_count": 51,
   "id": "f99d4900",
   "metadata": {},
   "outputs": [],
   "source": [
    "def save_to_pickle(loc=None,var=None):\n",
    "    with open(loc,\"wb\") as f:\n",
    "        pickle.dump(var,f)\n",
    "    return None\n"
   ]
  },
  {
   "cell_type": "code",
   "execution_count": 52,
   "id": "7454bb91",
   "metadata": {},
   "outputs": [],
   "source": [
    "def save_to_pickle(loc=None,var=None):\n",
    "    with open(loc,\"wb\") as f:\n",
    "        pickle.dump(var,f)\n",
    "    return None\n"
   ]
  },
  {
   "cell_type": "code",
   "execution_count": 25,
   "id": "5de6eb8f",
   "metadata": {},
   "outputs": [
    {
     "name": "stderr",
     "output_type": "stream",
     "text": [
      "No artists with labels found to put in legend.  Note that artists whose label start with an underscore are ignored when legend() is called with no argument.\n"
     ]
    },
    {
     "data": {
      "image/png": "[encoded data removed]",
      "text/plain": [
       "<Figure size 648x216 with 2 Axes>"
      ]
     },
     "metadata": {
      "needs_background": "light"
     },
     "output_type": "display_data"
    }
   ],
   "source": [
    "fig,ax = plt.subplots(2,1,figsize=(9,3))\n",
    "ax[0].plot(y_precip['test'],label='train_truth')\n",
    "ax[0].plot(wpac_mlr_precip.predict(X_precip['test']),label='train_pred')\n",
    "ax[0].set_xlabel('Time Samples')\n",
    "ax[0].set_ylabel('Integrated Precipitation')\n",
    "plt.legend(loc=4,ncol=2)\n",
    "plt.grid(alpha=0.2,lw=1.5,ls='--')\n",
    "ax[0].set_title('Integrated Precipitation (Test)')\n",
    "#plt.savefig('/home/saranya/Downloads/plots_output/integratedprecip_valid.png',dpi=400,facecolor='w')\n",
    "plt.show()"
   ]
  },
  {
   "cell_type": "code",
   "execution_count": 194,
   "id": "00a6f747",
   "metadata": {},
   "outputs": [
    {
     "data": {
      "image/png": "[encoded data removed]",
      "text/plain": [
       "<Figure size 648x216 with 1 Axes>"
      ]
     },
     "metadata": {
      "needs_background": "light"
     },
     "output_type": "display_data"
    }
   ],
   "source": [
    "fig,ax = plt.subplots(1,1,figsize=(9,3))\n",
    "ax.plot(y_nonan['valid'],label='Valid_truth')\n",
    "ax.plot(wpac_mlr.predict(X_nonan['valid']),label='Valid_pred')\n",
    "plt.legend(loc=4,ncol=2)\n",
    "plt.grid(alpha=0.2,lw=1.5,ls='--')\n",
    "plt.title('Integrated Precipitation')\n",
    "plt.xlabel('Time Samples')\n",
    "plt.ylabel('Integrated Precipitation')\n",
    "plt.savefig('/home/saranya/Downloads/plots_output/integratedprecip_valid.png',dpi=400,facecolor='w')\n",
    "plt.show()"
   ]
  },
  {
   "cell_type": "code",
   "execution_count": 196,
   "id": "92e4462f",
   "metadata": {},
   "outputs": [
    {
     "data": {
      "image/png": "[encoded data removed]",
      "text/plain": [
       "<Figure size 648x216 with 1 Axes>"
      ]
     },
     "metadata": {
      "needs_background": "light"
     },
     "output_type": "display_data"
    }
   ],
   "source": [
    "fig,ax = plt.subplots(1,1,figsize=(9,3))\n",
    "ax.plot(y_pmin['valid'],label='Valid_truth')\n",
    "ax.plot(wpac_mlr_pmin.predict(X_pmin['valid']),label='Valid_pred')\n",
    "plt.legend(loc=4,ncol=2)\n",
    "plt.grid(alpha=0.2,lw=1.5,ls='--')\n",
    "plt.title('Minimum Sea-level Pressure')\n",
    "plt.xlabel('Time Samples')\n",
    "plt.ylabel('${P_{min}} (hPa)$')\n",
    "plt.savefig('/home/saranya/Downloads/plots_output/pmin_valid.png',dpi=400,facecolor='w')\n",
    "plt.show()"
   ]
  },
  {
   "cell_type": "code",
   "execution_count": 197,
   "id": "71150449",
   "metadata": {},
   "outputs": [
    {
     "data": {
      "image/png": "[encoded data removed]",
      "text/plain": [
       "<Figure size 648x216 with 1 Axes>"
      ]
     },
     "metadata": {
      "needs_background": "light"
     },
     "output_type": "display_data"
    }
   ],
   "source": [
    "fig,ax = plt.subplots(1,1,figsize=(9,3))\n",
    "ax.plot(y_v10['valid'],label='Valid_truth')\n",
    "ax.plot(wpac_mlr_v10.predict(X_v10['valid']),label='Valid_pred')\n",
    "plt.legend(loc=1,ncol=2)\n",
    "plt.grid(alpha=0.2,lw=1.5,ls='--')\n",
    "plt.title('10m Maximum Surface Wind Speed')\n",
    "plt.ylabel('${MSW_{10}}$ (m s$^{-1}$)')\n",
    "plt.savefig('/home/saranya/Downloads/plots_output/v10_valid.png',dpi=400,facecolor='w')\n",
    "plt.show()"
   ]
  },
  {
   "cell_type": "markdown",
   "id": "ac06da6c",
   "metadata": {},
   "source": [
    "North Indian Ocean Storms"
   ]
  },
  {
   "cell_type": "code",
   "execution_count": 44,
   "id": "63ae225f",
   "metadata": {},
   "outputs": [],
   "source": [
    "from numpy.random import default_rng\n",
    "\n",
    "rng = default_rng(12345)\n",
    "seed = rng.choice(48, 10, replace=False)"
   ]
  },
  {
   "cell_type": "code",
   "execution_count": 50,
   "id": "94ae008c",
   "metadata": {},
   "outputs": [
    {
     "data": {
      "text/plain": [
       "'cyclone46'"
      ]
     },
     "execution_count": 50,
     "metadata": {},
     "output_type": "execute_result"
    }
   ],
   "source": [
    "'cyclone'+str(int(seed[9]))"
   ]
  },
  {
   "cell_type": "code",
   "execution_count": 46,
   "id": "25458094",
   "metadata": {},
   "outputs": [
    {
     "data": {
      "text/plain": [
       "array([13, 35, 18, 28, 27,  9, 31,  8, 32, 46])"
      ]
     },
     "execution_count": 46,
     "metadata": {},
     "output_type": "execute_result"
    }
   ],
   "source": [
    "seed"
   ]
  },
  {
   "cell_type": "code",
   "execution_count": 52,
   "id": "03db9536",
   "metadata": {},
   "outputs": [],
   "source": [
    "data=ddwp.copy()\n",
    "del data['cyclone'+str(int(seed[0]))]\n",
    "del data['cyclone'+str(int(seed[1]))]\n",
    "del data['cyclone'+str(int(seed[2]))]\n",
    "del data['cyclone'+str(int(seed[3]))]\n",
    "del data['cyclone'+str(int(seed[4]))]\n",
    "del data['cyclone'+str(int(seed[5]))]\n",
    "del data['cyclone'+str(int(seed[6]))]\n",
    "del data['cyclone'+str(int(seed[7]))]\n",
    "del data['cyclone'+str(int(seed[8]))]\n",
    "del data['cyclone'+str(int(seed[9]))]"
   ]
  },
  {
   "cell_type": "markdown",
   "id": "103ea956",
   "metadata": {},
   "source": [
    "Extract Variable and lag information"
   ]
  },
  {
   "cell_type": "code",
   "execution_count": 59,
   "id": "2192b80a",
   "metadata": {},
   "outputs": [],
   "source": [
    "filtvar_lag_dict = {'precip':[obj for obj in arr[0]],\\\n",
    "                    'pmin':[obj for obj in arr[1]],\\\n",
    "                   '10wspd':[obj for obj in arr[2]]}"
   ]
  },
  {
   "cell_type": "code",
   "execution_count": 60,
   "id": "37175597",
   "metadata": {},
   "outputs": [
    {
     "data": {
      "text/plain": [
       "array([0.01602166, 0.01646996, 0.0206255 , 0.03346259, 0.04662046,\n",
       "       0.04634654, 0.02408053, 0.01397228, 0.01491111, 0.02407614,\n",
       "       0.02368177, 0.03442036, 0.04766599, 0.05906334, 0.08540045,\n",
       "       0.10599098, 0.12543761, 0.12139301, 0.0737608 , 0.05125052,\n",
       "       0.02542992, 0.01840909, 0.01610788, 0.01974525, 0.01987464,\n",
       "       0.01850446, 0.01682129, 0.01493174, 0.01982585, 0.03260581,\n",
       "       0.02519143, 0.01372967, 0.0116464 , 0.00692698, 0.00378462,\n",
       "       0.00426407, 0.00904172, 0.00973447, 0.00680046, 0.00681906,\n",
       "       0.00810528, 0.00646979, 0.00342528, 0.00338809, 0.00384294,\n",
       "       0.00384591, 0.00236219, 0.00482553, 0.0047624 , 0.00668557,\n",
       "       0.00624483, 0.00614478, 0.00763378, 0.00917241, 0.0054863 ,\n",
       "       0.01379989, 0.01314596, 0.01095225, 0.00629012, 0.00626698,\n",
       "       0.00444031, 0.00707525, 0.0065731 , 0.00863654, 0.0131279 ,\n",
       "       0.0132541 , 0.01338469, 0.01703943, 0.01457512, 0.02155724,\n",
       "       0.02453073, 0.03395418, 0.02701791, 0.01891848, 0.02548911,\n",
       "       0.01099485, 0.01041131, 0.01589343, 0.03737113, 0.04418755])"
      ]
     },
     "execution_count": 60,
     "metadata": {},
     "output_type": "execute_result"
    }
   ],
   "source": [
    "data['cyclone1'][:(filtvar_lag_dict['precip'][0][1]),156]"
   ]
  },
  {
   "cell_type": "code",
   "execution_count": 61,
   "id": "7a11301f",
   "metadata": {},
   "outputs": [],
   "source": [
    "# Extract lag info\n",
    "def extract_lag_info(datar=None,varindex=None,lag=None):\n",
    "    temp = datar[:,varindex] # Full time series\n",
    "    store = []\n",
    "    for timeindex in range(len(temp)):\n",
    "        if timeindex < np.abs(lag):\n",
    "            store.append(np.nan)\n",
    "        elif timeindex > len(temp)-1-np.abs(lag):\n",
    "            store.append(np.nan)\n",
    "        else:\n",
    "            store.append(temp[timeindex-np.abs(lag)])\n",
    "    return store"
   ]
  },
  {
   "cell_type": "code",
   "execution_count": 89,
   "id": "80383a7a",
   "metadata": {},
   "outputs": [],
   "source": [
    "varindexstore,lagstore,TS_store,flatTS_store = [],[],[],[]\n",
    "for varindex,lag in arr[0]:\n",
    "    varindexstore.append(varindex)\n",
    "    lagstore.append(lag)\n",
    "    tempp = [extract_lag_info(datar=ddwp[obj],varindex=varindex,lag=lag) for obj in ddwp.keys()]\n",
    "    TS_store.append(tempp)\n",
    "    flatTS_store.append(np.concatenate([obj for obj in tempp]))"
   ]
  },
  {
   "cell_type": "code",
   "execution_count": 91,
   "id": "13795179",
   "metadata": {},
   "outputs": [],
   "source": [
    "TSnorml_store = []\n",
    "for i in range(len(TS_store)):\n",
    "    tempmean,tempstd = np.nanmean(flatTS_store[i]),np.nanstd(flatTS_store[i])\n",
    "    TSnorml_store.append([(obj-tempmean)/tempstd for obj in TS_store[i]])"
   ]
  },
  {
   "cell_type": "code",
   "execution_count": 94,
   "id": "2cb8039c",
   "metadata": {},
   "outputs": [],
   "source": [
    "remove_indices = [13,15]\n",
    "X_withnan_store, Xtest_withnan_store = [],[]\n",
    "for i in range(len(TS_store)):\n",
    "    somelist = [i for j, i in enumerate(TSnorml_store[i]) if j not in remove_indices]\n",
    "    testlist = [i for j, i in enumerate(TSnorml_store[i]) if j in remove_indices]\n",
    "    X_withnan_store.append(np.concatenate([obj for obj in somelist]))\n",
    "    Xtest_withnan_store.append(np.concatenate([obj for obj in testlist]))"
   ]
  },
  {
   "cell_type": "code",
   "execution_count": 65,
   "id": "bce54769",
   "metadata": {},
   "outputs": [],
   "source": [
    "#X_withnan_store = []\n",
    "#for varindex in range(len(TS_store)):\n",
    "#    tempp = np.concatenate([(obj-np.nanmean(obj))/np.nanstd(obj) for obj in TS_store[varindex]])\n",
    "#    X_withnan_store.append((tempp-np.nanmean(tempp))/np.nanstd(tempp))"
   ]
  },
  {
   "cell_type": "code",
   "execution_count": 110,
   "id": "26fa2a27",
   "metadata": {},
   "outputs": [],
   "source": [
    "Yall = [ddwp[obj][:,0] for obj in ddwp.keys()]\n",
    "Ytrain,Ytest = np.concatenate([i for j, i in enumerate(Yall) if j not in remove_indices]),\\\n",
    "np.concatenate([i for j, i in enumerate(Yall) if j in remove_indices])"
   ]
  },
  {
   "cell_type": "code",
   "execution_count": 111,
   "id": "485405d3",
   "metadata": {},
   "outputs": [
    {
     "data": {
      "text/plain": [
       "136"
      ]
     },
     "execution_count": 111,
     "metadata": {},
     "output_type": "execute_result"
    }
   ],
   "source": [
    "len(Ytest)"
   ]
  },
  {
   "cell_type": "code",
   "execution_count": 112,
   "id": "a49b8bf2",
   "metadata": {},
   "outputs": [],
   "source": [
    "X_nonan,Y_nonan = [],[]\n",
    "X_withnan_storer = np.asarray(X_withnan_store).transpose()\n",
    "for i in (range(len(Ytrain))):\n",
    "    tempX = X_withnan_storer[i,:]\n",
    "    if np.isnan(tempX).any():\n",
    "        continue\n",
    "    else:\n",
    "        X_nonan.append(tempX)\n",
    "        Y_nonan.append(Ytrain[i])"
   ]
  },
  {
   "cell_type": "code",
   "execution_count": 113,
   "id": "f249d78f",
   "metadata": {},
   "outputs": [],
   "source": [
    "#TStest_store = []\n",
    "#for varindex,lag in arr[0]:\n",
    "#    TStest_store.append(extract_lag_info(datar=ddwp['cyclone13'],varindex=varindex,lag=lag))\n",
    "\n",
    "#Xtest_withnan_store = []\n",
    "#for varindex in range(len(TStest_store)):\n",
    "#    Xtest_withnan_store.append((TStest_store[varindex]-np.nanmean(TStest_store[varindex]))/np.nanstd(TStest_store[varindex]))\n",
    "X_nonan,Y_nonan = [],[]\n",
    "X_withnan_storer = np.asarray(X_withnan_store).transpose()\n",
    "for i in (range(len(Ytrain))):\n",
    "    tempX = X_withnan_storer[i,:]\n",
    "    if np.isnan(tempX).any():\n",
    "        continue\n",
    "    else:\n",
    "        X_nonan.append(tempX)\n",
    "        Y_nonan.append(Ytrain[i])\n",
    "        \n",
    "\n",
    "Xtest_nonan,ytest_nonan = [],[]\n",
    "Xtest_withnan_storer = np.asarray(Xtest_withnan_store).transpose()\n",
    "for i in (range(len(Ytest))):\n",
    "    tempX = Xtest_withnan_storer[i,:]\n",
    "    if np.isnan(tempX).any():\n",
    "        continue\n",
    "    else:\n",
    "        Xtest_nonan.append(tempX)\n",
    "        ytest_nonan.append(Ytest[i])"
   ]
  },
  {
   "cell_type": "code",
   "execution_count": 114,
   "id": "11f37452",
   "metadata": {},
   "outputs": [
    {
     "data": {
      "text/plain": [
       "((72, 1594), (1805, 1594))"
      ]
     },
     "execution_count": 114,
     "metadata": {},
     "output_type": "execute_result"
    }
   ],
   "source": [
    "np.asarray(Xtest_nonan).shape, np.asarray(X_nonan).shape"
   ]
  },
  {
   "cell_type": "code",
   "execution_count": 115,
   "id": "947f0a5b",
   "metadata": {},
   "outputs": [
    {
     "data": {
      "text/html": [
       "<style>#sk-container-id-2 {color: black;background-color: white;}#sk-container-id-2 pre{padding: 0;}#sk-container-id-2 div.sk-toggleable {background-color: white;}#sk-container-id-2 label.sk-toggleable__label {cursor: pointer;display: block;width: 100%;margin-bottom: 0;padding: 0.3em;box-sizing: border-box;text-align: center;}#sk-container-id-2 label.sk-toggleable__label-arrow:before {content: \"▸\";float: left;margin-right: 0.25em;color: #696969;}#sk-container-id-2 label.sk-toggleable__label-arrow:hover:before {color: black;}#sk-container-id-2 div.sk-estimator:hover label.sk-toggleable__label-arrow:before {color: black;}#sk-container-id-2 div.sk-toggleable__content {max-height: 0;max-width: 0;overflow: hidden;text-align: left;background-color: #f0f8ff;}#sk-container-id-2 div.sk-toggleable__content pre {margin: 0.2em;color: black;border-radius: 0.25em;background-color: #f0f8ff;}#sk-container-id-2 input.sk-toggleable__control:checked~div.sk-toggleable__content {max-height: 200px;max-width: 100%;overflow: auto;}#sk-container-id-2 input.sk-toggleable__control:checked~label.sk-toggleable__label-arrow:before {content: \"▾\";}#sk-container-id-2 div.sk-estimator input.sk-toggleable__control:checked~label.sk-toggleable__label {background-color: #d4ebff;}#sk-container-id-2 div.sk-label input.sk-toggleable__control:checked~label.sk-toggleable__label {background-color: #d4ebff;}#sk-container-id-2 input.sk-hidden--visually {border: 0;clip: rect(1px 1px 1px 1px);clip: rect(1px, 1px, 1px, 1px);height: 1px;margin: -1px;overflow: hidden;padding: 0;position: absolute;width: 1px;}#sk-container-id-2 div.sk-estimator {font-family: monospace;background-color: #f0f8ff;border: 1px dotted black;border-radius: 0.25em;box-sizing: border-box;margin-bottom: 0.5em;}#sk-container-id-2 div.sk-estimator:hover {background-color: #d4ebff;}#sk-container-id-2 div.sk-parallel-item::after {content: \"\";width: 100%;border-bottom: 1px solid gray;flex-grow: 1;}#sk-container-id-2 div.sk-label:hover label.sk-toggleable__label {background-color: #d4ebff;}#sk-container-id-2 div.sk-serial::before {content: \"\";position: absolute;border-left: 1px solid gray;box-sizing: border-box;top: 0;bottom: 0;left: 50%;z-index: 0;}#sk-container-id-2 div.sk-serial {display: flex;flex-direction: column;align-items: center;background-color: white;padding-right: 0.2em;padding-left: 0.2em;position: relative;}#sk-container-id-2 div.sk-item {position: relative;z-index: 1;}#sk-container-id-2 div.sk-parallel {display: flex;align-items: stretch;justify-content: center;background-color: white;position: relative;}#sk-container-id-2 div.sk-item::before, #sk-container-id-2 div.sk-parallel-item::before {content: \"\";position: absolute;border-left: 1px solid gray;box-sizing: border-box;top: 0;bottom: 0;left: 50%;z-index: -1;}#sk-container-id-2 div.sk-parallel-item {display: flex;flex-direction: column;z-index: 1;position: relative;background-color: white;}#sk-container-id-2 div.sk-parallel-item:first-child::after {align-self: flex-end;width: 50%;}#sk-container-id-2 div.sk-parallel-item:last-child::after {align-self: flex-start;width: 50%;}#sk-container-id-2 div.sk-parallel-item:only-child::after {width: 0;}#sk-container-id-2 div.sk-dashed-wrapped {border: 1px dashed gray;margin: 0 0.4em 0.5em 0.4em;box-sizing: border-box;padding-bottom: 0.4em;background-color: white;}#sk-container-id-2 div.sk-label label {font-family: monospace;font-weight: bold;display: inline-block;line-height: 1.2em;}#sk-container-id-2 div.sk-label-container {text-align: center;}#sk-container-id-2 div.sk-container {/* jupyter's `normalize.less` sets `[hidden] { display: none; }` but bootstrap.min.css set `[hidden] { display: none !important; }` so we also need the `!important` here to be able to override the default hidden behavior on the sphinx rendered scikit-learn.org. See: https://github.com/scikit-learn/scikit-learn/issues/21755 */display: inline-block !important;position: relative;}#sk-container-id-2 div.sk-text-repr-fallback {display: none;}</style><div id=\"sk-container-id-2\" class=\"sk-top-container\"><div class=\"sk-text-repr-fallback\"><pre>LinearRegression()</pre><b>In a Jupyter environment, please rerun this cell to show the HTML representation or trust the notebook. <br />On GitHub, the HTML representation is unable to render, please try loading this page with nbviewer.org.</b></div><div class=\"sk-container\" hidden><div class=\"sk-item\"><div class=\"sk-estimator sk-toggleable\"><input class=\"sk-toggleable__control sk-hidden--visually\" id=\"sk-estimator-id-2\" type=\"checkbox\" checked><label for=\"sk-estimator-id-2\" class=\"sk-toggleable__label sk-toggleable__label-arrow\">LinearRegression</label><div class=\"sk-toggleable__content\"><pre>LinearRegression()</pre></div></div></div></div></div>"
      ],
      "text/plain": [
       "LinearRegression()"
      ]
     },
     "execution_count": 115,
     "metadata": {},
     "output_type": "execute_result"
    }
   ],
   "source": [
    "regr = LinearRegression()\n",
    "regr.fit(X_nonan,Y_nonan)"
   ]
  },
  {
   "cell_type": "code",
   "execution_count": null,
   "id": "4252b015",
   "metadata": {},
   "outputs": [],
   "source": []
  },
  {
   "cell_type": "markdown",
   "id": "be16df9b",
   "metadata": {},
   "source": [
    "Pipeline for entire timeseries"
   ]
  },
  {
   "cell_type": "code",
   "execution_count": null,
   "id": "c8624df7",
   "metadata": {},
   "outputs": [],
   "source": [
    "class Pipeline:\n",
    "    \"\"\"\n",
    "    Linear Regression Pipeline\n",
    "    \"\"\"\n",
    "    def __init__(self,data,pc_alpha,pc_type='run_pcstable' or 'pcmci',pcmci_results=None,target='precip',seed=None):\n",
    "        self.pc_alpha = pc_alpha\n",
    "        self.data = data\n",
    "        self.pc_type = pc_type\n",
    "        self.target = target\n",
    "        self.pcmci_results = pcmci_results\n",
    "        \n",
    "    def flatten_array(self,index=None,normalize=True):\n",
    "        \"\"\"\n",
    "        Get concatenated time series\n",
    "        index: variable index to extract\n",
    "        \"\"\"\n",
    "        if normalize is True:\n",
    "            temp = np.concatenate([self.data[obj][:,int(self.pcmci_results[self.target][index])] \n",
    "                                   for obj in self.data.keys()])\n",
    "            return (temp-np.nanmean(temp))/np.nanstd(temp)\n",
    "        else:\n",
    "            return np.concatenate([self.data[obj][:,int(self.pcmci_results[self.target][index])] \n",
    "                                   for obj in self.data.keys()])\n",
    "    \n",
    "    def get_INPUTtimeseries(self):\n",
    "        storeresults = []\n",
    "        for ind,obj in enumerate(range(len(self.pcmci_results[self.target]))):\n",
    "            storeresults.append(self.flatten_array(obj,True))\n",
    "        return np.transpose(np.asarray(storeresults))\n",
    "    \n",
    "    def get_OUTPUTtimeseries(self):\n",
    "        if self.target=='precip':\n",
    "            return np.concatenate([self.data[obj][:,0] for obj in self.data.keys()])\n",
    "        elif self.target=='pmin':\n",
    "            return np.concatenate([self.data[obj][:,1] for obj in self.data.keys()])\n",
    "        elif self.target=='10wspd':\n",
    "            return np.concatenate([self.data[obj][:,2] for obj in self.data.keys()])\n",
    "    \n",
    "    def fit_transform(self,Xdata=None):\n",
    "        storeresults = []\n",
    "        for ind,obj in enumerate(range(len(self.pcmci_results[self.target]))):\n",
    "            temp = Xdata[:,int(self.pcmci_results[self.target][obj])]\n",
    "            tempn = (temp-np.nanmean(temp))/np.nanstd(temp)\n",
    "            storeresults.append(tempn)\n",
    "        return np.transpose(np.asarray(storeresults))\n",
    "        \n",
    "    def fit_model(self,X=None,y=None):\n",
    "        regr = LinearRegression()\n",
    "        return regr.fit(X,y)"
   ]
  },
  {
   "cell_type": "code",
   "execution_count": null,
   "id": "71aeb9ee",
   "metadata": {},
   "outputs": [],
   "source": [
    "Xtest = Pipeline(data,0.05,'pcmci',filtvarindex,'precip').fit_transform(ddwp['cyclone13'])"
   ]
  },
  {
   "cell_type": "code",
   "execution_count": null,
   "id": "5946ca38",
   "metadata": {},
   "outputs": [],
   "source": [
    "Xtrain = Pipeline(data,0.05,'pcmci',filtvarindex,'precip').get_INPUTtimeseries()\n",
    "ytrain = Pipeline(data,0.05,'pcmci',filtvarindex,'precip').get_OUTPUTtimeseries()"
   ]
  },
  {
   "cell_type": "code",
   "execution_count": null,
   "id": "f25e77d4",
   "metadata": {},
   "outputs": [],
   "source": [
    "linrgr_model1 = Pipeline(data,0.05,'pcmci',filtvarindex,'precip').fit_model(Xtrain,ytrain)"
   ]
  },
  {
   "cell_type": "code",
   "execution_count": null,
   "id": "649b8342",
   "metadata": {},
   "outputs": [],
   "source": [
    "plt.plot(ddwp['cyclone13'][:,0])\n",
    "plt.plot(linrgr_model1.predict(Xtest))\n",
    "plt.show()"
   ]
  },
  {
   "cell_type": "code",
   "execution_count": null,
   "id": "4e5249fe",
   "metadata": {},
   "outputs": [],
   "source": [
    "linrgr_model1.predict(Xtest)"
   ]
  },
  {
   "cell_type": "code",
   "execution_count": null,
   "id": "632bb432",
   "metadata": {},
   "outputs": [],
   "source": []
  },
  {
   "cell_type": "code",
   "execution_count": null,
   "id": "16d01c2f",
   "metadata": {},
   "outputs": [],
   "source": []
  },
  {
   "cell_type": "code",
   "execution_count": null,
   "id": "5d6b8605",
   "metadata": {},
   "outputs": [],
   "source": []
  }
 ],
 "metadata": {
  "kernelspec": {
   "display_name": "Python 3 (ipykernel)",
   "language": "python",
   "name": "python3"
  },
  "language_info": {
   "codemirror_mode": {
    "name": "ipython",
    "version": 3
   },
   "file_extension": ".py",
   "mimetype": "text/x-python",
   "name": "python",
   "nbconvert_exporter": "python",
   "pygments_lexer": "ipython3",
   "version": "3.8.12"
  }
 },
 "nbformat": 4,
 "nbformat_minor": 5
}
