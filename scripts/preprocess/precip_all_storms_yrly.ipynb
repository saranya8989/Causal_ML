{
 "cells": [
  {
   "cell_type": "code",
   "execution_count": 1,
   "id": "9311b425",
   "metadata": {},
   "outputs": [],
   "source": [
    "import pandas as pd\n",
    "import numpy as np\n",
    "import xarray as xr\n",
    "import netCDF4 as nf\n",
    "from netCDF4 import Dataset\n",
    "import glob,os\n",
    "%matplotlib inline\n",
    "\n",
    "import cartopy.crs as ccrs\n",
    "import matplotlib.pyplot as plt"
   ]
  },
  {
   "cell_type": "code",
   "execution_count": 2,
   "id": "a30aee99",
   "metadata": {},
   "outputs": [],
   "source": [
    "datapath=\"/work/FAC/FGSE/IDYST/tbeucler/default/saranya/Data/ECMWF/ERA5_25kmx3hr/\"\n",
    "path=\"/work/FAC/FGSE/IDYST/tbeucler/default/saranya/causal/besttracks/wp/\"\n",
    "target=\"/work/FAC/FGSE/IDYST/tbeucler/default/saranya/causal/create_ts/outputs/targets/\"\n",
    "\n",
    "#ds0=xr.open_dataset(datapath+'prate/tot_prec_2021.nc')\n"
   ]
  },
  {
   "cell_type": "markdown",
   "id": "3ce2f107-bc90-45bf-9681-86ada8786046",
   "metadata": {},
   "source": [
    "Total Integrated Precip."
   ]
  },
  {
   "cell_type": "code",
   "execution_count": 147,
   "id": "3e8b911b-a9b2-4450-88fe-ffbef8af16bb",
   "metadata": {},
   "outputs": [
    {
     "name": "stdout",
     "output_type": "stream",
     "text": [
      "prates_2000.nc\tprates_2007.nc\tprates_2014.nc\tprates_2021.nc\n",
      "prates_2001.nc\tprates_2008.nc\tprates_2015.nc\ttotprec_2001_2010.nc\n",
      "prates_2002.nc\tprates_2009.nc\tprates_2016.nc\ttotprec_2011_2020.nc\n",
      "prates_2003.nc\tprates_2010.nc\tprates_2017.nc\ttot_prec_2021.nc\n",
      "prates_2004.nc\tprates_2011.nc\tprates_2018.nc\n",
      "prates_2005.nc\tprates_2012.nc\tprates_2019.nc\n",
      "prates_2006.nc\tprates_2013.nc\tprates_2020.nc\n"
     ]
    }
   ],
   "source": [
    "!ls /work/FAC/FGSE/IDYST/tbeucler/default/saranya/Data/ECMWF/ERA5_25kmx3hr/prate"
   ]
  },
  {
   "cell_type": "code",
   "execution_count": 148,
   "id": "60b2497d-0c98-4040-8391-6b71ec5cadb1",
   "metadata": {},
   "outputs": [],
   "source": [
    "track = sorted(glob.glob(path+'wp_2021.csv'))"
   ]
  },
  {
   "cell_type": "code",
   "execution_count": 150,
   "id": "2a683151",
   "metadata": {},
   "outputs": [],
   "source": [
    "\n",
    "tracksDF = pd.read_csv(track[0])\n",
    "stormname = tracksDF['name'].unique()"
   ]
  },
  {
   "cell_type": "code",
   "execution_count": 151,
   "id": "7b3849f2-12b3-49a3-b6ed-5f842ef72542",
   "metadata": {},
   "outputs": [
    {
     "data": {
      "text/plain": [
       "array(['CHAMPI', 'IN-FA', 'LUPIT', 'OMAIS', 'CONSON', 'CHANTHU', 'RAI'],\n",
       "      dtype=object)"
      ]
     },
     "execution_count": 151,
     "metadata": {},
     "output_type": "execute_result"
    }
   ],
   "source": [
    "stormname"
   ]
  },
  {
   "cell_type": "code",
   "execution_count": 152,
   "id": "ee53f914",
   "metadata": {},
   "outputs": [],
   "source": [
    "##########function############\n",
    "def output_indices(TCtrack=None,ERA5date=None,ERA5hour=None):\n",
    "    allindices = []\n",
    "    for timeidx in range(len(TCtrack)):#len(track['time'])):\n",
    "        datetrack,hourtrack = TCtrack['time'][timeidx].split(':')[0],TCtrack['time'][timeidx].split(':')[1][0:2]\n",
    "        ####################################################################################################\n",
    "        # Find the indices in ERA5 data with the same date as track\n",
    "        ####################################################################################################\n",
    "        dateind = []\n",
    "        for ind,obj in enumerate(ERA5date):\n",
    "            if obj==datetrack:\n",
    "                dateind.append(ind)\n",
    "        del ind,obj\n",
    "        hourind = []\n",
    "        hourextract = ERA5hour[int(np.min(np.asarray(dateind))):int(np.max(np.asarray(dateind)))+1]\n",
    "        for ind,obj in enumerate(hourextract):\n",
    "            if obj==hourtrack:            \n",
    "                hourind.append(ind)\n",
    "        allindices.append((int(np.min(np.asarray(dateind))),int(hourind[0])))\n",
    "    return allindices\n",
    "\n",
    "def extract_var(dataset=None,var='var138',indices=None):\n",
    "    extractedvar = []\n",
    "    for i in (range(len(indices))):\n",
    "        realindex = indices[i][0]+indices[i][1]\n",
    "        extractedvar.append(dataset[var][int(realindex),...].data)\n",
    "    return np.asarray(extractedvar)\n",
    "\n",
    "def extract_varnotransform(dataset=None,var='var138',indices=None):\n",
    "    extractedvar = []\n",
    "    for i in (range(len(indices))):\n",
    "        realindex = indices[i][0]+indices[i][1]\n",
    "        extractedvar.append(dataset[var][int(realindex),...])\n",
    "    return (extractedvar)\n",
    "\n",
    "def smallarea(dataset=None,invar=None,indices=None,tc_irad=None):\n",
    "    if len(invar.shape) != 3:\n",
    "        invar = np.squeeze(invar)\n",
    "    ds = xr.Dataset(\n",
    "    data_vars=dict(variable=([\"time\",\"lat\",\"lon\"], invar)),#mysvar[0])),\n",
    "    coords=dict(lat=([\"lat\"], dataset.lat.data),lon=([\"lon\"], dataset.lon.data),time=([\"time\"], np.linspace(0,len(indices)-1,len(indices)))),\n",
    "    attrs=dict(description=\"coords with matrices\"),)\n",
    "    \n",
    "    LATN,LATS,LONE,LONW = tc_irad[0,:]\n",
    "    testsmall = ds['variable'][0,:,:].sel(lat=slice(LATS,LATN),lon=slice(LONE,LONW))\n",
    "    if testsmall.shape[0]<testsmall.shape[1]:\n",
    "        rgspt = int(testsmall.shape[0])\n",
    "    else:\n",
    "        rgspt = int(testsmall.shape[1])\n",
    "    rgspt=16\n",
    "    var_out=np.zeros((len(indices),rgspt,rgspt))\n",
    "    del testsmall\n",
    "    \n",
    "    for it in range(len(indices)):\n",
    "        latn, lats, lone, lonw = tc_irad[it,:]\n",
    "        try:\n",
    "            var_out[it,:,:]=ds['variable'][it,:,:].sel(lat=slice(lats,latn),lon=slice(lone,lonw))\n",
    "        except:\n",
    "            var_out[it,:,:]=ds['variable'][it,:,:].sel(lat=slice(lats,latn),lon=slice(lone,lonw))[0:rgspt,0:rgspt]\n",
    "    return var_out\n",
    "\n",
    "def largearea_withpres(dataset=None,invar=None,indices=None,tc_irad=None,rgspthard=16):\n",
    "    ds = xr.Dataset(\n",
    "    data_vars=dict(variable=([\"time\",\"plev\",\"lat\",\"lon\"], invar)),#mysvar[0])),\n",
    "    coords=dict(lat=([\"lat\"], dataset.lat.data),lon=([\"lon\"], dataset.lon.data),time=([\"time\"], np.linspace(0,len(indices)-1,len(indices))),\n",
    "               plev=([\"plev\"],dataset.plev.data)),\n",
    "    attrs=dict(description=\"coords with matrices\"),)\n",
    "    \n",
    "    LATN,LATS,LONE,LONW = tc_irad[0,:]\n",
    "    testsmall = ds['variable'][0,0,:,:].sel(lat=slice(LATS,LATN),lon=slice(LONE,LONW))\n",
    "    if testsmall.shape[0]<testsmall.shape[1]:\n",
    "        rgspt = int(testsmall.shape[0])\n",
    "    else:\n",
    "        rgspt = int(testsmall.shape[1])\n",
    "    rgspt=rgspthard\n",
    "    var_out=np.zeros((len(indices),len(dataset.plev.data),rgspt,rgspt))\n",
    "    del testsmall\n",
    "    \n",
    "    for it in range(len(indices)):\n",
    "        latn, lats, lone, lonw = tc_irad[it,:]\n",
    "        for ip in range(len(dm1.plev.data)):\n",
    "            try:\n",
    "                var_out[it,ip,:,:]=ds['variable'][it,ip,:,:].sel(lat=slice(lats,latn),lon=slice(lone,lonw))\n",
    "            except:\n",
    "                var_out[it,ip,:,:]=ds['variable'][it,ip,:,:].sel(lat=slice(lats,latn),lon=slice(lone,lonw))[0:rgspt,0:rgspt]\n",
    "    return var_out"
   ]
  },
  {
   "cell_type": "code",
   "execution_count": 153,
   "id": "da00bfbc",
   "metadata": {},
   "outputs": [],
   "source": [
    "def readyear_automatic(raindata=None,year=None):\n",
    "    dm2 = xr.open_dataset(datapath+'/slev_vars/svars_'+str(year)+'.nc')\n",
    "    #tracklist = sorted(glob.glob('/work/FAC/FGSE/IDYST/tbeucler/default/saranya/causal/besttracks/nio/*_'+str(year)+'*'))\n",
    "    era5_date = [str(dm2.time[i].data).split('T')[0] for i in range(len(dm2.time))]\n",
    "    era5_hour = [str(dm2.time[i].data).split('T')[1][0:2] for i in range(len(dm2.time))]\n",
    "    \n",
    "    era5_raindate = [str(raindata.time[i].data).split('T')[0] for i in range(len(raindata.time))]\n",
    "    era5_rainhour = [str(raindata.time[i].data).split('T')[1][0:2] for i in range(len(raindata.time))]\n",
    "    return dm2,era5_date,era5_hour,era5_raindate,era5_rainhour\n",
    "\n",
    "dm_svar,svar_date,svar_hour,rain_date,rain_hour = readyear_automatic(ds0,2021)"
   ]
  },
  {
   "cell_type": "code",
   "execution_count": 154,
   "id": "9ad77194",
   "metadata": {},
   "outputs": [],
   "source": [
    "#for dm1 files functions\n",
    "def make_timeseries_step1(TCname=None,era5_date=None,era5_hour=None):\n",
    "    track=tracksDF[tracksDF['name']==TCname].reset_index()\n",
    "    lon1=track['lon'].to_numpy()\n",
    "    lat1=track['lat'].to_numpy()\n",
    "    pos = np.stack((lat1, lon1), axis=1)\n",
    "    ###########################################################################\n",
    "    indices_store = output_indices(track,era5_date,era5_hour)\n",
    "    ###########################################################################\n",
    "    tc_irad=np.empty((len(indices_store),4))\n",
    "    tc_irad[:,0] = pos[:,0]-5\n",
    "    tc_irad[:,1] = pos[:,0]+5\n",
    "    tc_irad[:,2] = pos[:,1]-5\n",
    "    tc_irad[:,3] = pos[:,1]+5\n",
    "    return pos,indices_store,tc_irad\n",
    "\n",
    "def make_timeseries_step3(dm1=None,pvarname=None,pvardict=None,indices_store=None):\n",
    "    ts_pdict = {}\n",
    "    for ind,obj in (enumerate(pvarname)):\n",
    "        pvarTS_store = []\n",
    "        for plevv in range(len(dm1.plev.data)):\n",
    "            tempvar = pvardict[pvarname[ind]][:,plevv,...]\n",
    "            tempts = [tempvar[i,...].flatten() for i in range(len(indices_store))]\n",
    "            tempTSERIES = [np.nanmean(obj) for obj in tempts]\n",
    "            pvarTS_store.append(tempTSERIES)\n",
    "        ts_pdict[pvarname[ind]] = np.asarray(pvarTS_store).transpose()\n",
    "    return ts_pdict\n",
    "\n",
    "def preproc_integration(array_precip=None,array_cloud=None,cloudmaskvalue=None):\n",
    "    pprm = array_precip.copy().flatten()\n",
    "    pprm[array_cloud.copy().flatten()<cloudmaskvalue] = 0\n",
    "    return pprm.reshape(array_precip.shape)"
   ]
  },
  {
   "cell_type": "code",
   "execution_count": 155,
   "id": "22cc1910",
   "metadata": {},
   "outputs": [
    {
     "name": "stderr",
     "output_type": "stream",
     "text": [
      "100%|████████████████████████████████████████████████████████████████████████████████████████████████████████████████████████████████████████████████████████████████████████| 7/7 [00:14<00:00,  2.00s/it]\n"
     ]
    }
   ],
   "source": [
    "#precipitation target\n",
    "from tqdm import tqdm\n",
    "TCprecip_ts = []\n",
    "for TCname in tqdm(stormname):\n",
    "    ###########################################################################\n",
    "    pos,indices_store,tc_irad = make_timeseries_step1(TCname=TCname,era5_date=svar_date,era5_hour=svar_hour)\n",
    "    _,rainindices_store,_ = make_timeseries_step1(TCname=TCname,era5_date=rain_date,era5_hour=rain_hour)\n",
    "    \n",
    "    svar0 = extract_varnotransform(dataset=dm_svar,var='var79',indices=indices_store)\n",
    "    svar1 = extract_varnotransform(dataset=dm_svar,var='var78',indices=indices_store)\n",
    "    clouds = svar0+svar1\n",
    "    \n",
    "    precip = extract_varnotransform(dataset=ds0,var='var228',indices=rainindices_store)\n",
    "    \n",
    "    ppr=np.zeros((pos.shape[0],40,40))\n",
    "    pp=np.zeros((tc_irad.shape[0],))\n",
    "    ppm=np.zeros((tc_irad.shape[0],))\n",
    "    ppmaskcloud = np.zeros((pos.shape[0],40,40))\n",
    "    for it in range(tc_irad.shape[0]):\n",
    "        #precip_nan=precip.where(precip>0, other='nan')\n",
    "        latn, lats, lone, lonw = tc_irad[it,:]\n",
    "        ppr[it,:,:]=precip[it].sel(lat=slice(lats,latn),lon=slice(lone,lonw))[0:40,0:40]\n",
    "        ppmaskcloud[it,:,:]=clouds[it].sel(lat=slice(lats,latn),lon=slice(lone,lonw))[0:40,0:40]\n",
    "        ppm[it]=np.nanmax(ppr[it,:,:])*1000\n",
    "    ###########################################################################\n",
    "    cloudmaskvalue = np.nanpercentile(ppmaskcloud[...].flatten(),10)\n",
    "    masked_precip = [preproc_integration(ppr[i,...],ppmaskcloud[i,...],cloudmaskvalue) for i in range(ppr.shape[0])]\n",
    "    p=(np.trapz(np.trapz(np.asarray(masked_precip),dx=25,axis=1),dx=25,axis=1))\n",
    "    ###########################################################################\n",
    "    smallpvarout = [ppm,p]\n",
    "    pvarname = ['tot_Prec_max','tot_Prec_Intg']\n",
    "    pvardict = {varnameobj:varobj for (varnameobj,varobj) in zip(pvarname,smallpvarout)}\n",
    "    #ts_pdict = make_timeseries_step3(dm1=dm1,pvarname=pvarname,pvardict=pvardict,indices_store=indices_store)\n",
    "    #############################################################################################\n",
    "    TCprecip_ts.append(pvardict)"
   ]
  },
  {
   "cell_type": "code",
   "execution_count": 156,
   "id": "46ee5d8d",
   "metadata": {},
   "outputs": [
    {
     "data": {
      "image/png": "[encoded data removed]",
      "text/plain": [
       "<Figure size 432x288 with 1 Axes>"
      ]
     },
     "metadata": {
      "needs_background": "light"
     },
     "output_type": "display_data"
    }
   ],
   "source": [
    "plt.plot(TCprecip_ts[0]['tot_Prec_max'])\n",
    "plt.show()"
   ]
  },
  {
   "cell_type": "code",
   "execution_count": 157,
   "id": "a987ee95-4a0b-4cf4-a1cb-e3efe6af06a2",
   "metadata": {},
   "outputs": [
    {
     "name": "stdout",
     "output_type": "stream",
     "text": [
      "cat: /work/FAC/FGSE/IDYST/tbeucler/default/saranya/causal/create_ts/outputs/targets/2003: No such file or directory\n"
     ]
    }
   ],
   "source": [
    "! cat /work/FAC/FGSE/IDYST/tbeucler/default/saranya/causal/create_ts/outputs/targets/2003"
   ]
  },
  {
   "cell_type": "code",
   "execution_count": 158,
   "id": "70c88a3e",
   "metadata": {},
   "outputs": [],
   "source": [
    "storeTCdicts = {}\n",
    "for ind in range(len(TCprecip_ts)):\n",
    "    storeTCdicts[stormname[ind]] = pd.DataFrame.from_dict(TCprecip_ts[ind])"
   ]
  },
  {
   "cell_type": "code",
   "execution_count": 159,
   "id": "e8a3309b",
   "metadata": {},
   "outputs": [],
   "source": [
    "for ind,obj in enumerate(stormname):\n",
    "    storeTCdicts[obj].to_csv(target+'2021_precipvar_wpac_2021'+str(obj)+'.csv')"
   ]
  },
  {
   "cell_type": "markdown",
   "id": "46c554fa-a11d-43f4-bebc-03a1a2a45737",
   "metadata": {},
   "source": [
    "The script ends here!!"
   ]
  },
  {
   "cell_type": "code",
   "execution_count": null,
   "id": "5bcded21",
   "metadata": {},
   "outputs": [],
   "source": []
  }
 ],
 "metadata": {
  "kernelspec": {
   "display_name": "Python 3 (ipykernel)",
   "language": "python",
   "name": "python3"
  },
  "language_info": {
   "codemirror_mode": {
    "name": "ipython",
    "version": 3
   },
   "file_extension": ".py",
   "mimetype": "text/x-python",
   "name": "python",
   "nbconvert_exporter": "python",
   "pygments_lexer": "ipython3",
   "version": "3.8.12"
  }
 },
 "nbformat": 4,
 "nbformat_minor": 5
}
