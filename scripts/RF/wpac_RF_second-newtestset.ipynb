{
 "cells": [
  {
   "cell_type": "code",
   "execution_count": 1,
   "id": "b5936ed9-a175-4083-9a6c-dc48ccf456e9",
   "metadata": {},
   "outputs": [],
   "source": [
    "# Imports\n",
    "import numpy as np\n",
    "import matplotlib\n",
    "from matplotlib import pyplot as plt\n",
    "%matplotlib inline     \n",
    "import pandas as pd\n",
    "import numpy as np\n",
    "import glob,os\n",
    "from tqdm.auto import tqdm\n",
    "import math\n",
    "import sklearn\n",
    "from sklearn.linear_model import LinearRegression\n",
    "import pickle\n",
    "import rfreg_funcs\n",
    "from sklearn.metrics import r2_score"
   ]
  },
  {
   "cell_type": "code",
   "execution_count": 29,
   "id": "e97944cf-d387-4111-bca4-d29c312c2d95",
   "metadata": {},
   "outputs": [],
   "source": [
    "precip_df = rfreg_funcs.depickle('./store/rf_feature/8_24_rfreg_v10_firstbatch.pkl')"
   ]
  },
  {
   "cell_type": "code",
   "execution_count": 20,
   "id": "2cfbb411-b7e1-4678-8480-bc44ae23aa65",
   "metadata": {},
   "outputs": [],
   "source": [
    "import sys\n",
    "sys.path.insert(1,'../')\n",
    "import preprocess\n",
    "p1=\"../../timeseries_csv/ts_wp/\"\n",
    "p2=\"../../../targets/\"\n",
    "\n",
    "ds47=preprocess._process_dataset(glob.glob(p1+'*2010OMAIS*')[0])\n",
    "tcwp47=ds47.values\n",
    "var_names=ds47.columns.values.tolist()\n",
    "\n",
    "varindices, lagindices = np.linspace(0,233,233+1),np.linspace(-24,-8,17)\n",
    "var_and_lagsALL = []\n",
    "for ind,obj in enumerate(varindices):\n",
    "    var_and_lagsALL.append([(int(obj),int(bb)) for bb in lagindices])"
   ]
  },
  {
   "cell_type": "code",
   "execution_count": 7,
   "id": "3b1cc6ae-396d-4ad1-8203-847811c2ca7e",
   "metadata": {},
   "outputs": [],
   "source": [
    "from sklearn.metrics import r2_score,mean_squared_error,mean_absolute_error\n",
    "X,y = rfreg_funcs.depickle('./store/Xsaved_8_24'),rfreg_funcs.depickle('./store/ysaved_8_24')"
   ]
  },
  {
   "cell_type": "code",
   "execution_count": 30,
   "id": "b4a34003-3edc-494b-99b9-108d910cc6d3",
   "metadata": {
    "tags": []
   },
   "outputs": [],
   "source": [
    "target = 'v10'\n",
    "r2_train = ([r2_score(y[target]['train'],model.predict(X[target]['train'])) for model in precip_df['models']])\n",
    "r2_valid = ([r2_score(y[target]['valid'],model.predict(X[target]['valid'])) for model in precip_df['models']])\n",
    "r2_test_old = ([r2_score(y[target]['test'],model.predict(X[target]['test'])) for model in precip_df['models']])\n",
    "r2_test_new = ([r2_score(y[target]['newtest'],model.predict(X[target]['newtest'])) for model in precip_df['models']])"
   ]
  },
  {
   "cell_type": "code",
   "execution_count": 8,
   "id": "18db701f-e171-4851-b7e4-49a93b206e27",
   "metadata": {},
   "outputs": [
    {
     "data": {
      "text/plain": [
       "(0.7865097142167998, 0.8789279982491565, 0.7409038798278823, 10)"
      ]
     },
     "execution_count": 8,
     "metadata": {},
     "output_type": "execute_result"
    }
   ],
   "source": [
    "v10=np.asarray(r2_test_new).max(),np.asarray(r2_train).max(),np.asarray(r2_test_old).max(),np.asarray(r2_test_old).argmax()\n",
    "v10"
   ]
  },
  {
   "cell_type": "code",
   "execution_count": 31,
   "id": "29089147-770d-4131-ab30-1013a58b026f",
   "metadata": {},
   "outputs": [
    {
     "data": {
      "text/plain": [
       "RandomForestRegressor(max_depth=60, min_samples_leaf=60, min_samples_split=120)"
      ]
     },
     "execution_count": 31,
     "metadata": {},
     "output_type": "execute_result"
    }
   ],
   "source": [
    "precip_df['models'][np.asarray(r2_test_old).argmax()]"
   ]
  },
  {
   "cell_type": "code",
   "execution_count": 23,
   "id": "1587f049-1f62-49bc-be54-847f1bf592d1",
   "metadata": {},
   "outputs": [
    {
     "name": "stdout",
     "output_type": "stream",
     "text": [
      "[46252.724650715165, 100034.85232630881, 102161.00271408762]\n"
     ]
    }
   ],
   "source": [
    "model = precip_df['models'][np.asarray(r2_test_old).argmax()]\n",
    "target = 'v10'\n",
    "print([mean_squared_error(y[target]['train'],model.predict(X[target]['train'])),\\\n",
    "  mean_squared_error(y[target]['valid']+y[target]['test'],model.predict(X[target]['valid']+X[target]['test'])),\\\n",
    "  mean_squared_error(y[target]['newtest'],model.predict(X[target]['newtest']))])"
   ]
  },
  {
   "cell_type": "code",
   "execution_count": 32,
   "id": "8854407d-c1d7-4409-93d1-08dcf5ba0294",
   "metadata": {},
   "outputs": [
    {
     "name": "stdout",
     "output_type": "stream",
     "text": [
      "[1.5040293409175347, 2.174481973996568, 1.9955470466586385]\n"
     ]
    }
   ],
   "source": [
    "model = precip_df['models'][np.asarray(r2_test_old).argmax()]\n",
    "target = 'v10'\n",
    "print([mean_absolute_error(y[target]['train'],model.predict(X[target]['train'])),\\\n",
    "  mean_absolute_error(y[target]['valid']+y[target]['test'],model.predict(X[target]['valid']+X[target]['test'])),\\\n",
    "  mean_absolute_error(y[target]['newtest'],model.predict(X[target]['newtest']))])"
   ]
  },
  {
   "cell_type": "code",
   "execution_count": 24,
   "id": "a12ffa9b-a5fc-4a61-a6cd-0fbf1bc7f074",
   "metadata": {},
   "outputs": [
    {
     "data": {
      "text/plain": [
       "(0.5819247942533833, 0.7517649272314094, 0.6500373708737699)"
      ]
     },
     "execution_count": 24,
     "metadata": {},
     "output_type": "execute_result"
    }
   ],
   "source": [
    "precip=np.asarray(r2_test_new).max(),np.asarray(r2_train).max(),np.asarray(r2_test_old).max()\n",
    "precip"
   ]
  },
  {
   "cell_type": "code",
   "execution_count": 20,
   "id": "b44d003c-56db-4a07-8f48-2098a94ecc52",
   "metadata": {},
   "outputs": [
    {
     "data": {
      "text/plain": [
       "(0.8884124116911621, 0.9253897631544334, 0.7698719550029873)"
      ]
     },
     "execution_count": 20,
     "metadata": {},
     "output_type": "execute_result"
    }
   ],
   "source": [
    "pmin=np.asarray(r2_test_new).max(),np.asarray(r2_train).max(),np.asarray(r2_test_old).max()\n",
    "pmin"
   ]
  },
  {
   "cell_type": "code",
   "execution_count": 55,
   "id": "0b64e65c-e46c-4d41-bbe5-9f153f6f8327",
   "metadata": {},
   "outputs": [],
   "source": [
    "#permute_precip_bestmodel = rfreg_funcs._get_importance_ranking(model=precip_df['models'][8],TYPE='permutation',index=var_and_lagsALL,X=X['precip'],y=y['precip'])\n",
    "gini_precip_bestmodel = rfreg_funcs._get_importance_ranking(model=precip_df['models'][int(np.asarray(r2_test_new).argmax())],\\\n",
    "                                                          TYPE='gini',index=var_and_lagsALL,X=X['v10'],y=y['v10'])\n",
    "gini_importance_store = rfreg_funcs.sorted_importance(importances=gini_precip_bestmodel)"
   ]
  },
  {
   "cell_type": "code",
   "execution_count": 56,
   "id": "5e7066ba-0afb-4ecc-a7e9-771f8c558d30",
   "metadata": {},
   "outputs": [],
   "source": [
    "import importlib\n",
    "importlib.reload(rfreg_funcs)\n",
    "rfreg_funcs.save_to_pickle('./store/rf_feature/rfbest_v10_gini_8_24.pkl',list(gini_importance_store['Combination']))"
   ]
  },
  {
   "cell_type": "code",
   "execution_count": 28,
   "id": "abc3bee5-ecce-4eff-b93a-62510a3313a4",
   "metadata": {},
   "outputs": [
    {
     "data": {
      "text/plain": [
       "0          (1, -8)\n",
       "1        (15, -24)\n",
       "2         (42, -8)\n",
       "3         (43, -8)\n",
       "4       (191, -13)\n",
       "           ...    \n",
       "3973     (92, -17)\n",
       "3974     (92, -16)\n",
       "3975     (92, -15)\n",
       "3976     (92, -13)\n",
       "3977     (233, -8)\n",
       "Name: Combination, Length: 3978, dtype: object"
      ]
     },
     "execution_count": 28,
     "metadata": {},
     "output_type": "execute_result"
    }
   ],
   "source": [
    "gini_importance_store['Combination']"
   ]
  },
  {
   "cell_type": "code",
   "execution_count": 1,
   "id": "82820012-abfd-479b-9ae5-0b648bd5d2c1",
   "metadata": {},
   "outputs": [],
   "source": [
    "TABLEname = 'CI_Paper_Results'\n",
    "path_TXT = './'\n",
    "path = path_TXT+TABLEname+\".txt\"\n",
    "\n",
    "topline1 = \" & & Training Set & \\\\textbf{Validation Set} & Training Set & Training Set\\\\tabularnewline\\n\"\n",
    "topline2 = \"Trained & Model & Same temperature & Same temperature & \\\\textbf{Different temperature} & Same temperature\\\\tabularnewline\\n\"\n",
    "topline3 = \"on & & Same geography & Same geography & Same geography & \\\\textbf{Different geography}\\\\tabularnewline\\n\"\n",
    "\n",
    "caption = \"Mean-Squared Error (MSE, in units W$^{2}$ m$^{-4}$) of six models trained in three simulations (first column)\"+\\\n",
    "\" and evaluated over the training or validation set of the same and two other simulations (last four columns).\"+\\\n",
    "\" The models (second column) are brute-force (BF) or climate-invariant (CI), multiple linear regressions (MLR) \"+\\\n",
    "\"or neural nets (NN), and sometimes include dropout layers preceded by a batch normalization layer (DN).\"+\\\n",
    "\" The models are trained for 20 epochs and we give the MSE corresponding to the epoch of minimal validation loss\"+\\\n",
    "\" followed by the MSE averaged over the 5 epochs with lowest validation losses (in parentheses).\"\n",
    "\n",
    "COLOR = ['black','purple','black','teal','purple','teal']\n",
    "MODEL = [[\" & MLR BF\",\n",
    "          \"\\\\textcolor{blue}{Cold} & \\\\textcolor{purple}{MLR CI}\",\n",
    "          \"\\\\textcolor{blue}{Aquaplanet} & NN BF\",\n",
    "          \"\\\\textcolor{blue}{(-4K)} & \\\\textcolor{teal}{NN BF+DN}\",\n",
    "          \"SPCAM3 & \\\\textcolor{purple}{NN CI}\",\n",
    "          \" & \\\\textcolor{teal}{NN CI+DN}\"],\n",
    "         [\" & MLR BF\",\n",
    "          \"\\\\textcolor{red}{Warm} & \\\\textcolor{purple}{MLR CI}\",\n",
    "          \"\\\\textcolor{red}{Aquaplanet} & NN BF\",\n",
    "          \"\\\\textcolor{red}{(+4K)} & \\\\textcolor{teal}{NN BF+DN}\",\n",
    "          \"SPCAM3 & \\\\textcolor{purple}{NN CI}\",\n",
    "          \" & \\\\textcolor{teal}{NN CI+DN}\"],\n",
    "         [\" & MLR BF\",\n",
    "          \"\\\\textcolor{green}{Cold} & \\\\textcolor{purple}{MLR CI}\",\n",
    "          \"\\\\textcolor{green}{Earth-like} & NN BF\",\n",
    "          \"\\\\textcolor{green}{(-4K)} & \\\\textcolor{teal}{NN BF+DN}\",\n",
    "          \"SPCAM5 & \\\\textcolor{purple}{NN CI}\",\n",
    "          \" & \\\\textcolor{teal}{NN CI+DN}\"]]"
   ]
  },
  {
   "cell_type": "code",
   "execution_count": null,
   "id": "142d54c1-ab56-4a21-b9ba-4d4810feec62",
   "metadata": {},
   "outputs": [],
   "source": [
    "MSE_array = [0,0,0"
   ]
  },
  {
   "cell_type": "code",
   "execution_count": 3,
   "id": "c22eb8a8-a194-4386-bb64-6e575dac496d",
   "metadata": {},
   "outputs": [
    {
     "name": "stdout",
     "output_type": "stream",
     "text": [
      "Table CI_Paper_Results printed to ./CI_Paper_Results.txt\n"
     ]
    }
   ],
   "source": [
    "f= open(path,\"w+\")\n",
    "f.write(\"\\\\begin{table*}\\n\")\n",
    "f.write(\"\\\\begin{centering}\\n\")\n",
    "f.write(\"\\\\begin{tabular}{c|c||c|c|c|c}\\n\")\n",
    "f.write(topline1)\n",
    "f.write(topline2)\n",
    "f.write(topline3)\n",
    "for itrain in range(3):\n",
    "    f.write(\"\\\\hline\\n\")\n",
    "    for imodel in range(6):\n",
    "        f.write(MODEL[itrain][imodel])\n",
    "        for itest in range(4):\n",
    "            f.write(\" & \")\n",
    "            f.write(\"\\\\textcolor{\"+COLOR[imodel]+\"}{\")\n",
    "            f.write(\"%3.0f\"%0.677+\" \")\n",
    "            f.write(\"(\"+\"%3.0f\"%0.988+\") \")\n",
    "            f.write(\"}\")\n",
    "        f.write(\"\\\\tabularnewline\\n\")\n",
    "f.write(\"\\\\end{tabular}\\n\")\n",
    "f.write(\"\\\\par\\\\end{centering}\\n\")\n",
    "f.write(\"\\n\")\n",
    "f.write(\"\\\\caption{\")\n",
    "f.write(caption)\n",
    "f.write(\"}\\n\")\n",
    "f.write(\"\\\\label{tab:Results}\\n\")\n",
    "f.write(\"\\\\end{table*}\\n\")\n",
    "f.close()\n",
    "print('Table',TABLEname,'printed to',path)"
   ]
  },
  {
   "cell_type": "code",
   "execution_count": null,
   "id": "29bac06d-912b-4f3f-8865-77780e56e4ee",
   "metadata": {},
   "outputs": [],
   "source": [
    "\n",
    "\\begin{table}\n",
    "\\begin{centering}\n",
    "\\begin{tabular}{cc|c|c|c|c|c|c|c|c|c|c}\n",
    "\\multicolumn{2}{c}{ML Models} & \\multicolumn{3}{c}{Training} & \\multicolumn{3}{c}{Validation} & \\multicolumn{3}{c|}{Test } & \\tabularnewline\n",
    "\\hline \n",
    "\\multicolumn{2}{c|}{\\textbf{Target}} & Pmin (hPa)\\textcolor{purple}{{} } & V10 (m/s) & Precip (km\\textasciicircum 3) & Pmin (hPa)\\textcolor{purple}{{} } & V10 (m/s) & Precip (km\\textasciicircum 3) & Pmin (hPa)\\textcolor{purple}{{} } & V10 (m/s) & Precip (km\\textasciicircum 3) & \\tabularnewline\n",
    "\\cline{3-12} \\cline{4-12} \\cline{5-12} \\cline{6-12} \\cline{7-12} \\cline{8-12} \\cline{9-12} \\cline{10-12} \\cline{11-12} \\cline{12-12} \n",
    "\\multicolumn{2}{c|}{\\textbf{Causal RF}} & 5.3 & 11 & 11 & 11 & 11 & 11 & 11 & 11 & 11 & \\tabularnewline\n",
    "\\hline \n",
    "\\multicolumn{2}{c|}{\\textbf{Causal MLR}} &  &  &  &  &  &  &  &  &  & \\tabularnewline\n",
    "\\hline \n",
    "\\multirow{3}{*}{\\textbf{Non-causal RF}} & All & 0.93 & 0.88 & 0.75 & 0.77 & 0.74 & 0.65 & 0.89 & 0.79 & 0.58 & \\tabularnewline\n",
    "\\cline{2-12} \\cline{3-12} \\cline{4-12} \\cline{5-12} \\cline{6-12} \\cline{7-12} \\cline{8-12} \\cline{9-12} \\cline{10-12} \\cline{11-12} \\cline{12-12} \n",
    " & Lagged &  &  &  &  &  &  &  &  &  & \\tabularnewline\n",
    "\\cline{2-12} \\cline{3-12} \\cline{4-12} \\cline{5-12} \\cline{6-12} \\cline{7-12} \\cline{8-12} \\cline{9-12} \\cline{10-12} \\cline{11-12} \\cline{12-12} \n",
    " & Random &  &  &  &  &  &  &  &  &  & \\tabularnewline\n",
    "\\hline \n",
    "\\multirow{4}{*}{\\textbf{Non-causal MLR}} & All & 0.99 & 0.98 & 0.96 & -0.94 & -10.85 & -127.98 & 0.51 & -0.01 & -0.39 & \\tabularnewline\n",
    "\\cline{2-12} \\cline{3-12} \\cline{4-12} \\cline{5-12} \\cline{6-12} \\cline{7-12} \\cline{8-12} \\cline{9-12} \\cline{10-12} \\cline{11-12} \\cline{12-12} \n",
    " & Lagged &  &  &  &  &  &  &  &  &  & \\tabularnewline\n",
    "\\cline{2-12} \\cline{3-12} \\cline{4-12} \\cline{5-12} \\cline{6-12} \\cline{7-12} \\cline{8-12} \\cline{9-12} \\cline{10-12} \\cline{11-12} \\cline{12-12} \n",
    " & Random &  &  &  &  &  &  &  &  &  & \\tabularnewline\n",
    "\\cline{2-12} \\cline{3-12} \\cline{4-12} \\cline{5-12} \\cline{6-12} \\cline{7-12} \\cline{8-12} \\cline{9-12} \\cline{10-12} \\cline{11-12} \\cline{12-12} \n",
    " & XAI &  &  &  &  &  &  &  &  &  & \\tabularnewline\n",
    "\\cline{1-1} \\cline{3-12} \\cline{4-12} \\cline{5-12} \\cline{6-12} \\cline{7-12} \\cline{8-12} \\cline{9-12} \\cline{10-12} \\cline{11-12} \\cline{12-12} \n",
    "\\multicolumn{2}{c|}{\\textbf{LSTM}} & 0.87 & 0.81 & 0.71 & 0.77 & 0.75 & 0.65 & 0.81 & 0.75 & 0.61 & \\tabularnewline\n",
    "\\hline \n",
    "\\end{tabular}\n",
    "\\par\\end{centering}\n",
    "\\caption{}\n",
    "\n",
    "\\end{table}"
   ]
  }
 ],
 "metadata": {
  "kernelspec": {
   "display_name": "Python 3 (ipykernel)",
   "language": "python",
   "name": "python3"
  },
  "language_info": {
   "codemirror_mode": {
    "name": "ipython",
    "version": 3
   },
   "file_extension": ".py",
   "mimetype": "text/x-python",
   "name": "python",
   "nbconvert_exporter": "python",
   "pygments_lexer": "ipython3",
   "version": "3.8.12"
  }
 },
 "nbformat": 4,
 "nbformat_minor": 5
}
